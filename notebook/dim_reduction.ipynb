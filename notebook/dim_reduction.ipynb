{
 "cells": [
  {
   "cell_type": "markdown",
   "metadata": {
    "id": "0syGo573gNq3"
   },
   "source": [
    "# Import Packages "
   ]
  },
  {
   "cell_type": "code",
   "execution_count": 1,
   "metadata": {
    "id": "fTuiwvRgf_aZ"
   },
   "outputs": [],
   "source": [
    "import numpy as np\n",
    "import pandas as pd\n",
    "from scipy.spatial import distance\n",
    "import os\n",
    "import glob"
   ]
  },
  {
   "cell_type": "markdown",
   "metadata": {
    "id": "_r0HS5Nyh1U8"
   },
   "source": [
    "## Load Dataframe"
   ]
  },
  {
   "cell_type": "code",
   "execution_count": 2,
   "metadata": {
    "id": "GdgvvCuEh1rq"
   },
   "outputs": [
    {
     "data": {
      "text/html": [
       "<div>\n",
       "<style scoped>\n",
       "    .dataframe tbody tr th:only-of-type {\n",
       "        vertical-align: middle;\n",
       "    }\n",
       "\n",
       "    .dataframe tbody tr th {\n",
       "        vertical-align: top;\n",
       "    }\n",
       "\n",
       "    .dataframe thead th {\n",
       "        text-align: right;\n",
       "    }\n",
       "</style>\n",
       "<table border=\"1\" class=\"dataframe\">\n",
       "  <thead>\n",
       "    <tr style=\"text-align: right;\">\n",
       "      <th></th>\n",
       "      <th>ID</th>\n",
       "      <th>Gene</th>\n",
       "      <th>Sequences</th>\n",
       "      <th>Description</th>\n",
       "      <th>Organism</th>\n",
       "      <th>Types</th>\n",
       "    </tr>\n",
       "  </thead>\n",
       "  <tbody>\n",
       "    <tr>\n",
       "      <th>0</th>\n",
       "      <td>M0RC99</td>\n",
       "      <td>Rab5a</td>\n",
       "      <td>M A N R G A T R P N G P N T G N K I C Q F K L ...</td>\n",
       "      <td>Ras related protein Rab 5A</td>\n",
       "      <td>Rattus norvegicus</td>\n",
       "      <td>Real</td>\n",
       "    </tr>\n",
       "    <tr>\n",
       "      <th>1</th>\n",
       "      <td>P08760</td>\n",
       "      <td>AK3</td>\n",
       "      <td>M G A S A R L L R A A I M G A P G S G K G T V ...</td>\n",
       "      <td>GTP AMP phosphotransferase AK3 mitochondrial</td>\n",
       "      <td>Bos taurus</td>\n",
       "      <td>Real</td>\n",
       "    </tr>\n",
       "    <tr>\n",
       "      <th>2</th>\n",
       "      <td>Q92963</td>\n",
       "      <td>RIT1</td>\n",
       "      <td>M D S G T R P V G S C C S S P A G L S R E Y K ...</td>\n",
       "      <td>GTP binding protein Rit1</td>\n",
       "      <td>Homo sapiens</td>\n",
       "      <td>Real</td>\n",
       "    </tr>\n",
       "    <tr>\n",
       "      <th>3</th>\n",
       "      <td>Q63942</td>\n",
       "      <td>Rab3d</td>\n",
       "      <td>M A S A S E P P A S P R D A A D Q N F D Y M F ...</td>\n",
       "      <td>GTP binding protein Rab 3D</td>\n",
       "      <td>Rattus norvegicus</td>\n",
       "      <td>Real</td>\n",
       "    </tr>\n",
       "    <tr>\n",
       "      <th>4</th>\n",
       "      <td>Q9VND8</td>\n",
       "      <td>Rheb</td>\n",
       "      <td>M P T K E R H I A M M G Y R S V G K S S L C I ...</td>\n",
       "      <td>GTP binding protein Rheb homolog</td>\n",
       "      <td>Drosophila melanogaster</td>\n",
       "      <td>Real</td>\n",
       "    </tr>\n",
       "    <tr>\n",
       "      <th>...</th>\n",
       "      <td>...</td>\n",
       "      <td>...</td>\n",
       "      <td>...</td>\n",
       "      <td>...</td>\n",
       "      <td>...</td>\n",
       "      <td>...</td>\n",
       "    </tr>\n",
       "    <tr>\n",
       "      <th>1402</th>\n",
       "      <td>seq196</td>\n",
       "      <td>None</td>\n",
       "      <td>Y P D V G E I Q M C F G C M G S P E N Y R A K ...</td>\n",
       "      <td>None</td>\n",
       "      <td>None</td>\n",
       "      <td>Artificial</td>\n",
       "    </tr>\n",
       "    <tr>\n",
       "      <th>1403</th>\n",
       "      <td>seq197</td>\n",
       "      <td>None</td>\n",
       "      <td>Y H V M P Y H Y T P I K I C N Y I P Y H L C Y ...</td>\n",
       "      <td>None</td>\n",
       "      <td>None</td>\n",
       "      <td>Artificial</td>\n",
       "    </tr>\n",
       "    <tr>\n",
       "      <th>1404</th>\n",
       "      <td>seq198</td>\n",
       "      <td>None</td>\n",
       "      <td>S L H D C Q L R M A D C S G W S G Q D Y S Q P ...</td>\n",
       "      <td>None</td>\n",
       "      <td>None</td>\n",
       "      <td>Artificial</td>\n",
       "    </tr>\n",
       "    <tr>\n",
       "      <th>1405</th>\n",
       "      <td>seq199</td>\n",
       "      <td>None</td>\n",
       "      <td>E V G P N A D D C W P W I P T F P K V E H Q D ...</td>\n",
       "      <td>None</td>\n",
       "      <td>None</td>\n",
       "      <td>Artificial</td>\n",
       "    </tr>\n",
       "    <tr>\n",
       "      <th>1406</th>\n",
       "      <td>seq200</td>\n",
       "      <td>None</td>\n",
       "      <td>C M E M R I I R E D I W H E K S G Q A T R I G ...</td>\n",
       "      <td>None</td>\n",
       "      <td>None</td>\n",
       "      <td>Artificial</td>\n",
       "    </tr>\n",
       "  </tbody>\n",
       "</table>\n",
       "<p>1407 rows × 6 columns</p>\n",
       "</div>"
      ],
      "text/plain": [
       "          ID   Gene                                          Sequences  \\\n",
       "0     M0RC99  Rab5a  M A N R G A T R P N G P N T G N K I C Q F K L ...   \n",
       "1     P08760    AK3  M G A S A R L L R A A I M G A P G S G K G T V ...   \n",
       "2     Q92963   RIT1  M D S G T R P V G S C C S S P A G L S R E Y K ...   \n",
       "3     Q63942  Rab3d  M A S A S E P P A S P R D A A D Q N F D Y M F ...   \n",
       "4     Q9VND8   Rheb  M P T K E R H I A M M G Y R S V G K S S L C I ...   \n",
       "...      ...    ...                                                ...   \n",
       "1402  seq196   None  Y P D V G E I Q M C F G C M G S P E N Y R A K ...   \n",
       "1403  seq197   None  Y H V M P Y H Y T P I K I C N Y I P Y H L C Y ...   \n",
       "1404  seq198   None  S L H D C Q L R M A D C S G W S G Q D Y S Q P ...   \n",
       "1405  seq199   None  E V G P N A D D C W P W I P T F P K V E H Q D ...   \n",
       "1406  seq200   None  C M E M R I I R E D I W H E K S G Q A T R I G ...   \n",
       "\n",
       "                                       Description                 Organism  \\\n",
       "0                       Ras related protein Rab 5A        Rattus norvegicus   \n",
       "1     GTP AMP phosphotransferase AK3 mitochondrial               Bos taurus   \n",
       "2                         GTP binding protein Rit1             Homo sapiens   \n",
       "3                       GTP binding protein Rab 3D        Rattus norvegicus   \n",
       "4                 GTP binding protein Rheb homolog  Drosophila melanogaster   \n",
       "...                                            ...                      ...   \n",
       "1402                                          None                     None   \n",
       "1403                                          None                     None   \n",
       "1404                                          None                     None   \n",
       "1405                                          None                     None   \n",
       "1406                                          None                     None   \n",
       "\n",
       "           Types  \n",
       "0           Real  \n",
       "1           Real  \n",
       "2           Real  \n",
       "3           Real  \n",
       "4           Real  \n",
       "...          ...  \n",
       "1402  Artificial  \n",
       "1403  Artificial  \n",
       "1404  Artificial  \n",
       "1405  Artificial  \n",
       "1406  Artificial  \n",
       "\n",
       "[1407 rows x 6 columns]"
      ]
     },
     "execution_count": 2,
     "metadata": {},
     "output_type": "execute_result"
    }
   ],
   "source": [
    "df = pd.read_csv(\"data/data.csv\").iloc[: , 1:]\n",
    "df"
   ]
  },
  {
   "cell_type": "markdown",
   "metadata": {
    "id": "9YfXns-GgOGk"
   },
   "source": [
    "# Compute disatnce"
   ]
  },
  {
   "cell_type": "markdown",
   "metadata": {
    "id": "Rega8KWfgeww"
   },
   "source": [
    "Compute distance between rotein sequences (list of vectors), we take the embeddings with same length "
   ]
  },
  {
   "cell_type": "code",
   "execution_count": 4,
   "metadata": {
    "id": "-sN8qbyZgOa2"
   },
   "outputs": [],
   "source": [
    "# load 3D numpy array\n",
    "file_list = glob.glob(os.path.join(os.getcwd(), \"output/train\", '*.npy'))\n",
    "\n",
    "embed_list = [np.load(file) for file in sorted(file_list)]"
   ]
  },
  {
   "cell_type": "code",
   "execution_count": 2,
   "metadata": {},
   "outputs": [],
   "source": [
    "embed_list"
   ]
  },
  {
   "cell_type": "code",
   "execution_count": 4,
   "metadata": {
    "id": "vDMwXIDzgzxo"
   },
   "outputs": [],
   "source": [
    "def get_mean(embd_seq):\n",
    "    '''\n",
    "    Compute the mean of embeddings\n",
    "    \n",
    "    input:\n",
    "        - embeddings array\n",
    "        \n",
    "    output:\n",
    "        - mean embeddin\n",
    "    '''\n",
    "    #mean_seq = []\n",
    "    for i in embd_seq:\n",
    "        m = np.mean(i, axis=0)\n",
    "        n = list(m)\n",
    "        mean_seq.append(n)\n",
    "    mean_arr = np.array(mean_seq)\n",
    "    return mean_arr"
   ]
  },
  {
   "cell_type": "code",
   "execution_count": 5,
   "metadata": {
    "id": "YJwcUSgMgPFR"
   },
   "outputs": [
    {
     "data": {
      "text/plain": [
       "(1407, 1024)"
      ]
     },
     "execution_count": 5,
     "metadata": {},
     "output_type": "execute_result"
    }
   ],
   "source": [
    "# compute average of sequence\n",
    "mean_seq = []\n",
    "for embed in embed_list:\n",
    "    mean_arr = get_mean(embed)\n",
    "    \n",
    "mean_arr.shape"
   ]
  },
  {
   "cell_type": "code",
   "execution_count": 6,
   "metadata": {
    "id": "GXSotprhgPC9"
   },
   "outputs": [],
   "source": [
    "# save average array\n",
    "save_path = os.path.join('data','mean.npy')\n",
    "np.save(save_path, mean_arr)"
   ]
  },
  {
   "cell_type": "code",
   "execution_count": null,
   "metadata": {
    "id": "4o1C7nZZgPAJ"
   },
   "outputs": [],
   "source": [
    "# # load average array\n",
    "# mean_arr = np.load('mean.npy')"
   ]
  },
  {
   "cell_type": "markdown",
   "metadata": {
    "id": "3OrcL_8agpFX"
   },
   "source": [
    "## Cosine Similarity"
   ]
  },
  {
   "cell_type": "code",
   "execution_count": 7,
   "metadata": {
    "id": "VoyFezpOgO9u"
   },
   "outputs": [],
   "source": [
    "dm_cos = distance.pdist(mean_arr, 'cosine')\n",
    "dm_cos = distance.squareform(dm_cos)\n",
    "#print(dm_cos)\n",
    "df_cos = pd.DataFrame(dm_cos)"
   ]
  },
  {
   "cell_type": "code",
   "execution_count": 8,
   "metadata": {
    "id": "htMcYHkSgO1b"
   },
   "outputs": [],
   "source": [
    "# save Cosine Similarity dataframe \n",
    "df_cos.to_csv('data/cosine_similarity.csv')"
   ]
  },
  {
   "cell_type": "code",
   "execution_count": null,
   "metadata": {
    "id": "R31tBnHfg6Ym"
   },
   "outputs": [],
   "source": [
    "# # load Cosine Similarity dataframe \n",
    "# df_cos = pd.read_csv(\"data/cosine_similarity.csv\")"
   ]
  },
  {
   "cell_type": "markdown",
   "metadata": {
    "id": "buoAnsUXg-ZR"
   },
   "source": [
    "## Euclidean distance "
   ]
  },
  {
   "cell_type": "code",
   "execution_count": 9,
   "metadata": {
    "id": "XTIWKsfpg6WL"
   },
   "outputs": [],
   "source": [
    "dm_eu = distance.pdist(mean_arr, 'euclidean')\n",
    "dm_eu = distance.squareform(dm_eu)\n",
    "#print(dm_eu)\n",
    "df_eu = pd.DataFrame(dm_eu)"
   ]
  },
  {
   "cell_type": "code",
   "execution_count": 10,
   "metadata": {
    "id": "oPBxO5M-g6Tm"
   },
   "outputs": [],
   "source": [
    "# save Euclidean distance dataframe \n",
    "df_eu.to_csv('data/euclidean_distance.csv')"
   ]
  },
  {
   "cell_type": "code",
   "execution_count": null,
   "metadata": {
    "id": "2YDguKTIg6Qu"
   },
   "outputs": [],
   "source": [
    "# # load Euclidean distance dataframe \n",
    "# df_eu = pd.read_csv(\"data/euclidean_distance.csv\")"
   ]
  },
  {
   "cell_type": "markdown",
   "metadata": {
    "id": "95AL7EzWhHGS"
   },
   "source": [
    "# Projection "
   ]
  },
  {
   "cell_type": "code",
   "execution_count": 12,
   "metadata": {
    "id": "79atmLGSg6OD"
   },
   "outputs": [],
   "source": [
    "from sklearn.preprocessing import normalize\n",
    "from sklearn import manifold\n",
    "from matplotlib import pyplot as plt\n",
    "from matplotlib.lines import Line2D"
   ]
  },
  {
   "cell_type": "code",
   "execution_count": 13,
   "metadata": {
    "id": "02ea4NBMhJw0"
   },
   "outputs": [],
   "source": [
    "color_dict = { 'Real':'red', 'Artificial':'blue'}"
   ]
  },
  {
   "cell_type": "code",
   "execution_count": 14,
   "metadata": {
    "id": "-BS9Tzi4hJt_"
   },
   "outputs": [],
   "source": [
    "types = df['Types'].to_list()"
   ]
  },
  {
   "cell_type": "markdown",
   "metadata": {
    "id": "0hKcJFFvhSNy"
   },
   "source": [
    "## MDS"
   ]
  },
  {
   "cell_type": "code",
   "execution_count": 17,
   "metadata": {
    "id": "DPaXNFVFhJrt"
   },
   "outputs": [],
   "source": [
    "MDS_coords = manifold.MDS(n_components=2).fit_transform(mean_arr)"
   ]
  },
  {
   "cell_type": "code",
   "execution_count": 18,
   "metadata": {
    "id": "ORI70kRfhJoy"
   },
   "outputs": [],
   "source": [
    "# save MDS coordinates\n",
    "save_path = os.path.join('data','mds_coords.npy')\n",
    "np.save(save_path, MDS_coords)"
   ]
  },
  {
   "cell_type": "code",
   "execution_count": null,
   "metadata": {
    "id": "6yV5I6BehJmJ"
   },
   "outputs": [],
   "source": [
    "# # load MDS coordinates\n",
    "# MDS_coords = np.load('mds_coords.npy')"
   ]
  },
  {
   "cell_type": "code",
   "execution_count": 19,
   "metadata": {},
   "outputs": [],
   "source": [
    "#os.mkdir('plot/')"
   ]
  },
  {
   "cell_type": "code",
   "execution_count": 21,
   "metadata": {
    "id": "G638EuUfhY9A"
   },
   "outputs": [
    {
     "data": {
      "image/png": "[encoded data removed]",
      "text/plain": [
       "<Figure size 504x504 with 1 Axes>"
      ]
     },
     "metadata": {
      "needs_background": "light"
     },
     "output_type": "display_data"
    }
   ],
   "source": [
    "\n",
    "plt.figure(figsize=(7, 7))\n",
    "#plt.scatter(MDS_coords[:, 0], MDS_coords[:, 1], marker='o', c=colors, s=50, edgecolor='None')\n",
    "plt.scatter(MDS_coords[:, 0], MDS_coords[:, 1], marker='o', c=[color_dict[i] for i in types], s=50, edgecolor='None')\n",
    "\n",
    "plt.savefig('plot/MDS.png')\n",
    "plt.show()\n"
   ]
  },
  {
   "cell_type": "markdown",
   "metadata": {
    "id": "EhNfxICwhes4"
   },
   "source": [
    "## TSNE"
   ]
  },
  {
   "cell_type": "code",
   "execution_count": 22,
   "metadata": {
    "id": "ZhQp55MJhYyV"
   },
   "outputs": [],
   "source": [
    "tsne_coords = manifold.TSNE(n_components=2, learning_rate='auto', init='random').fit_transform(mean_arr)"
   ]
  },
  {
   "cell_type": "code",
   "execution_count": 23,
   "metadata": {
    "id": "x3kxw_KChYuw"
   },
   "outputs": [],
   "source": [
    "# save tsne coordinates\n",
    "save_path = os.path.join('data','tsne_coords.npy')\n",
    "np.save(save_path, tsne_coords)"
   ]
  },
  {
   "cell_type": "code",
   "execution_count": null,
   "metadata": {
    "id": "9xjKNglJhYry"
   },
   "outputs": [],
   "source": [
    "# # load tsne coordinates\n",
    "# tsne_coords = np.load('tsne_coords.npy')"
   ]
  },
  {
   "cell_type": "code",
   "execution_count": null,
   "metadata": {
    "id": "4lveD_IehmQO"
   },
   "outputs": [],
   "source": [
    "tsne_coords.shape"
   ]
  },
  {
   "cell_type": "code",
   "execution_count": 24,
   "metadata": {
    "id": "9V2C86aUhmM2"
   },
   "outputs": [
    {
     "data": {
      "image/png": "[encoded data removed]",
      "text/plain": [
       "<Figure size 504x504 with 1 Axes>"
      ]
     },
     "metadata": {
      "needs_background": "light"
     },
     "output_type": "display_data"
    }
   ],
   "source": [
    "\n",
    "plt.figure(figsize=(7, 7))\n",
    "#plt.scatter(tsne_coords[:, 0], tsne_coords[:, 1], marker='o', c=colors, s=50, edgecolor='None')\n",
    "plt.scatter(tsne_coords[:, 0], tsne_coords[:, 1], marker='o', c=[color_dict[i] for i in types], s=50, edgecolor='None')\n",
    "\n",
    "plt.savefig('plot/tsne.png')\n",
    "plt.show()"
   ]
  }
 ],
 "metadata": {
  "colab": {
   "name": "distance.ipynb",
   "provenance": []
  },
  "kernelspec": {
   "display_name": "Python 3 (ipykernel)",
   "language": "python",
   "name": "python3"
  },
  "language_info": {
   "codemirror_mode": {
    "name": "ipython",
    "version": 3
   },
   "file_extension": ".py",
   "mimetype": "text/x-python",
   "name": "python",
   "nbconvert_exporter": "python",
   "pygments_lexer": "ipython3",
   "version": "3.8.12"
  }
 },
 "nbformat": 4,
 "nbformat_minor": 4
}
