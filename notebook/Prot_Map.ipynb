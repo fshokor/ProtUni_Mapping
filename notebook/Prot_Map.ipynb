{
  "nbformat": 4,
  "nbformat_minor": 0,
  "metadata": {
    "colab": {
      "name": "Prot_Map.ipynb",
      "provenance": []
    },
    "kernelspec": {
      "name": "python3",
      "display_name": "Python 3"
    },
    "language_info": {
      "name": "python"
    }
  },
  "cells": [
    {
      "cell_type": "markdown",
      "metadata": {
        "id": "MK6FTx4KUkhX"
      },
      "source": [
        "# Import Packages "
      ]
    },
    {
      "cell_type": "code",
      "metadata": {
        "id": "O5GuLkfrCPcj"
      },
      "source": [
        "import numpy as np\n",
        "import re\n",
        "import pandas as pd\n",
        "from scipy.spatial import distance\n",
        "import random"
      ],
      "execution_count": null,
      "outputs": []
    },
    {
      "cell_type": "code",
      "metadata": {
        "colab": {
          "base_uri": "https://localhost:8080/"
        },
        "id": "_qe_eUhTxCz7",
        "outputId": "603444f8-aa9c-4687-e935-7fa564ce90d5"
      },
      "source": [
        "from google.colab import drive \n",
        "drive.mount('/content/gdrive')"
      ],
      "execution_count": null,
      "outputs": [
        {
          "output_type": "stream",
          "name": "stdout",
          "text": [
            "Mounted at /content/gdrive\n"
          ]
        }
      ]
    },
    {
      "cell_type": "markdown",
      "metadata": {
        "id": "SDFblUU_U4aZ"
      },
      "source": [
        "# Data "
      ]
    },
    {
      "cell_type": "markdown",
      "metadata": {
        "id": "l0yLKItnU-R2"
      },
      "source": [
        "## Generating random protein sequences"
      ]
    },
    {
      "cell_type": "code",
      "metadata": {
        "id": "DLiHANWoU-Ad"
      },
      "source": [
        "# Generate random protein sequence \n",
        "\n",
        "list_size = 20 # sequence number \n",
        "random_seq = []\n",
        "gen_name = []\n",
        "\n",
        "for j in range(list_size):\n",
        "    seq_n = \"seq\"+ str(j+1)\n",
        "    gen_name.append(seq_n)\n",
        "    a = random.randint(50, 60) # min and max length of a sequence \n",
        "    weights = [0.05 for i in range(20)] \n",
        "    x = ''.join(random.choices('ACDEFGHIKLMNPQRSTVWY', weights= weights, k= a))\n",
        "    random_seq.append(x) \n",
        "    print(x)"
      ],
      "execution_count": null,
      "outputs": []
    },
    {
      "cell_type": "code",
      "metadata": {
        "id": "j0T1GunuVH8I"
      },
      "source": [
        "# write fasta file \n",
        "\n",
        "seq_file = open(\"generated_seq.fasta\", \"w\")\n",
        "\n",
        "for i in range(len(random_seq)):\n",
        "\n",
        "  seq_file.write(\">\" + gen_name[i] + \"\\n\" + random_seq[i] + \"\\n\")\n",
        "\n",
        "seq_file.close()"
      ],
      "execution_count": null,
      "outputs": []
    },
    {
      "cell_type": "markdown",
      "metadata": {
        "id": "Zh-xkHYbUx00"
      },
      "source": [
        "## Load real sequences"
      ]
    },
    {
      "cell_type": "code",
      "metadata": {
        "id": "iMwzRZkC6XIz"
      },
      "source": [
        "def read_fasta(FASTA):\n",
        "\n",
        "    m_file=open(FASTA,'r')\n",
        "\n",
        "    data=''\n",
        "    name_list=[]\n",
        "    seq_list=[]\n",
        "\n",
        "    for line in m_file:\n",
        "\n",
        "        line=line.strip()\n",
        "        for i in line:\n",
        "            if i=='>':\n",
        "                name_list.append(line[1:]) # change this part to just the name of sequences \n",
        "                if data:\n",
        "                    data = \" \".join(data)\n",
        "                    seq_list.append(data)\n",
        "                    data=''\n",
        "\n",
        "                break\n",
        "            else:\n",
        "                line=line.upper()\n",
        "        if all([k==k.upper() for k in line]):\n",
        "            data=data+line\n",
        "    if data:\n",
        "      data = \" \".join(data)\n",
        "      seq_list.append(data)\n",
        "    #print(seq_list)\n",
        "    return seq_list, name_list\n"
      ],
      "execution_count": null,
      "outputs": []
    },
    {
      "cell_type": "code",
      "metadata": {
        "id": "UyykQArk5lGa"
      },
      "source": [
        "fasta_file = \"/content/generated_seq.fasta\""
      ],
      "execution_count": null,
      "outputs": []
    },
    {
      "cell_type": "code",
      "metadata": {
        "id": "ic7W7Hlq7pDa"
      },
      "source": [
        "seq_list, name_list = read_fasta(fasta_file) "
      ],
      "execution_count": null,
      "outputs": []
    },
    {
      "cell_type": "code",
      "metadata": {
        "id": "saFZNMjdVY8_"
      },
      "source": [
        "fast = \"/content/gdrive/MyDrive/Projet_long/uniclus_rep_seq.fasta\""
      ],
      "execution_count": null,
      "outputs": []
    },
    {
      "cell_type": "code",
      "metadata": {
        "colab": {
          "base_uri": "https://localhost:8080/"
        },
        "id": "cEPNjy89Y3wF",
        "outputId": "77e824e2-3b83-448c-d099-147b9ccc51b3"
      },
      "source": [
        "real_seq_list, real_name = read_fasta(fast) \n",
        "\n",
        "# Keep sequence ID \n",
        "new = []\n",
        "for n in real_name:\n",
        "  v = re.findall(r'\\|(.*?)\\|', n)\n",
        "  new.append(v)\n",
        "real_name_list = [item for sublist in new for item in sublist]\n",
        "print(real_name_list)"
      ],
      "execution_count": null,
      "outputs": [
        {
          "output_type": "stream",
          "name": "stdout",
          "text": [
            "['A0A1Y3BRR3', 'A0A1Y3ARV0', 'A0A1Y3BT51', 'A0A1Y3BI21', 'A0A6D1LTJ4', 'A0A1L4FRF2', 'A0A3G3H1X9', 'A0A1J6HLQ8', 'A0A1Y3BQW6', 'A0A1Y3B6Z2', 'A0A2G1XEQ2', 'A0A1Y3BJY7', 'A0A1Y3AUP2', 'A0A1Y3BII3', 'A0A1Y3AQQ2', 'A0A1Y3B546', 'A0A6J5IV41', 'A0A1Y3BQZ5', 'A0A1Y3B5N9', 'A0A3G3H941', 'A0A2G1X9E9', 'A0A1Y3BIE1', 'A0A6P2PC92', 'A0A1Y3AQK2', 'A0A1Y3BPE8', 'A0A6P2TIJ9', 'A0A1Y3BVP9', 'A0A1J6HLN7', 'A0A6H9T3D5', 'A0A1Y3BTC3', 'A0A6H9SZ45', 'A0A1Y3BUK5', 'B8DSN2', 'A0A1Y3B599', 'B8DVZ1', 'A0A1J6HGE8', 'A0A6P3CE02', 'A0A1Y3BQF9', 'A0A1Y3BFG3', 'A0A6P2R347', 'A0A3G3H5C8', 'A0A3G3HBH3', 'A0A6P2LPY9', 'A0A1Y3BRQ1', 'A0A1Y3BL64', 'A0A1Y3BNT2', 'A0A6P2LI60', 'A0A1Y3B421', 'A0A1Y3BRJ9', 'A0A1Y3AUL1', 'A0A1Y3BEG8', 'A0A6P3AMS5', 'A0A1Y3B1G1', 'A0A1Y3B483', 'A0A2G1XEX9', 'A0A1Y3ANP3', 'A0A2G1XBA3', 'A0A1Y3BIG1', 'A0A1J6HN09', 'A0A2G1XC73', 'A0A6H9TVD7', 'A0A1Y3AYZ9', 'A0A6D1LTR5', 'A0A6D1LTT4', 'A0A6D1LVN9', 'A0A1Y3AQK6', 'A0A1Y3AW19', 'A0A6P2WHH8', 'A0A2G1XQH6', 'A0A6P2SEP4', 'A0A1Y3AZ85', 'A0A1Y3BDM4', 'A0A6D1LTF7', 'A0A3G3H9R8', 'A0A6P2QGA5', 'A0A0S7EVZ7', 'A0A3G3HB61', 'A0A6P2SBN9', 'A0A6H9T412', 'A0A6D1LV73', 'B8DSQ3', 'A0A1L4FRQ2', 'A0A1L4FS43', 'A0A1Y3BRZ4', 'A0A1Y3AS60', 'A0A1J6HVS3', 'A0A3G3GZY0', 'A0A1J6I786', 'A0A6P3AJ60', 'A0A6P2T015', 'A0A2G1XL30', 'Q9K2N0', 'A0A3G3H6R1', 'A0A1Y3B1U0', 'A0A1Y3BT60', 'A0A397WFK9', 'B8DWG3', 'A0A1J6I6L7', 'A0A1Y3B5S2', 'A0A1Y3B656', 'A0A1J6IBI3', 'A0A2G1XJP2', 'A0A2G1X9I6', 'A0A1Y3AT89', 'A0A1Y3BQ44', 'A0A6P2R4X6', 'A0A6P3BVZ6', 'A0A1Y3ATC5', 'A0A1J6HHT7', 'A0A1Y3BHZ0', 'A0A1Y3B6I1', 'A0A1Y3AW43', 'A0A6P3BKL2', 'Q6UXS9', 'P61087', 'Q12933', 'O95786', 'Q99456', 'F2VQ95', 'A0A2D2CL00', 'S5FJX9', 'A0A4Y1LJ33', 'A0A0P6JYD2', 'A0A2J8XX99', 'B3R1C1', 'B3R1C2', 'Q9RN68', 'A0A2Z5V6G0', 'A0A252A8F7', 'A0A7G5C8P6', 'A0A2Z5V2L0', 'A0A6H0IX24', 'A0A2Z5V603', 'A0A7L4PAL9', 'A0A7L4P9R0', 'A0A6H0IYJ5', 'A0A252A9A2', 'A0A7L4P874', 'A0A7L4PCB8', 'A0A252A3C7', 'A0A7X8N0I4', 'A0A7Z0HE06', 'A0A7X6HRB8', 'A0A7X8RKK8', 'A0A6H0IXW0', 'O10713', 'F2YPZ1', 'F2YQ01', 'F2YPX0', 'Q007N3', 'Q007Q5', 'F2YPX8', 'F2YPS6', 'F2YPU5', 'F2YPW1', 'P14668', 'A0A0G8B8W9', 'A0A1J5WLL1', 'Q9KZP1', 'A0A080V3F9', 'A0A0R4IF61', 'A0A1J5WU04', 'A0A1J5WM75', 'A0A1A9FD91', 'A0A1A9F7U8', 'A0A1A9FA70', 'A0A1A9F9Q0', 'A0A1J5WKS8', 'A0A1A9FDW1', 'A0A1Q5W9F6', 'A0A1J5WKK8', 'A0A1Q5W4H0', 'A0A1A9F7H0', 'A0A1Q5WAV7', 'A0A1J5WLK4', 'B8QWH6', 'A0A084WYH4', 'A0A1A9FFK6', 'A0A1Q5VY63', 'A0A1Q5W4A4', 'Q9XX26', 'A0A1A9F7E0', 'A0A080UZ60', 'A0A0U8A951', 'A0A1Q5WDX8', 'A0A1A9F6Z0', 'A0A1J5WQS8', 'A0A1Q5WAF2', 'A0A1J5WM51', 'A0A1J5X283', 'H2KYA0', 'A0A1J5WV06', 'A0A1A9FA67', 'A0A1J5WQE6', 'A0A1J5WNA9', 'A0A1J5X9F5', 'A0A1J5WN02', 'A0A1A9FFF6', 'A0A1Q5WH71', 'A0A1A9FA64', 'A0A1J5WX19', 'A0A1Q5WGL9', 'A0A1A9FBA8', 'A0A1A9FBG0', 'A0A1Q5W1S1', 'A0A1J5WN84', 'A0A1J5WK61', 'A0A1J5WTT0', 'A0A1J5WUY5', 'A0A1L6QLB6', 'A0A1Q5W0I5', 'A0A1Q5WC46', 'A0A1Q5W1Q7', 'A0A1A9FDS3', 'A0A1J5X012', 'A0A1A9F881', 'A0A1A9FGS0', 'A0A0G8B7D0', 'A0A1J5WLY8', 'A0A1J5WJH1', 'A0A0A5MM36', 'A0A1J5WJG2', 'A0A1J5X4R4', 'A0A1J5WLU8', 'A0A1J5WPE0', 'A0A1Y3ANW0', 'A0A1Y3BTF2', 'A0A3G3HAG9', 'A0A2G1XCY6', 'A0A1L4FS59', 'A0A6P2UUL3', 'A0A6H9SLN2', 'A0A1Y3BHC0', 'A0A232GLN4', 'A0A1Y3AXZ8', 'A0A6P2UIL0', 'A0A7L7L4D5', 'A0A6P3BKT1', 'A0A7J5ASB0', 'A0A2G1XFD6', 'A0A343YPZ2', 'Q9L4P2', 'A0A1L4FRU9', 'A0A3G3H5H1', 'A0A3G3H6G4', 'A0A2G1XE56', 'A0A1J6HLH6', 'A0A6P2NLW4', 'A0A3G3HIU7', 'A0A6P2RPL1', 'A0A1Y3B119', 'A0A1Y3BNL8', 'A0A6P2V9Q1', 'A0A1Y3B190', 'A0A1Y3BMQ7', 'B8DWQ4', 'A0A1Y3ARJ0', 'A0A1Y3AZ00', 'A0A2G1XAI6', 'A0A6H9T2C0', 'A0A1Y3BFC0', 'A0A1J6HBQ8', 'A0A1J6HEH2', 'A0A3G3H7N2', 'A0A2G1XIU8', 'A0A1Y3B6T8', 'A0A1Y3BGU1', 'A0A1Y3B8D9', 'A0A2G1X9E2', 'A0A6P2SD75', 'A0A1Y3B147', 'A0A6J5ITW3', 'A0A1Y3AYT9', 'B7U6G2', 'A0A1Y3BAC2', 'A0A1J6HBK3', 'A0A1Y3B1Y4', 'A0A1Y3BM39', 'A0A1Y3BBY2']\n"
          ]
        }
      ]
    },
    {
      "cell_type": "markdown",
      "metadata": {
        "id": "H0GZqA7fk6yh"
      },
      "source": [
        "Dataframe "
      ]
    },
    {
      "cell_type": "code",
      "metadata": {
        "id": "GmrNxr7PnPjZ"
      },
      "source": [
        "table = pd.DataFrame(\n",
        "    {'Names': real_name_list + name_list,\n",
        "     'Sequences': real_seq_list + seq_list,\n",
        "     'Types': [\"real\" for i in range(len(real_seq_list))] + [\"fake\" for i in range(len(seq_list))] \n",
        "    })\n",
        "table"
      ],
      "execution_count": null,
      "outputs": []
    }
  ]
}