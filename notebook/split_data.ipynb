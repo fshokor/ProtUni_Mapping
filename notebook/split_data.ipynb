{
  "nbformat": 4,
  "nbformat_minor": 0,
  "metadata": {
    "colab": {
      "name": "split_data.ipynb",
      "provenance": [],
      "collapsed_sections": []
    },
    "kernelspec": {
      "name": "python3",
      "display_name": "Python 3"
    },
    "language_info": {
      "name": "python"
    }
  },
  "cells": [
    {
      "cell_type": "markdown",
      "metadata": {
        "id": "IygY6JThiXBj"
      },
      "source": [
        "# Import Packages "
      ]
    },
    {
      "cell_type": "code",
      "metadata": {
        "id": "QKKI98wPiMgS"
      },
      "source": [
        "import numpy as np\n",
        "import pandas as pd\n",
        "import os\n",
        "import glob\n",
        "from sklearn.model_selection import train_test_split"
      ],
      "execution_count": null,
      "outputs": []
    },
    {
      "cell_type": "code",
      "metadata": {
        "colab": {
          "base_uri": "https://localhost:8080/"
        },
        "id": "8u7xj8Hdx3O1",
        "outputId": "8422077f-23a9-4dbf-d502-bea1bd113b46"
      },
      "source": [
        "from google.colab import drive \n",
        "drive.mount('/content/gdrive')"
      ],
      "execution_count": null,
      "outputs": [
        {
          "output_type": "stream",
          "name": "stdout",
          "text": [
            "Mounted at /content/gdrive\n"
          ]
        }
      ]
    },
    {
      "cell_type": "markdown",
      "metadata": {
        "id": "Evv6tRhNihAz"
      },
      "source": [
        "# Split data in folders "
      ]
    },
    {
      "cell_type": "code",
      "metadata": {
        "id": "NOCkku7OigzT",
        "colab": {
          "base_uri": "https://localhost:8080/"
        },
        "outputId": "f1ed4d12-8bcb-4066-c16d-5090fac9a612"
      },
      "source": [
        "# load data\n",
        "x = sorted(os.listdir('/content/gdrive/MyDrive/Projet_long/output'))\n",
        "#x = x[1:]\n",
        "len(x)"
      ],
      "execution_count": null,
      "outputs": [
        {
          "output_type": "execute_result",
          "data": {
            "text/plain": [
              "141"
            ]
          },
          "metadata": {},
          "execution_count": 10
        }
      ]
    },
    {
      "cell_type": "code",
      "metadata": {
        "id": "pR3F_qouigwv"
      },
      "source": [
        "# split data into train and test\n",
        "x_train, x_test, = train_test_split(x, test_size=0.1, random_state=42)"
      ],
      "execution_count": null,
      "outputs": []
    },
    {
      "cell_type": "code",
      "metadata": {
        "id": "fgx6cMoTiguG"
      },
      "source": [
        "# split data into train and val  \n",
        "x_train, x_val =  train_test_split(x_train, test_size =.10, shuffle  = True)"
      ],
      "execution_count": null,
      "outputs": []
    },
    {
      "cell_type": "code",
      "metadata": {
        "id": "QgTYjzfzigrZ",
        "colab": {
          "base_uri": "https://localhost:8080/"
        },
        "outputId": "f5c6f013-0881-49f2-b06e-b7157b021e89"
      },
      "source": [
        "print('Train set:',len(x_train))\n",
        "print('Test set:', len(x_test))\n",
        "print('Validation set:', len(x_val))"
      ],
      "execution_count": null,
      "outputs": [
        {
          "output_type": "stream",
          "name": "stdout",
          "text": [
            "Train set: 113\n",
            "Test set: 15\n",
            "Validation set: 13\n"
          ]
        }
      ]
    },
    {
      "cell_type": "code",
      "metadata": {
        "id": "TOcsp8bOigov"
      },
      "source": [
        "os.mkdir('/content/gdrive/MyDrive/Projet_long/output/train/')\n",
        "os.mkdir('/content/gdrive/MyDrive/Projet_long/output/test/')\n",
        "os.mkdir('/content/gdrive/MyDrive/Projet_long/output/val/')\n",
        "\n",
        "import shutil\n",
        "\n",
        "train_dest = '/content/gdrive/MyDrive/Projet_long/output/train/'\n",
        "test_dest = '/content/gdrive/MyDrive/Projet_long/output/test/'\n",
        "val_dest = '/content/gdrive/MyDrive/Projet_long/output/val/'\n",
        "dir_src = '/content/gdrive/MyDrive/Projet_long/output/'\n",
        "for file in os.listdir('/content/gdrive/MyDrive/Projet_long/output'):\n",
        "    if file in x_train:\n",
        "        shutil.move(dir_src + file, train_dest)\n",
        "        \n",
        "    elif file in x_test:\n",
        "        shutil.move(dir_src + file, test_dest)\n",
        "        \n",
        "    elif file in x_val:\n",
        "        shutil.move(dir_src + file, val_dest)"
      ],
      "execution_count": null,
      "outputs": []
    },
    {
      "cell_type": "code",
      "metadata": {
        "id": "mciFlrZByanY"
      },
      "source": [
        ""
      ],
      "execution_count": null,
      "outputs": []
    }
  ]
}