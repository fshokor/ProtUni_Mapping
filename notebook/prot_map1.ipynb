{
  "nbformat": 4,
  "nbformat_minor": 0,
  "metadata": {
    "colab": {
      "name": "prot_map1.ipynb",
      "provenance": [],
      "collapsed_sections": [
        "ewFlyHcnBhQr",
        "pwlkoREsdAPT",
        "ZlDGQT5vXlN_",
        "kbqHTTYbdoVH",
        "HMDirBdjBr92",
        "-T6Yqs4xsrf2",
        "ykoSR-GtmUJZ",
        "atzHAbCPmAbO",
        "KgWdfDZtiOsR",
        "Pz8i1wm-iKh4",
        "YI9wMwAPnfgI"
      ]
    },
    "kernelspec": {
      "name": "python3",
      "display_name": "Python 3"
    },
    "language_info": {
      "name": "python"
    }
  },
  "cells": [
    {
      "cell_type": "code",
      "metadata": {
        "id": "O5GuLkfrCPcj"
      },
      "source": [
        "import numpy as np\n",
        "import re\n",
        "import pandas as pd\n",
        "from scipy.spatial import distance\n"
      ],
      "execution_count": null,
      "outputs": []
    },
    {
      "cell_type": "code",
      "metadata": {
        "colab": {
          "base_uri": "https://localhost:8080/"
        },
        "id": "_qe_eUhTxCz7",
        "outputId": "a15ee53e-b301-4786-ad5b-272f1278fea4"
      },
      "source": [
        "from google.colab import drive \n",
        "drive.mount('/content/gdrive')"
      ],
      "execution_count": null,
      "outputs": [
        {
          "output_type": "stream",
          "name": "stdout",
          "text": [
            "Drive already mounted at /content/gdrive; to attempt to forcibly remount, call drive.mount(\"/content/gdrive\", force_remount=True).\n"
          ]
        }
      ]
    },
    {
      "cell_type": "markdown",
      "metadata": {
        "id": "NrujGgP17oAs"
      },
      "source": [
        "# Generating random amino acid sequences"
      ]
    },
    {
      "cell_type": "markdown",
      "metadata": {
        "id": "m_e42Cr2A2ud"
      },
      "source": [
        "https://jamimmunology.blogspot.com/2012/11/generating-random-biological-sequences.html"
      ]
    },
    {
      "cell_type": "code",
      "metadata": {
        "id": "_Mbv_A105PAc",
        "colab": {
          "base_uri": "https://localhost:8080/"
        },
        "outputId": "4a031fa3-a2c2-4f4a-f1a4-b3cf4cd37cf2"
      },
      "source": [
        "import random\n",
        "import matplotlib.pyplot as plt # plot\n",
        "\n",
        "def random_AA_seq(length):\n",
        "    return ''.join(random.choice('ACDEFGHIKLMNPQRSTVWY') for i in range(length))\n",
        "\n",
        "list_size = 50 # sequence number \n",
        "\n",
        "random_seq = []\n",
        "\n",
        "for j in range(list_size):\n",
        "\n",
        "    a = random.randint(20, 30) # min and max length of a sequence \n",
        "    a = \n",
        "    random_seq.append(random_AA_seq(a)) \n",
        "    print(random_AA_seq(a))"
      ],
      "execution_count": null,
      "outputs": [
        {
          "output_type": "stream",
          "name": "stdout",
          "text": [
            "IPEQTTCPWEQHDKSRALDYHEPTYKF\n",
            "CYKDMDCWAQISQPPVEAQSSWNKRWAM\n",
            "MEHFKVFENWNDKDVTGKLHM\n",
            "QEAGKLSYSTMIQWRHGEYCQHAHGVAAE\n",
            "NAWGARHNMFDTEAYFNLDDC\n",
            "SSQQKLYLASLKNIGRWKGCYPYDG\n",
            "PEINWAYTCDDMAFEWYVDWSHAYI\n",
            "LFHMMRHLMRSAAKTMWEWELLPEHNF\n",
            "QWDYLCHWWCFGWVRDFQGDVKKK\n",
            "IAEIIKMVYHADRDRIGNVEPLT\n",
            "VRKTFDQMGLEYTYEIPLHAEPMD\n",
            "VFQGPILVPNNLFEIANHWNKFIFYL\n",
            "CEVCITADYEHDHHWDDYKGGAYHTYCTD\n",
            "FQWGCRVHHSLHYNNQIKMPRCLPE\n",
            "TSIWFEEHLCRAEVDEQALR\n",
            "TCFKMNEWSKCEMYVNRDCWFLYQLQNYRD\n",
            "QRIHWYKNWNPKIVEKYDWVKMKK\n",
            "GHSGMKITVVKVAKQRHCDI\n",
            "RLMQYDDGTTCELSPFFWIKD\n",
            "MMHQIVYEPLGAENGIHWNWN\n",
            "NIMDIEKHWGRIDKIGSVADWCVKFQ\n",
            "DYSDWYIYFTPRVCLPKIMNTRVMQAMEPP\n",
            "ICEHSMDRANWDHVMNPVHW\n",
            "WWPYFMGGHTFIKRTHPEEPW\n",
            "IKIRTKMAWKCEVDNQMQTAQAMHHAG\n",
            "THCMQQTLEDVCPRVCNPTMDP\n",
            "IDDHLSLQHSIQDPNCWGGR\n",
            "FCCVPDRIFHPAYNMWRRYVTCEW\n",
            "EVYLGFHFQDQYKPKDFWQN\n",
            "PIKLYKSPYVPNCRDGDSDYLWYLRW\n",
            "VPHQHWNATENRNADQAMMAMHL\n",
            "AARMFFWSLMREAMMTYFKAM\n",
            "GTFNLIWYWEFGPTSHGICP\n",
            "IGINRYLRMDYRFRIECFNP\n",
            "HIKDTAQGWLMLGHQLAFTMNDITV\n",
            "YKQHMKCWAMWWGSGVDMMPC\n",
            "FCPFPRFHKMWLNAWLWFWDCNT\n",
            "MPKESNFMSCASPMAMPGPGQCGT\n",
            "YKQWTFTNYWAQDGNACVLYW\n",
            "DCPHTQTCFNLTMLNDIMTYK\n",
            "SSGGQTHKNNCPIHYIPFKLDCQY\n",
            "QYLSYNERAYTHWEITTSGMAAMLTKNCAS\n",
            "ALHEFATSWEPCKNQPCFYTDIQ\n",
            "NGFQGWSPYKCWDCMVAMGCNACAYYHVC\n",
            "CDSVNFERWFAKEQKAGLLCDEAVQRP\n",
            "CYNIMLFKIGFTERKVREFCAHGTY\n",
            "SRCMAIRDIELQRVRMAPITHH\n",
            "WKVMTSYSRMWRTRCLTKIDITY\n",
            "TTPEHWHHKPKVWGTNYKGASAHPDEE\n",
            "IRYPKFAFEPKTWPRVPFEN\n"
          ]
        }
      ]
    },
    {
      "cell_type": "code",
      "metadata": {
        "id": "m0USTfZw29wt"
      },
      "source": [
        "ORDER_KEY=\"XILVAGMFYWEDQNHCRKSTPBZ-\"[::-1]\n",
        "ORDER_LIST=list(ORDER_KEY)"
      ],
      "execution_count": null,
      "outputs": []
    },
    {
      "cell_type": "code",
      "metadata": {
        "id": "kRlUZ49N3B-l"
      },
      "source": [
        "ORDER_LIST"
      ],
      "execution_count": null,
      "outputs": []
    },
    {
      "cell_type": "code",
      "metadata": {
        "id": "UyykQArk5lGa"
      },
      "source": [
        "fasta_file = \"/content/gdrive/MyDrive/Projet_long/uniclus_rep_seq.fasta\""
      ],
      "execution_count": null,
      "outputs": []
    },
    {
      "cell_type": "code",
      "metadata": {
        "id": "5Ekb0kWeVuJt"
      },
      "source": [
        ""
      ],
      "execution_count": null,
      "outputs": []
    },
    {
      "cell_type": "markdown",
      "metadata": {
        "id": "QO8SMBB2Vu5M"
      },
      "source": [
        "read fasta file and generate 2 list: seqence and sequnce name "
      ]
    },
    {
      "cell_type": "code",
      "metadata": {
        "id": "iMwzRZkC6XIz"
      },
      "source": [
        "def Name_Organizer(FASTA):\n",
        "\n",
        "    import os\n",
        "    import re\n",
        "\n",
        "    file=open(FASTA,'r')\n",
        "    dir,file=os.path.split(FASTA)\n",
        "    #temp = os.path.join(dir,output)\n",
        "    #out_file=open(temp,'w')\n",
        "\n",
        "    data=''\n",
        "    name_list=[]\n",
        "    seq_list=[]\n",
        "\n",
        "    for line in file:\n",
        "\n",
        "        line=line.strip()\n",
        "        for i in line:\n",
        "            if i=='>':\n",
        "                name_list.append(line) # change this part o just the name of sequences \n",
        "                if data:\n",
        "                    data = \" \".join(data)\n",
        "                    seq_list.append(data)\n",
        "                    data=''\n",
        "\n",
        "                break\n",
        "            else:\n",
        "                line=line.upper()\n",
        "        if all([k==k.upper() for k in line]):\n",
        "            data=data+line\n",
        "\n",
        "    #print(seq_list)\n",
        "    return seq_list, name_list\n",
        "\n"
      ],
      "execution_count": null,
      "outputs": []
    },
    {
      "cell_type": "code",
      "metadata": {
        "id": "ic7W7Hlq7pDa"
      },
      "source": [
        "seq_list, name_list = Name_Organizer(fasta_file) "
      ],
      "execution_count": null,
      "outputs": []
    },
    {
      "cell_type": "code",
      "metadata": {
        "id": "TkIfMtgRXnnh"
      },
      "source": [
        "for s in seq_list:\n",
        "  print( \" \".join(s))"
      ],
      "execution_count": null,
      "outputs": []
    },
    {
      "cell_type": "code",
      "metadata": {
        "id": "DhP-Kzt2P8pn",
        "colab": {
          "base_uri": "https://localhost:8080/"
        },
        "outputId": "461ad07d-40a9-4d90-8eab-1f0483c2f006"
      },
      "source": [
        "len(seq_list)"
      ],
      "execution_count": null,
      "outputs": [
        {
          "output_type": "execute_result",
          "data": {
            "text/plain": [
              "278"
            ]
          },
          "metadata": {},
          "execution_count": 8
        }
      ]
    },
    {
      "cell_type": "code",
      "metadata": {
        "id": "gbI5xMZ1Vool"
      },
      "source": [
        "name_list "
      ],
      "execution_count": null,
      "outputs": []
    },
    {
      "cell_type": "markdown",
      "metadata": {
        "id": "ewFlyHcnBhQr"
      },
      "source": [
        "# Load real sequences"
      ]
    },
    {
      "cell_type": "code",
      "metadata": {
        "id": "r2Bqt7Buw3NS",
        "colab": {
          "base_uri": "https://localhost:8080/"
        },
        "outputId": "4e5824a2-2bb2-4574-8fe5-d3ac2cd7b18a"
      },
      "source": [
        " casp12 = pd.read_csv('/content/gdrive/MyDrive/Projet_long/CASP12_HHblits.csv') \n",
        " casp12.shape"
      ],
      "execution_count": null,
      "outputs": [
        {
          "output_type": "execute_result",
          "data": {
            "text/plain": [
              "(20, 5)"
            ]
          },
          "metadata": {},
          "execution_count": 8
        }
      ]
    },
    {
      "cell_type": "code",
      "metadata": {
        "id": "55OU8rob4Hwo"
      },
      "source": [
        "#len(casp12.iloc[15][\"input\"])\n",
        "casp12"
      ],
      "execution_count": null,
      "outputs": []
    },
    {
      "cell_type": "code",
      "metadata": {
        "id": "vhZlz8kjzRs3",
        "colab": {
          "base_uri": "https://localhost:8080/"
        },
        "outputId": "5df7d9f4-b893-49e4-a6ff-c0e2b75119e8"
      },
      "source": [
        "sequence = casp12['input'].to_list()\n",
        "sequence"
      ],
      "execution_count": null,
      "outputs": [
        {
          "output_type": "execute_result",
          "data": {
            "text/plain": [
              "['S L R F T A S T S T P K S G S K I A K R G K K H P E P V A S W M S E Q R W A G E P E V M C T L Q H K S I A Q E A Y K N Y T I T T S A V C K L V R Q L Q Q Q A L S L Q V H F E R S E R V L S G L Q A S S L P E A L A G A T Q L L S H L D D F T A T L E R R G V F F N D A K I E R R R Y E Q H L E Q I R T V S K D T R Y S L E R Q H Y I N L E S L L D D V Q L L K R H T L I T L R L I F E R L V R V L V I S I E Q S Q C D L L L R A N I N M V A T L M N I D Y D G F R S L S D A F V Q N E A V R T L L V V V L D H K Q S S V R A L A L R A L A T L C C A P Q A I N Q L G S C G G I E I V R D I L Q V E S A G E R G A I E R R E A V S L L A Q I T A A W H G S E H R V P G L R D C A E S L V A G L A A L L Q P E',\n",
              " 'M G A E E E D T A I L Y P F T I S G N D R N G N F T I N F K G T P N S T N N G C I G Y S Y N G D W E K I E W E G S C D G N G N L V V E V P M S K I P A G V T S G E I Q I W W H S G D L K M T D Y K A L E H H H H H H',\n",
              " 'G H M A S G P W K L T A S K T H I M K S A D V E K L A D E L H M P S L P E M M F G D N V L R I Q H G S G F G I E F N A T D A L R C V N N Y Q G M L K V A C A E E W Q E S R T E G E H S K E V I K P Y D W T Y T T D Y K G T L L G E S L K L K V V P T T D H I D T E K L K A R E Q I K F F E E V L L F E D E L H D H G V S S L S V K I R V M P S S F F L L L R F F L R I D G V L I R M N D T R L Y H E A D K T Y M L R E Y T S R E S K I S S L M H V P P S L F T E P N E I S Q Y L P I K E A V C E K L I F P E',\n",
              " 'M G H H H H H H G G S E N L Y F Q G N E D I L K A S A T Q S A V A G T Y Q I Q V N S L A T S S K I A L Q A I A D P A N A K F N S G T L N I S V G D T K L P A I T V D S S N N T L A G M R D A I N Q A G K E A G V S A T I I T D N S G S R L V L S S T K T G D G K D I K V E V S D D G S G G N T S L S Q L A F D P A T A P K L S D G A A A G Y V T K A A N G E I T V D G L K R S I A S N S V S D V I D G V S F D V K A V T E A G K P I T L T V S R D D A G V K D N V K K F V E A Y N T L T K F I N E Q T V V T K V G E D K N P V T G A L L G D A S V R A L V N T M R S E L I A S N E N G S V R N L A A L G I T T T K D G T L E I D E K K L D K A I S A D F E G V A S Y F T G D T G L A K R L G D K M K P Y T D A Q G I',\n",
              " 'G L P V P S P P G T L L P G Q S P D E A F A R N S V V F L V P G A E Y N W K N V V I R K P V W I Y G N G A T V K T S G L G P I I H I M G D L D N P M D V R I Q D L T F I G G D S P D R L V P F S A V L T N Q M A L W C I D P R I T I R G C S F Y N F G G A A I Y L E R S E R D T G F R F G R G Q V M I T D C R F R G C R I G I A N G G S V E Y G L A S Q N N F S D C Q I C F N V V G G N W T R S G N V A S N C R C M Y L H T Q G M W Y E G A A G N F N P A H G S F T S N T L N H C D Y G G N L W P T E F Q L P D R V I N L A G F Y F D N A A A R L P N F S G N S Q W Y G D M K L I N F L P D S T F V I N G G A L Y G G P G D T G V I A V A T A L A A K V F V I G C Q G N A G Q Q I V N V P A A N I I P E V G T R K D D A T Q P A A',\n",
              " 'K I N Q P E H L A Q L D G Y S Q K K G I S G A H N A D V F N K A V V D N G V K I I S E T P T G V R G I T Q V Q Y E I P T K D A A G N T T G N Y K G N G A K P F E K T I Y D P K I F T D E K M L Q L G Q E A A A I G Y S N A I K N G L Q A Y D A K A G G V T F R V Y I D Q K T G I V S N F H P K',\n",
              " 'M N K Y L F E L P Y E R S E P G W T I R S Y F D L M Y N E N R F L D A V E N I V N K E S Y I L D G I Y C N F P D M N S Y D E S E H F E G V E F A V G Y P P D E D D I V I V S E E T C F E Y V R L A C E K Y L Q L H P E D T E K V N K L L S K I P S A G H H H H H H',\n",
              " 'M G A S S G S N I S A S N G S S S P T T I V A S N P V D L N A F D R L N V V D P A V G K F R P G E A G A A A E L E N Y L G G T L Q R A P Q G S S V D F V F S S G P N N G K T V D F M L T P D T V A Q A A K I N Q F F D K N L N N F M N T L S D H A A A A D F V P L A S R F L S E A N K T L L V K A I G N L P Q K L Q A K I I L I K',\n",
              " 'K M A G S I V I S K E V R V P V S T S Q F D Y L V S R I G D Q F H S S D M W I K D E V Y L P M E E G G M S F I S T E S L N S S G L S I F L A T V M R A R A A S Q A E E S F P L Y E N V W N Q L V E K L R Q D A R L G V S G N T S L E H H H H H H',\n",
              " 'M V E N N A L S L V A R G C A V A A P C R T K V A E Q L L E I G A K A G M A G L A G A A V K D M A D R M T S D E L E H L I T L Q M M G N D E I T T K Y L S S L H D K Y G S G A A S N P N I G K D L T D A E K V E L G G S G S G T G T P P P S E N D P K Q Q N E K T V D K L N Q K Q E S A I K K I D N T I K N A L K D H D I I G T L K D M D G K P V P K E N G G Y W D H M Q E M Q N T L R G L R N H A D T L K N V N N P E A Q A A Y G R A T D A I N K I E S A L K G Y G I',\n",
              " 'M I T L R K L I G N I N M T K E P E Q Q S P L E L W F E R I I D V P L E K L T V E D L C R A I R Q N L C I D Q L M P R V L E V L T K E P L A G E Y Y D G E L I A A L S T I K G E D L K D Q K S T F T Q I R Q L I N Q L E P S D I N D D L R K D I L K I N Q I I V T S L E H H H H H H',\n",
              " 'M A N K P M Q P I T S T A N K I V W S D P T R L S T T F S A S L L R Q R V K V G I A E L N N V S G Q Y V S V Y K R P A P K P E G C A D A C V I M P N E N Q S I R T V I S G S A E N L A T L K A E W E T H K R N V D T L F A S G N A G L G F L D P T A A I V S S D T T A',\n",
              " 'E S F A D M M K H G L T E A D V G I T K F V S S H Q G F S G I L K E R Y S D F V V H E I G K D G R I S H L N D L S I P V D E E D P S E D I F T V L T A E E K Q R L E E L Q L F K N K E T S V A I E V I E D T K E K R T I I H Q A I K S L F P G L E T K T E D R E G K K Y I V A Y H A A G K K A L A N P R K H S W P K S R G S Y C H F V L Y K E N K D T M D A I N V L S K Y L R V K P N I F S Y M G T K D K R A I T V Q E I A V L K I T A Q R L A H L N K C L M N F K L G N F S Y Q K N P L K L G E L Q G N H F T V V L R N I T G T D D Q V Q Q A M N S L K E I G F I N Y Y G M Q R F G T T A V P T Y Q V G R A I L Q N S W T E V M D L I L K P R S G A E K G Y L V K C R E E W A K T K D P T A A L R K L P V K R C V E G Q L L R G L S K Y G M K N I V S A F G I I P R N N R L M Y I H S Y Q S Y V W N N M V S K R I E D Y G L K P V P G D L V L K G A T A T Y I E E D D V N N Y S I H D V V M P L P G F D V I Y P K H K I Q E A Y R E M L T A D N L D I D N M R H K I R D Y S L S G A Y R K I I I R P Q N V S W E V V A Y D D P K I P L F N T D V D N L E G K T P P V F A S E G K Y R A L K M D F S L P P S T Y A T M A I R E V L K M D T S I K N Q T Q L N T T W L R',\n",
              " 'S M W A F S E L P M P L L I N L I V S L L G F V A T V T L I P A F R G H F I A A R L C G Q D L N K T S R Q Q I P E S Q G V I S G A V F L I I L F C F I P F P F L N C F V K E Q C K A F P H H E F V A L I G A L L A I C C M I F L G F A D D V L N L R W R H K L L L P T A A S L P L L M V Y F T N F G N T T I V V P K P F R P I L G L H L D L G I L Y Y V Y M G L L A V F C T N A I N I L A G I N G L E A G Q S L V I S A S I I V F N L V E L E G D C R D D H V F S L Y F M I P F F F T T L G L L Y H N W Y P S R V F V G D T F C Y F A G M T F A G V G I L G H F S K T M L L F F M P Q V F N F L Y S L P Q L L H I I P C P R H R I P R L N I K T G K L E M S Y S K F K T K S L S F L G T F I L K V A E S L Q L V T V H Q S E T E D G E F T E C N N M T L I N L L L K V L G P I H E R N L T L L L L L L Q I L G S A I T F S I R Y Q L V R L F Y D V',\n",
              " 'M G S S H H H H H H S S G P Q Q G L R H L L S A G E I W I S P Q G N D L N D G T R P S P K A T L T S A L R Q A R E W R R T D D E R V R G G I T I C M E G G T Y A L Y E P V F I R P E D S G T E D S P T V I R P V A D E K V V L S G G I R I G G W K K Q G K L W V A D V P M F N G R P L D F R Q L W V N G K K A V R A R D V E D F E K M N R I C S V D E K N E I L Y V P A V A I R R L V D G K G A L K A K Y A E M V L H Q M W C V A N L R I R S V E L A G D S A A I R F H Q P E S R I Q F E H P W P R P M V T T D G H N S A F Y L T N A R E L L D V A G E W Y H D I D A R K V Y Y Y P R E G E K L Q D A G T E V I V P A I E T L I Q V K G T F D R P V S H I R F E K I T F S H T T W M R P S E K G H V P L Q A G M Y L T D G Y R I D P K M E R D Y L N H P L D N Q G W L G R P A A A V S V A A A N Q I D F E R C R F D H L G S T G L D Y E E A V Q G G V V R G C L F R D I A G N G L V V G S F S P A A H E T H L P Y D P T D L R E V C A H Q Q I S N C Y F T E V G N E D W G C L A I L A G Y V K D I N I E H N E I C E V P Y S G I S L G W G W T Q T V N C M R N N R V H A N L I H H Y A K H M Y D V A G V Y T L G S Q P K S Y V T E N C V H S I Y K P G Y V H D P N H W F Y L Y T D E G S S F I T V R D N W T E G E K Y L Q N A N G P G N V W E N N G P Q V D T V I R E R A G L E A E Y R D L K K',\n",
              " 'E T G Q V A A S P S I N V A L K A A F P S P P Y L V E L L E T A A S D N T T I Y Y S L L D R I A K G H F A E A T T D K A L Y E K F L E V L R D D G H M D P E A L S A F K L A L S L R T A T P R V E A H Y Q Y Y T A T V E P S L S G T Q E G C D Q W F L I D G E Q Y C S P T L D T S H G K V K G E D Q L R T L P F D R K F G V G S R D V I L Y A D I T S K S F A P F H E V A M D L A K K G K A S Y R V R Y R R S P S H S R E S L S V N G Y G V E L V L K R T D Y I V I D D R D T G A A A K P A E E N D Q K P L V G H E T V L D D G E E I A D I K P L E K S E L A A L G M K A A S F V M Q S E K P F E A L L K L T Q D F P K Y S N S L G S Q N V S A E F E A E H R G N R E V F L P E G S N V L W L N G L H L I D R Q I Q P F G L V D L L T R E R K L I K S V L D L G L T G Q Q A V D L L G H A E V A H A K S G D D E P R R F D W R D D I E E G Q V I I W L N N L E K D K R Y K S F S P S I W V L I H H F G H G L P Q I R R D V F N L V V P V D L T K A D D V K I V V E G L L S F V K R L I P V R F G F V P L T P T G Q A I D Q A K V V Y Y L L E N Y G L A A A T A Y L E K S Y E E Q S T G Q P N E R I F N E V I K D K S L R P D G V E L S F K D I F I S E K H E K Q I H L S K H W V E R L R A G G D V P T V F F D G F P I P R E C N W L R V M N H R L M Q D L Q A L Q Q A G Y F G M L N E S M W L P G F F L E K A L S R R N T L I F P E D K N E L T V L N V N K I Y I E N H D L M S K V P V I E A S K E S T R D D W A A L T V V A D L D D I E G Q E L V Y Y A L R F R K S N D G V R L D I V H N P K D T S R S P S V L A Q R L K S R E D K L L D F T R F L D L E T A L E T G E F E P D V A Y D A S L A N F L A S S N M K A G D N F V I L N G R V L G P I T S A D D F K K E D F E V F L Q A E R R T R I L P V Y K A L E D L G L D D K V S G P L S A A K L T S V T A L S T I S D L P Q G I F D N A P T V R T T L F K Q W N S T Y T S F E V G D A S T A T I F F V A V I N P A S E I G Q R W V A V L K V L S E L E G V H L R V F L N P T V M I E E L P V K R F Y R Y V L S S S P S F D E S G K V K A L S A R F T G V P R E T L L V V G M D V P P A W L V T S K V A V D D L D N L R I K D I K A K R G T E H V E A I Y E L E H I L I E G H S R E I P C A H A P R G V Q L V L E T E N N P H F A D T I I M A N L G Y F Q F K A N P G V Y N I R L K E G R S S E I F T L E S V G A K G W G P I P G D D N T E V V L M D F Q G T T L Y P R L R R K P G M E E E D V L E P S T K S G E E S G S G A R N L V S R G I K F A E G L L G R G N K A A E A T K S V S K T E H A E I N I F S V A S G H L Y E R M L N I M M A S V M H H T N H T V K F W F I E Q F L S P S F K D F I P H M A A E Y G F K Y E M V T Y K W P H W L R Q Q K E K Q R E I W G Y K I L F L D V L F P L S L D K V I F V D A D Q I V R T D M Y D L V E H P L D G A P Y G F A P M C D S R V E M E G Y R F W K T G Y W A N Y L K G K P Y H I S A L Y V V D L Q R F R E L A A G D R L R Q Q Y H A L S A D P N S L A N L D Q D L P N H M Q F T I P I A T L P Q E W L W C E T W C S D E T L K D A R T I D L C N N P M T K E P K L D R A R R Q V P E W T K Y D E E I A E L A R R V R E E K P K K K E E E K V Q K N P K S R R L D G D E E E V K T V R E G T K H H H H H H',\n",
              " 'M S A E T V N N Y D Y S D W Y E N A A P T K A P V E V I P P C D P T A D E G L F H I C I A A I S L V V M L V L A I L A R R Q K L S D N Q R G L T G L L S P V N F L D H T Q H K G L A V A V Y G V L F C K L V G M V L S H H P L P F T K E V A N K E F W M I L A L L Y Y P T L Y Y P L L A C G T L H N K V G Y V L G S L L S W T H F G I L V W Q K V D C P K T P Q I Y K Y Y A L F G S L P Q I A C L A F L S F Q Y P L L L F K G L Q N T E T A N A S E D L S S S Y Y R D Y V K K I L K K K K P T K I S S S T S K P K L F D R L R D A V K S Y I Y T P E D V F R F P L K L A I S V V V A F I A L Y Q M A L L L I S G V L P T L H I V R R G V D E N I A F L L A G F N I I L S N D R Q E V V R I V V Y Y L W C V E I C Y V S A V T L S C L V N L L M L M R S M V L H R S N L K G L Y R G D S L N V F N C H R S I R P S R P A L V C W M G F T S Y Q A A F L C L G M A I Q T L V F F I C I L F A V F L I I I P I L W G T N L M L F H I I G N L W P F W L T L V L A A L I Q H V A S R F L F I R K D G G T R D L N N R G S L F L L S Y I L F L V N V M I G V V L G I W R V V I T A L F N I V H L G R L D I S L L N R N V E A F D P G Y R C Y S H Y L K I E V S Q S H P V M K A F C G L L L Q S S G Q D G L S A Q R I R D A E E G I Q L V Q Q E K K Q N K V S N A K R A R A H W Q L L Y T L V N N P S L V G S R K H F Q C Q S S E S F I N G A L S R T S K E G S K K D G S V K E P N K E A E S A A A S N',\n",
              " 'S R G P S N G Q S V L E N S V Q V K E T S P R R V S V D P Q T G E F V V F D R T L G D V Y H G H V R A W K D L T S D M Q N A L V R G G Y V D R K G N P K',\n",
              " 'M A H H H H H H M A I S P R D E Q N R S V D L W F A Y K V P K L T K D A D S D S A S G Y E Y V Y Y D R Q V G A V Q K S P N L M N D P K G A L F Y T L D S V F G D P G D T T G W I L Y N D E M P A D A N R S N N A T L G H T K G V I A F D I A S S S A L W L L H S W P K Y A S P S V P G V P T P L Y G Q T F L C L S L D L A T A G K L A A Q M A L H Q Q P Q V Y L P R T G G L D H T S P L Y A L T Q P L N A S A P G D S D S L D F K T R G G V P F K V I A K N R K W G K D F W N D L V G P T L K A D M Y V E T W I R G K I P P V L D S D G V H K T Y D I K F I D L R K L G A P W A W P E T Q D H A K W G I T T T D N W V C V G D I N R M V T Q E K R G G G T I A F Q D P K L W K A L C E T D L I I P P P G K T D A Q A R A M I R K T H E P A E',\n",
              " 'M H H H H H H E N L Y F Q T S I R T E P T Y T L Y A T F D N I G G L K A R S P V S I G G V V V G R V A D I T L D P K T Y L P R V T L E I E Q R Y N H I P D T S S L S I R T S G L L G E Q Y L A L N V G F E D P E L G T A I L K D G D T I Q D T K S A M V L E D L I G Q F L Y G S K G D D N K N S G D A P A A A P G N N E T T E P V G T T K']"
            ]
          },
          "metadata": {},
          "execution_count": 9
        }
      ]
    },
    {
      "cell_type": "code",
      "metadata": {
        "id": "VB1GKc8f3f3w"
      },
      "source": [
        "#PRUNED_SEQ_LENGTH=len(data.iloc[0][\"seq\"])\n",
        "#PRUNED_SEQ_LENGTH = len(sequence[0])"
      ],
      "execution_count": null,
      "outputs": []
    },
    {
      "cell_type": "markdown",
      "metadata": {
        "id": "A-TvImfgBHW-"
      },
      "source": [
        "# Embedding "
      ]
    },
    {
      "cell_type": "markdown",
      "metadata": {
        "id": "fRcInOF3BTA4"
      },
      "source": [
        "https://github.com/agemagician/ProtTrans/tree/master/Embedding"
      ]
    },
    {
      "cell_type": "code",
      "metadata": {
        "id": "yqL4RArZwBXd"
      },
      "source": [
        "!pip install -q transformers"
      ],
      "execution_count": null,
      "outputs": []
    },
    {
      "cell_type": "code",
      "metadata": {
        "id": "QW3dP4O1wLyF"
      },
      "source": [
        "from transformers import TFBertModel, BertTokenizer,BertConfig"
      ],
      "execution_count": null,
      "outputs": []
    },
    {
      "cell_type": "code",
      "metadata": {
        "id": "vTlyQQOAI0tt"
      },
      "source": [
        "tokenizer = BertTokenizer.from_pretrained(\"Rostlab/prot_bert\", do_lower_case=False )"
      ],
      "execution_count": null,
      "outputs": []
    },
    {
      "cell_type": "code",
      "metadata": {
        "id": "eTu0T_AGI8JJ",
        "colab": {
          "base_uri": "https://localhost:8080/"
        },
        "outputId": "14fab513-0584-4ba5-f457-21041022eef3"
      },
      "source": [
        "model = TFBertModel.from_pretrained(\"Rostlab/prot_bert\", from_pt=True)"
      ],
      "execution_count": null,
      "outputs": [
        {
          "output_type": "stream",
          "name": "stderr",
          "text": [
            "Some weights of the PyTorch model were not used when initializing the TF 2.0 model TFBertModel: ['cls.predictions.transform.dense.bias', 'cls.seq_relationship.bias', 'cls.predictions.decoder.weight', 'cls.predictions.bias', 'cls.predictions.transform.LayerNorm.bias', 'cls.seq_relationship.weight', 'cls.predictions.transform.dense.weight', 'cls.predictions.decoder.bias', 'cls.predictions.transform.LayerNorm.weight']\n",
            "- This IS expected if you are initializing TFBertModel from a PyTorch model trained on another task or with another architecture (e.g. initializing a TFBertForSequenceClassification model from a BertForPreTraining model).\n",
            "- This IS NOT expected if you are initializing TFBertModel from a PyTorch model that you expect to be exactly identical (e.g. initializing a TFBertForSequenceClassification model from a BertForSequenceClassification model).\n",
            "All the weights of TFBertModel were initialized from the PyTorch model.\n",
            "If your task is similar to the task the model of the checkpoint was trained on, you can already use TFBertModel for predictions without further training.\n"
          ]
        }
      ]
    },
    {
      "cell_type": "markdown",
      "metadata": {
        "id": "xtxQMKf-wuj6"
      },
      "source": [
        "tokenize"
      ]
    },
    {
      "cell_type": "code",
      "metadata": {
        "id": "fHlvnHkAwbEo"
      },
      "source": [
        "ids = tokenizer.batch_encode_plus(sequence, add_special_tokens=True, padding=True, return_tensors=\"tf\")  \n",
        "#ids"
      ],
      "execution_count": null,
      "outputs": []
    },
    {
      "cell_type": "code",
      "metadata": {
        "id": "P6VYdvpQWFkG"
      },
      "source": [
        "ids = tokenizer.batch_encode_plus(seq_list, add_special_tokens=True, padding=True, return_tensors=\"tf\")\n",
        "#ids"
      ],
      "execution_count": null,
      "outputs": []
    },
    {
      "cell_type": "code",
      "metadata": {
        "colab": {
          "base_uri": "https://localhost:8080/"
        },
        "id": "imwpReJ5WNkz",
        "outputId": "d21fc3f5-e5c0-4a5f-f051-1f658b2fc7bf"
      },
      "source": [
        "ids"
      ],
      "execution_count": null,
      "outputs": [
        {
          "output_type": "execute_result",
          "data": {
            "text/plain": [
              "{'input_ids': <tf.Tensor: shape=(278, 3471), dtype=int32, numpy=\n",
              "array([[ 2, 21, 11, ...,  0,  0,  0],\n",
              "       [ 2, 21, 13, ...,  0,  0,  0],\n",
              "       [ 2, 17,  7, ...,  0,  0,  0],\n",
              "       ...,\n",
              "       [ 2, 21, 15, ...,  0,  0,  0],\n",
              "       [ 2, 21,  9, ...,  0,  0,  0],\n",
              "       [ 2, 21, 10, ...,  0,  0,  0]], dtype=int32)>, 'token_type_ids': <tf.Tensor: shape=(278, 3471), dtype=int32, numpy=\n",
              "array([[0, 0, 0, ..., 0, 0, 0],\n",
              "       [0, 0, 0, ..., 0, 0, 0],\n",
              "       [0, 0, 0, ..., 0, 0, 0],\n",
              "       ...,\n",
              "       [0, 0, 0, ..., 0, 0, 0],\n",
              "       [0, 0, 0, ..., 0, 0, 0],\n",
              "       [0, 0, 0, ..., 0, 0, 0]], dtype=int32)>, 'attention_mask': <tf.Tensor: shape=(278, 3471), dtype=int32, numpy=\n",
              "array([[1, 1, 1, ..., 0, 0, 0],\n",
              "       [1, 1, 1, ..., 0, 0, 0],\n",
              "       [1, 1, 1, ..., 0, 0, 0],\n",
              "       ...,\n",
              "       [1, 1, 1, ..., 0, 0, 0],\n",
              "       [1, 1, 1, ..., 0, 0, 0],\n",
              "       [1, 1, 1, ..., 0, 0, 0]], dtype=int32)>}"
            ]
          },
          "metadata": {},
          "execution_count": 32
        }
      ]
    },
    {
      "cell_type": "code",
      "metadata": {
        "id": "D4UsKOvqwgk3"
      },
      "source": [
        "input_ids = ids['input_ids'] # TensorShape([20, 1496])\n",
        "attention_mask = ids['attention_mask']\n",
        "#input_ids.shape"
      ],
      "execution_count": null,
      "outputs": []
    },
    {
      "cell_type": "markdown",
      "metadata": {
        "id": "bU_th4jXw0uP"
      },
      "source": [
        "Embedding with Bert"
      ]
    },
    {
      "cell_type": "code",
      "metadata": {
        "id": "CIlfRfpUw19v"
      },
      "source": [
        "embedding = model(input_ids)[0]"
      ],
      "execution_count": null,
      "outputs": []
    },
    {
      "cell_type": "code",
      "metadata": {
        "id": "f72-1t-Hw7Gq"
      },
      "source": [
        "embedding = np.asarray(embedding)\n",
        "#embedding.shape"
      ],
      "execution_count": null,
      "outputs": []
    },
    {
      "cell_type": "code",
      "metadata": {
        "id": "nN2RtGx92NuW"
      },
      "source": [
        "attention_mask = np.asarray(attention_mask)"
      ],
      "execution_count": null,
      "outputs": []
    },
    {
      "cell_type": "code",
      "metadata": {
        "id": "ZVL15er0wY18",
        "colab": {
          "base_uri": "https://localhost:8080/"
        },
        "outputId": "ec307333-7026-4983-e949-3dbf42d2aba1"
      },
      "source": [
        "embedding"
      ],
      "execution_count": null,
      "outputs": [
        {
          "output_type": "execute_result",
          "data": {
            "text/plain": [
              "array([[[ 8.19769502e-02,  6.43152595e-02,  4.21448313e-02, ...,\n",
              "         -6.20769337e-02,  4.48901802e-02, -1.91365778e-02],\n",
              "        [-2.22610459e-02,  6.59344196e-02,  2.92509198e-02, ...,\n",
              "         -1.63998082e-02,  9.48458165e-02,  4.62887958e-02],\n",
              "        [-7.20798224e-03,  1.21902123e-01,  2.35725716e-02, ...,\n",
              "          4.75132242e-02,  8.57740641e-03,  8.73763412e-02],\n",
              "        ...,\n",
              "        [ 2.59848088e-02, -1.96187347e-02,  2.89642811e-03, ...,\n",
              "          3.35517079e-02,  6.51569292e-02,  4.95532900e-03],\n",
              "        [ 2.64939107e-02, -1.64126307e-02, -1.07153505e-03, ...,\n",
              "          2.65870970e-02,  6.31290600e-02,  6.66761398e-03],\n",
              "        [ 2.46289857e-02, -1.25223696e-02, -5.17325848e-03, ...,\n",
              "          2.64829639e-02,  6.51859865e-02,  7.31073320e-03]],\n",
              "\n",
              "       [[ 2.29044557e-01,  2.34198421e-02,  1.16826706e-01, ...,\n",
              "         -1.42583638e-01,  2.04421207e-02,  3.22822779e-02],\n",
              "        [ 1.21842071e-01,  4.39327955e-02, -9.25515369e-02, ...,\n",
              "         -5.26875556e-02,  1.45993412e-01, -1.10084131e-01],\n",
              "        [ 1.18806094e-01,  1.02255061e-01,  5.59390374e-02, ...,\n",
              "          1.05416819e-01,  1.18807115e-01,  4.80555743e-03],\n",
              "        ...,\n",
              "        [ 8.69167149e-02, -2.47196853e-02,  1.24939233e-02, ...,\n",
              "          2.16564201e-02,  4.36863080e-02,  8.26884061e-03],\n",
              "        [ 9.56720263e-02, -2.14554667e-02,  7.72897154e-03, ...,\n",
              "          1.75972693e-02,  5.72188646e-02,  1.31269470e-02],\n",
              "        [ 9.94395316e-02, -1.40032768e-02,  9.18644667e-03, ...,\n",
              "          7.66577572e-03,  8.65876004e-02,  2.92066485e-03]],\n",
              "\n",
              "       [[ 1.57414943e-01,  2.02693194e-02,  1.01966843e-01, ...,\n",
              "         -6.21442944e-02, -3.05367373e-02,  5.01253828e-02],\n",
              "        [ 1.64026424e-01,  4.19933051e-02,  1.18479490e-01, ...,\n",
              "          4.03321534e-02, -9.65807065e-02, -2.27898568e-01],\n",
              "        [ 1.35156900e-01,  5.24111390e-02,  1.25135183e-01, ...,\n",
              "         -1.26038224e-01,  1.78553164e-04,  2.70476863e-02],\n",
              "        ...,\n",
              "        [-1.74294233e-01, -2.53733248e-02,  2.44135916e-01, ...,\n",
              "         -9.05625224e-02, -2.73809910e-01, -4.79784124e-02],\n",
              "        [-8.69089365e-03, -1.84130028e-01,  1.34703875e-01, ...,\n",
              "         -1.63497552e-02, -1.34937972e-01,  1.34504721e-01],\n",
              "        [ 1.21612154e-01, -8.38704556e-02,  1.81666851e-01, ...,\n",
              "         -2.86625810e-02,  8.26927274e-03,  3.43433619e-02]],\n",
              "\n",
              "       ...,\n",
              "\n",
              "       [[-1.20111018e-01,  1.60341352e-01, -7.91785270e-02, ...,\n",
              "         -3.85653228e-04,  3.29609960e-02, -6.34870902e-02],\n",
              "        [-6.99101985e-02,  7.79283345e-02, -1.07163429e-01, ...,\n",
              "         -1.50740698e-01, -4.16898616e-02,  1.16080113e-01],\n",
              "        [-5.89627847e-02,  1.14151910e-01, -2.27881581e-01, ...,\n",
              "         -5.33492491e-03, -4.95118722e-02, -1.09662712e-02],\n",
              "        ...,\n",
              "        [ 1.01392359e-01,  9.40353721e-02, -3.79359797e-02, ...,\n",
              "         -2.43232101e-02,  8.77721161e-02,  5.60197979e-03],\n",
              "        [ 9.09295231e-02,  1.00063100e-01, -4.66786250e-02, ...,\n",
              "         -2.32169852e-02,  7.47640356e-02,  1.25336647e-02],\n",
              "        [ 8.69453102e-02,  1.28402889e-01, -7.55464584e-02, ...,\n",
              "         -8.07438791e-03,  6.83117062e-02,  1.33822635e-02]],\n",
              "\n",
              "       [[ 1.48754008e-02,  1.35794163e-01, -7.12384358e-02, ...,\n",
              "         -3.73492613e-02, -1.84698030e-02, -8.75321180e-02],\n",
              "        [ 9.61364433e-03,  1.25076324e-01, -8.42884481e-02, ...,\n",
              "         -3.50337215e-02,  4.43640202e-02, -9.45268348e-02],\n",
              "        [-3.81189585e-02,  8.33351910e-02, -2.91609988e-02, ...,\n",
              "          2.70328131e-02, -4.56927195e-02, -5.70554398e-02],\n",
              "        ...,\n",
              "        [ 4.10277620e-02,  1.73291266e-02, -1.21588141e-01, ...,\n",
              "          3.28079611e-02,  5.32257780e-02,  1.46748051e-02],\n",
              "        [ 2.86133848e-02, -2.93631256e-02, -1.07860968e-01, ...,\n",
              "          2.00623833e-02,  6.99106604e-02,  1.93472952e-03],\n",
              "        [ 9.81504843e-03, -1.30878240e-02, -1.90412536e-01, ...,\n",
              "          9.60382670e-02, -6.34450465e-03,  4.75689396e-02]],\n",
              "\n",
              "       [[ 3.33040282e-02,  5.43069243e-02, -2.36164480e-02, ...,\n",
              "         -1.07842945e-01,  3.05531472e-02, -4.58550863e-02],\n",
              "        [-8.77999514e-03, -2.10368037e-02, -3.66430730e-02, ...,\n",
              "         -2.07877457e-02,  3.15889195e-02,  3.18392962e-02],\n",
              "        [ 1.25038177e-01, -5.32556176e-02, -1.16131902e-01, ...,\n",
              "          1.46543235e-03,  2.89205909e-02,  1.21808477e-01],\n",
              "        ...,\n",
              "        [ 7.17683882e-02, -4.38786000e-02,  3.82374115e-02, ...,\n",
              "         -6.67740405e-02,  1.00744605e-01, -5.85065782e-03],\n",
              "        [ 5.13727032e-02, -1.86141580e-02, -2.38109007e-02, ...,\n",
              "         -2.03499645e-02,  7.20714256e-02,  3.49804536e-02],\n",
              "        [ 4.15141284e-02,  8.46222043e-04, -4.92641553e-02, ...,\n",
              "         -8.32463801e-03,  5.48521578e-02,  4.30470407e-02]]],\n",
              "      dtype=float32)"
            ]
          },
          "metadata": {},
          "execution_count": 20
        }
      ]
    },
    {
      "cell_type": "markdown",
      "metadata": {
        "id": "uab5-yajCf_i"
      },
      "source": [
        "Remove padding ([PAD]) and special tokens ([CLS],[SEP]) that is added by ProtBert model"
      ]
    },
    {
      "cell_type": "code",
      "metadata": {
        "id": "NmCfUg4eCh3x",
        "colab": {
          "base_uri": "https://localhost:8080/"
        },
        "outputId": "4e0e418c-19bc-4fa9-efd4-70c9c58e20aa"
      },
      "source": [
        "features = [] \n",
        "for seq_num in range(len(embedding)):\n",
        "    #print(seq_num)\n",
        "    seq_len = (attention_mask[seq_num] == 1).sum()\n",
        "    #print(seq_len)\n",
        "    seq_emd = embedding[seq_num][1:seq_len-1]\n",
        "    print(seq_emd.shape)\n",
        "    #print(seq_emd)\n",
        "\n",
        "    features.append(seq_emd)"
      ],
      "execution_count": null,
      "outputs": [
        {
          "output_type": "stream",
          "name": "stdout",
          "text": [
            "(334, 1024)\n",
            "(363, 1024)\n",
            "(508, 1024)\n",
            "(289, 1024)\n",
            "(419, 1024)\n",
            "(408, 1024)\n",
            "(418, 1024)\n",
            "(349, 1024)\n",
            "(408, 1024)\n",
            "(424, 1024)\n",
            "(140, 1024)\n",
            "(200, 1024)\n"
          ]
        }
      ]
    },
    {
      "cell_type": "code",
      "metadata": {
        "id": "-xMT4J6eCiMP",
        "colab": {
          "base_uri": "https://localhost:8080/"
        },
        "outputId": "10ef6df6-add1-434f-89a7-e4dbbd4e50b8"
      },
      "source": [
        "print(features)"
      ],
      "execution_count": null,
      "outputs": [
        {
          "output_type": "stream",
          "name": "stdout",
          "text": [
            "[array([[ 0.03040866,  0.20746323, -0.01066566, ..., -0.04982993,\n",
            "         0.06486893, -0.04271279],\n",
            "       [-0.11364222,  0.02884565, -0.04495859, ...,  0.00937446,\n",
            "         0.08476915,  0.08465551],\n",
            "       [-0.09715056,  0.08490667, -0.04877112, ...,  0.04762749,\n",
            "        -0.03806734, -0.05659244],\n",
            "       ...,\n",
            "       [-0.03780396,  0.02490078, -0.12189496, ...,  0.10503393,\n",
            "        -0.1265879 , -0.00969446],\n",
            "       [ 0.07020602,  0.01405719, -0.1541625 , ...,  0.05330222,\n",
            "         0.06666933,  0.01400534],\n",
            "       [ 0.08495728,  0.0361401 , -0.15348454, ...,  0.12210818,\n",
            "        -0.11167239,  0.05859514]], dtype=float32), array([[ 0.00544255,  0.0447942 , -0.15711275, ...,  0.11416342,\n",
            "        -0.14361334,  0.02705514],\n",
            "       [ 0.00220042, -0.0407946 , -0.09665246, ...,  0.06765781,\n",
            "        -0.10437967, -0.01693098],\n",
            "       [-0.0768461 ,  0.04710963, -0.12535658, ...,  0.05260234,\n",
            "         0.01865538,  0.03388313],\n",
            "       ...,\n",
            "       [-0.07310974,  0.07278493, -0.12912431, ...,  0.13178243,\n",
            "        -0.05040852,  0.02107645],\n",
            "       [-0.06220738,  0.05920801, -0.12370756, ...,  0.11001343,\n",
            "        -0.0430189 ,  0.02543139],\n",
            "       [-0.05628359,  0.05349414, -0.11307508, ...,  0.08429898,\n",
            "        -0.0381747 ,  0.0263191 ]], dtype=float32), array([[-0.12567672,  0.09202118, -0.07213846, ...,  0.07219307,\n",
            "        -0.01262021, -0.0390785 ],\n",
            "       [-0.15462416,  0.07712032, -0.11961648, ...,  0.09126659,\n",
            "         0.00798088,  0.05776381],\n",
            "       [-0.10811824,  0.17863743, -0.01873599, ...,  0.05755255,\n",
            "         0.04671028,  0.0186621 ],\n",
            "       ...,\n",
            "       [-0.11864644,  0.01743199, -0.18129677, ...,  0.00726146,\n",
            "        -0.00297152,  0.04638039],\n",
            "       [-0.00931501,  0.05736923, -0.14628294, ...,  0.0164527 ,\n",
            "         0.0050749 ,  0.00535627],\n",
            "       [-0.00908971,  0.08223772, -0.16805117, ...,  0.08417073,\n",
            "        -0.1152086 ,  0.09372827]], dtype=float32), array([[ 0.04454012,  0.2166477 , -0.00923023, ..., -0.07164961,\n",
            "         0.10293645, -0.04678313],\n",
            "       [-0.00140499, -0.06216753, -0.09540218, ..., -0.01219735,\n",
            "        -0.13734016, -0.01918863],\n",
            "       [-0.04737075, -0.01301934, -0.1331377 , ...,  0.06034687,\n",
            "        -0.09241956,  0.02234185],\n",
            "       ...,\n",
            "       [-0.08608781,  0.07895654, -0.16839519, ...,  0.14142281,\n",
            "        -0.11735393, -0.00897595],\n",
            "       [ 0.00033469, -0.02764423, -0.1591    , ...,  0.04578884,\n",
            "        -0.05616836, -0.04805756],\n",
            "       [-0.03628527,  0.08334693, -0.13981119, ...,  0.1248751 ,\n",
            "         0.1055944 , -0.01949591]], dtype=float32), array([[ 0.0094282 ,  0.1854227 ,  0.01515451, ..., -0.02387265,\n",
            "         0.04935963, -0.03599426],\n",
            "       [-0.07422529, -0.00883187, -0.01197791, ...,  0.04460654,\n",
            "         0.07615414,  0.06976105],\n",
            "       [ 0.08135053, -0.0037635 , -0.05398796, ...,  0.00100932,\n",
            "         0.01953067, -0.01340495],\n",
            "       ...,\n",
            "       [ 0.10202397, -0.01594071, -0.11683322, ...,  0.09236839,\n",
            "         0.05807554, -0.00870769],\n",
            "       [ 0.06284504,  0.00725737, -0.07092929, ...,  0.01504263,\n",
            "         0.01206096, -0.00105923],\n",
            "       [ 0.06021898,  0.10413285, -0.09163705, ..., -0.06348766,\n",
            "         0.03408279,  0.01443262]], dtype=float32), array([[-0.1333335 ,  0.1340651 , -0.1000678 , ...,  0.05039861,\n",
            "         0.05095247, -0.07439079],\n",
            "       [-0.03532623,  0.02743883,  0.01965426, ...,  0.05140042,\n",
            "         0.09095204, -0.00478353],\n",
            "       [-0.03587418, -0.00061046,  0.0225937 , ...,  0.08110209,\n",
            "         0.03789698,  0.03677665],\n",
            "       ...,\n",
            "       [-0.08479346,  0.03906645, -0.07359307, ...,  0.09804618,\n",
            "        -0.01087457,  0.05099433],\n",
            "       [ 0.03079927,  0.00117716, -0.06671236, ...,  0.01182381,\n",
            "         0.02365663,  0.05116814],\n",
            "       [-0.08246828,  0.06707878,  0.03160232, ...,  0.05640662,\n",
            "        -0.02594024, -0.04268983]], dtype=float32), array([[-0.10470128,  0.16067216, -0.07194095, ...,  0.08270992,\n",
            "         0.02428972,  0.03220882],\n",
            "       [-0.1256564 ,  0.1244029 , -0.06063594, ...,  0.07016985,\n",
            "         0.03605307,  0.02514083],\n",
            "       [-0.1295307 ,  0.11918033, -0.05059205, ...,  0.13403016,\n",
            "        -0.03992186,  0.03272093],\n",
            "       ...,\n",
            "       [-0.05400619,  0.075188  , -0.10835584, ...,  0.12965131,\n",
            "        -0.03435569,  0.03738631],\n",
            "       [-0.04857634,  0.07488523, -0.09981728, ...,  0.13220948,\n",
            "        -0.02635994,  0.02811351],\n",
            "       [-0.09814674,  0.09706272, -0.12491978, ...,  0.1533825 ,\n",
            "        -0.00189488, -0.00727262]], dtype=float32), array([[-0.19286233,  0.16607176, -0.12131284, ...,  0.06677601,\n",
            "         0.07392932, -0.06888031],\n",
            "       [-0.11598992, -0.0446267 , -0.04301216, ...,  0.09159967,\n",
            "        -0.04412609, -0.07570071],\n",
            "       [-0.10086869,  0.03574616, -0.08171386, ..., -0.0381851 ,\n",
            "         0.00958596, -0.00845484],\n",
            "       ...,\n",
            "       [-0.22094837, -0.04736018, -0.08024265, ..., -0.00060023,\n",
            "         0.07011041,  0.02420039],\n",
            "       [-0.17512167,  0.02812488, -0.05981859, ..., -0.00643226,\n",
            "         0.10149959, -0.03201253],\n",
            "       [-0.17216687,  0.09233904,  0.03474397, ...,  0.01235832,\n",
            "        -0.01149213, -0.02831767]], dtype=float32), array([[ 0.00608566,  0.09375283, -0.1213863 , ...,  0.17184925,\n",
            "        -0.18962088,  0.03355569],\n",
            "       [-0.07342434,  0.16129193, -0.0725425 , ...,  0.13566437,\n",
            "        -0.02652391, -0.00565635],\n",
            "       [-0.1165827 ,  0.09377952, -0.0816739 , ...,  0.0695524 ,\n",
            "         0.04707238,  0.06166168],\n",
            "       ...,\n",
            "       [-0.07406731,  0.07091337, -0.12408699, ...,  0.0729272 ,\n",
            "        -0.051601  ,  0.051403  ],\n",
            "       [-0.07843383,  0.06191917, -0.12743819, ...,  0.10947612,\n",
            "        -0.04334086,  0.0393979 ],\n",
            "       [-0.09630229,  0.07506804, -0.11799785, ...,  0.09701239,\n",
            "        -0.04002625,  0.04046626]], dtype=float32), array([[-1.05031513e-01,  1.17352821e-01, -1.19381286e-01, ...,\n",
            "         5.23454845e-02,  4.75446209e-02, -7.46523589e-02],\n",
            "       [-7.67407343e-02,  5.23995161e-02, -9.98108089e-02, ...,\n",
            "         3.94275598e-02, -3.33963521e-02,  1.35473013e-02],\n",
            "       [-5.00153527e-02,  5.45484573e-02, -8.67137760e-02, ...,\n",
            "         4.58727591e-02,  6.71752021e-02,  2.82208994e-02],\n",
            "       ...,\n",
            "       [-1.31689757e-03,  7.87416101e-02, -1.73994184e-01, ...,\n",
            "         2.03097463e-01, -3.46031338e-02,  1.23154573e-01],\n",
            "       [-7.97889158e-02, -4.83897179e-02, -1.16259202e-01, ...,\n",
            "         4.83870953e-02, -1.42181277e-01, -1.82010904e-02],\n",
            "       [-8.53581280e-02,  1.32545829e-04, -1.44085407e-01, ...,\n",
            "        -8.24770331e-03,  4.30665910e-03,  3.40497494e-02]], dtype=float32), array([[-0.17226063,  0.1491105 , -0.09828651, ...,  0.03329539,\n",
            "        -0.00701933, -0.04191993],\n",
            "       [-0.08969701,  0.14525285, -0.07613336, ...,  0.06552726,\n",
            "         0.12228906,  0.00415002],\n",
            "       [-0.06923899,  0.18995278, -0.10005969, ...,  0.08639602,\n",
            "         0.06166106,  0.01293382],\n",
            "       ...,\n",
            "       [-0.13063839,  0.07808273, -0.18028891, ...,  0.11748149,\n",
            "        -0.04475354,  0.02196811],\n",
            "       [-0.11151531,  0.10043275, -0.13480595, ...,  0.11123262,\n",
            "        -0.05189863,  0.03708301],\n",
            "       [-0.1053381 ,  0.10885519, -0.10139585, ...,  0.1090713 ,\n",
            "        -0.03298718,  0.05055855]], dtype=float32), array([[-0.13133636,  0.14876902, -0.08258803, ...,  0.04880186,\n",
            "         0.07453141, -0.01399436],\n",
            "       [-0.01118795,  0.0130503 , -0.00322537, ...,  0.04333895,\n",
            "         0.03801988, -0.04201387],\n",
            "       [-0.0510686 ,  0.20027885, -0.06574184, ...,  0.10504889,\n",
            "         0.06056716,  0.01330678],\n",
            "       ...,\n",
            "       [ 0.00545548,  0.04774402, -0.1200977 , ...,  0.13317908,\n",
            "        -0.00840393, -0.04317486],\n",
            "       [-0.03252723,  0.12655982, -0.06822346, ...,  0.11713582,\n",
            "        -0.04754809, -0.0096285 ],\n",
            "       [-0.06352405,  0.02203672, -0.11050072, ...,  0.13285616,\n",
            "        -0.05758738, -0.02146824]], dtype=float32), array([[-0.04661801,  0.08963622, -0.06587826, ..., -0.06416304,\n",
            "        -0.04383909, -0.06805731],\n",
            "       [-0.08333542,  0.02971105,  0.07807029, ...,  0.00681692,\n",
            "        -0.09222061, -0.04674926],\n",
            "       [-0.00089539, -0.10159053, -0.10718229, ..., -0.13651869,\n",
            "        -0.03078068, -0.00190837],\n",
            "       ...,\n",
            "       [-0.00064624,  0.13832816, -0.15802376, ..., -0.06424864,\n",
            "        -0.00485565, -0.00493172],\n",
            "       [-0.13259843,  0.02276188, -0.19431834, ...,  0.04471146,\n",
            "         0.02815918,  0.04825403],\n",
            "       [-0.12044846,  0.10469851, -0.1399732 , ...,  0.02280384,\n",
            "        -0.01045181, -0.04609165]], dtype=float32), array([[-0.08402572,  0.19909614, -0.03658096, ..., -0.00318294,\n",
            "         0.01310866, -0.03565871],\n",
            "       [-0.08106128,  0.12764502, -0.05576773, ..., -0.02072765,\n",
            "         0.05864675,  0.01843476],\n",
            "       [-0.05488841,  0.09420095, -0.12832296, ..., -0.03878676,\n",
            "        -0.01166065,  0.0467433 ],\n",
            "       ...,\n",
            "       [-0.02481381,  0.09482199, -0.05161829, ...,  0.1134211 ,\n",
            "         0.026528  ,  0.10812204],\n",
            "       [-0.04595577,  0.07343324, -0.07637149, ...,  0.03059613,\n",
            "         0.07182321,  0.04693599],\n",
            "       [-0.14589712,  0.14015377, -0.06728225, ...,  0.00336719,\n",
            "         0.12428952,  0.07245621]], dtype=float32), array([[-0.06075101,  0.13921914, -0.06040352, ..., -0.12560606,\n",
            "         0.02095438, -0.08559485],\n",
            "       [-0.0509577 , -0.03185362, -0.01146124, ..., -0.05924624,\n",
            "         0.04595629,  0.03933634],\n",
            "       [-0.11349983,  0.0365843 , -0.02585906, ..., -0.02422829,\n",
            "        -0.04926733,  0.00404868],\n",
            "       ...,\n",
            "       [-0.0786816 ,  0.02136052, -0.11002606, ..., -0.03075336,\n",
            "        -0.01223723,  0.05120708],\n",
            "       [-0.08469531,  0.10958655, -0.01707471, ...,  0.0174536 ,\n",
            "        -0.02485511, -0.0242911 ],\n",
            "       [-0.09203679,  0.09961869, -0.02927827, ...,  0.02990995,\n",
            "        -0.01112127, -0.02904449]], dtype=float32), array([[ 0.02415658,  0.04253183,  0.08487295, ...,  0.02947503,\n",
            "         0.02380515, -0.06243497],\n",
            "       [ 0.13939548,  0.08005983,  0.03747876, ..., -0.07345974,\n",
            "        -0.03337129,  0.00717157],\n",
            "       [-0.01709841, -0.07192861,  0.09791444, ..., -0.02409057,\n",
            "        -0.01766   ,  0.02101648],\n",
            "       ...,\n",
            "       [-0.03062374, -0.04602545, -0.10507078, ...,  0.06738417,\n",
            "        -0.0626352 ,  0.06385713],\n",
            "       [-0.01312486, -0.01707214, -0.10892691, ...,  0.06260975,\n",
            "        -0.05866173,  0.05341765],\n",
            "       [-0.01837923, -0.01434585, -0.10542689, ...,  0.06434552,\n",
            "        -0.05576222,  0.03484914]], dtype=float32), array([[-0.03966372,  0.1033657 ,  0.0134476 , ..., -0.13085331,\n",
            "         0.07421762, -0.07905602],\n",
            "       [ 0.07402323,  0.13994   ,  0.01113643, ...,  0.0308245 ,\n",
            "        -0.08159182, -0.08092037],\n",
            "       [ 0.04722214,  0.11858355, -0.01501428, ..., -0.10020074,\n",
            "        -0.02059684,  0.04295263],\n",
            "       ...,\n",
            "       [ 0.03192509,  0.09488824, -0.10060973, ..., -0.12411384,\n",
            "        -0.00286561,  0.05770794],\n",
            "       [-0.00289904,  0.04770918, -0.07192853, ...,  0.01972762,\n",
            "        -0.03000658, -0.02266171],\n",
            "       [-0.02458085,  0.05206253, -0.1509735 , ..., -0.00202866,\n",
            "         0.05561764,  0.0263617 ]], dtype=float32), array([[-0.04306798,  0.11780421, -0.06538063, ...,  0.18098472,\n",
            "        -0.13328953,  0.08481146],\n",
            "       [-0.1437047 ,  0.06802393, -0.11494222, ...,  0.1512672 ,\n",
            "        -0.15462805,  0.019421  ],\n",
            "       [-0.08557183, -0.00224625, -0.07410611, ...,  0.16059914,\n",
            "        -0.1138126 , -0.01243111],\n",
            "       ...,\n",
            "       [-0.0631809 ,  0.04311343, -0.07108641, ...,  0.07288398,\n",
            "        -0.02856671,  0.03067759],\n",
            "       [-0.018061  ,  0.04864332, -0.15289   , ...,  0.03126135,\n",
            "        -0.02518573,  0.05160768],\n",
            "       [ 0.00082124,  0.0778686 , -0.07134468, ...,  0.08868687,\n",
            "        -0.05714016,  0.06026198]], dtype=float32), array([[-0.07183424,  0.23636045, -0.00708243, ..., -0.01182104,\n",
            "         0.11173265, -0.03983213],\n",
            "       [ 0.06733582,  0.11786728, -0.05556732, ..., -0.06684293,\n",
            "        -0.07332388,  0.0531617 ],\n",
            "       [ 0.01283366,  0.07136124, -0.07005296, ...,  0.084096  ,\n",
            "        -0.06044963,  0.02462786],\n",
            "       ...,\n",
            "       [ 0.11143664,  0.04019301, -0.14991853, ...,  0.10736707,\n",
            "         0.03763314,  0.02639823],\n",
            "       [ 0.08777557,  0.08345574, -0.05221578, ..., -0.04982261,\n",
            "        -0.03239682,  0.08339114],\n",
            "       [ 0.07447097,  0.06668389, -0.14241776, ...,  0.10506162,\n",
            "        -0.12809683,  0.06888981]], dtype=float32), array([[-0.08215965,  0.09542644, -0.0962531 , ...,  0.04130758,\n",
            "        -0.02977695, -0.00783968],\n",
            "       [-0.11883918,  0.04256769, -0.03162333, ...,  0.1007167 ,\n",
            "        -0.00466131,  0.02847549],\n",
            "       [-0.09492537,  0.03150642, -0.07280098, ...,  0.12522867,\n",
            "        -0.03857922,  0.0592447 ],\n",
            "       ...,\n",
            "       [-0.02343212,  0.17927632, -0.13906965, ...,  0.13587774,\n",
            "        -0.01576002,  0.03855698],\n",
            "       [-0.02632912,  0.17043914, -0.11691103, ...,  0.12005049,\n",
            "        -0.02005581,  0.03697202],\n",
            "       [-0.08829645,  0.08406444,  0.01396572, ...,  0.08660057,\n",
            "        -0.02204693, -0.00258283]], dtype=float32)]\n"
          ]
        }
      ]
    },
    {
      "cell_type": "code",
      "metadata": {
        "id": "qlqrwk7Ik3KY"
      },
      "source": [
        "for f in features:\n",
        "  print(f.shape)"
      ],
      "execution_count": null,
      "outputs": []
    },
    {
      "cell_type": "markdown",
      "metadata": {
        "id": "pwlkoREsdAPT"
      },
      "source": [
        "# Compute disatnce\n"
      ]
    },
    {
      "cell_type": "code",
      "metadata": {
        "id": "JgBjnMBoSqF_"
      },
      "source": [
        "mean_seq = []\n",
        "for i in embedding:\n",
        "  m = np.mean(i, axis=1)\n",
        "  n = list(m)\n",
        "  mean_seq.append(n)"
      ],
      "execution_count": null,
      "outputs": []
    },
    {
      "cell_type": "code",
      "metadata": {
        "id": "d87muuAKStu8"
      },
      "source": [
        "# Cosine Similarity\n",
        "dm_cos = distance.pdist(np.array(mean_seq), 'cosine')\n",
        "dm_cos = distance.squareform(dm_cos)\n",
        "#print(dm_cos)\n",
        "df_cos = pd.DataFrame(dm_cos)"
      ],
      "execution_count": null,
      "outputs": []
    },
    {
      "cell_type": "code",
      "metadata": {
        "id": "KYvFC31udGiO"
      },
      "source": [
        "# Euclidean distance \n",
        "dm_eu = distance.pdist(np.array(mean_seq), 'euclidean')\n",
        "dm_eu = distance.squareform(dm_eu)\n",
        "#print(dm_eu)\n",
        "df_eu = pd.DataFrame(dm_eu)"
      ],
      "execution_count": null,
      "outputs": []
    },
    {
      "cell_type": "markdown",
      "metadata": {
        "id": "ZlDGQT5vXlN_"
      },
      "source": [
        "# MDS "
      ]
    },
    {
      "cell_type": "code",
      "metadata": {
        "colab": {
          "base_uri": "https://localhost:8080/",
          "height": 483
        },
        "id": "fZXXtz5CXkm1",
        "outputId": "1aec05d8-6bd4-4500-e740-eed891e0cf72"
      },
      "source": [
        "from sklearn.preprocessing import normalize\n",
        "from sklearn import manifold\n",
        "from matplotlib import pyplot as plt\n",
        "from matplotlib.lines import Line2D\n",
        "\n",
        "\n",
        "model_mds = manifold.MDS(n_components=2, random_state=0, metric='precomputed')\n",
        "coords = model_mds.fit_transform(dm_eu)\n",
        "\n",
        "cmap = plt.get_cmap('Set1')\n",
        "colors = [cmap(i) for i in np.linspace(0, 1, 20)] \n",
        "\n",
        "plt.figure(figsize=(7, 7))\n",
        "plt.scatter(coords[:, 0], coords[:, 1], marker='o', c=colors, s=50, edgecolor='None')\n",
        "\n",
        "plt.show()"
      ],
      "execution_count": null,
      "outputs": [
        {
          "output_type": "stream",
          "name": "stderr",
          "text": [
            "/usr/local/lib/python3.7/dist-packages/sklearn/manifold/_mds.py:419: UserWarning: The MDS API has changed. ``fit`` now constructs an dissimilarity matrix from data. To use a custom dissimilarity matrix, set ``dissimilarity='precomputed'``.\n",
            "  warnings.warn(\"The MDS API has changed. ``fit`` now constructs an\"\n"
          ]
        },
        {
          "output_type": "display_data",
          "data": {
            "image/png": "[encoded data removed]",
            "text/plain": [
              "<Figure size 504x504 with 1 Axes>"
            ]
          },
          "metadata": {
            "needs_background": "light"
          }
        }
      ]
    },
    {
      "cell_type": "markdown",
      "metadata": {
        "id": "K9_mZreavvf7"
      },
      "source": [
        "Tsne"
      ]
    },
    {
      "cell_type": "code",
      "metadata": {
        "colab": {
          "base_uri": "https://localhost:8080/",
          "height": 428
        },
        "id": "Bms0bfK4p3xC",
        "outputId": "a45f8e39-2649-46ab-d97a-54bac1fe872a"
      },
      "source": [
        "from sklearn.preprocessing import normalize\n",
        "from sklearn import manifold\n",
        "from matplotlib import pyplot as plt\n",
        "from matplotlib.lines import Line2D\n",
        "\n",
        "\n",
        "model_mds = manifold.TSNE(n_components=2, random_state=0, metric='precomputed')\n",
        "coords = model_mds.fit_transform(dm_eu)\n",
        "\n",
        "cmap = plt.get_cmap('Set1')\n",
        "colors = [cmap(i) for i in np.linspace(0, 1, 20)] \n",
        "\n",
        "plt.figure(figsize=(7, 7))\n",
        "plt.scatter(coords[:, 0], coords[:, 1], marker='o', c=colors, s=50, edgecolor='None')\n",
        "\n",
        "plt.show()"
      ],
      "execution_count": null,
      "outputs": [
        {
          "output_type": "display_data",
          "data": {
            "image/png": "[encoded data removed]",
            "text/plain": [
              "<Figure size 504x504 with 1 Axes>"
            ]
          },
          "metadata": {
            "needs_background": "light"
          }
        }
      ]
    },
    {
      "cell_type": "code",
      "metadata": {
        "id": "dGQORe4YfDLQ"
      },
      "source": [
        "coords"
      ],
      "execution_count": null,
      "outputs": []
    },
    {
      "cell_type": "markdown",
      "metadata": {
        "id": "rr45rV9vvtSC"
      },
      "source": [
        "UMAP"
      ]
    },
    {
      "cell_type": "code",
      "metadata": {
        "colab": {
          "base_uri": "https://localhost:8080/"
        },
        "id": "NkCWBr7WrNGG",
        "outputId": "be1b297e-8679-48aa-ea7b-4ff2dc3a1e66"
      },
      "source": [
        "!pip install umap-learn"
      ],
      "execution_count": null,
      "outputs": [
        {
          "output_type": "stream",
          "name": "stdout",
          "text": [
            "Collecting umap-learn\n",
            "  Downloading umap-learn-0.5.2.tar.gz (86 kB)\n",
            "\u001b[K     |████████████████████████████████| 86 kB 2.7 MB/s \n",
            "\u001b[?25hRequirement already satisfied: numpy>=1.17 in /usr/local/lib/python3.7/dist-packages (from umap-learn) (1.19.5)\n",
            "Requirement already satisfied: scikit-learn>=0.22 in /usr/local/lib/python3.7/dist-packages (from umap-learn) (0.22.2.post1)\n",
            "Requirement already satisfied: scipy>=1.0 in /usr/local/lib/python3.7/dist-packages (from umap-learn) (1.4.1)\n",
            "Requirement already satisfied: numba>=0.49 in /usr/local/lib/python3.7/dist-packages (from umap-learn) (0.51.2)\n",
            "Collecting pynndescent>=0.5\n",
            "  Downloading pynndescent-0.5.5.tar.gz (1.1 MB)\n",
            "\u001b[K     |████████████████████████████████| 1.1 MB 28.1 MB/s \n",
            "\u001b[?25hRequirement already satisfied: tqdm in /usr/local/lib/python3.7/dist-packages (from umap-learn) (4.62.3)\n",
            "Requirement already satisfied: llvmlite<0.35,>=0.34.0.dev0 in /usr/local/lib/python3.7/dist-packages (from numba>=0.49->umap-learn) (0.34.0)\n",
            "Requirement already satisfied: setuptools in /usr/local/lib/python3.7/dist-packages (from numba>=0.49->umap-learn) (57.4.0)\n",
            "Requirement already satisfied: joblib>=0.11 in /usr/local/lib/python3.7/dist-packages (from pynndescent>=0.5->umap-learn) (1.0.1)\n",
            "Building wheels for collected packages: umap-learn, pynndescent\n",
            "  Building wheel for umap-learn (setup.py) ... \u001b[?25l\u001b[?25hdone\n",
            "  Created wheel for umap-learn: filename=umap_learn-0.5.2-py3-none-any.whl size=82709 sha256=278b4518d30f33b57bfb3f2dd48d51349c670658e8c5e68027d683700f341a18\n",
            "  Stored in directory: /root/.cache/pip/wheels/84/1b/c6/aaf68a748122632967cef4dffef68224eb16798b6793257d82\n",
            "  Building wheel for pynndescent (setup.py) ... \u001b[?25l\u001b[?25hdone\n",
            "  Created wheel for pynndescent: filename=pynndescent-0.5.5-py3-none-any.whl size=52603 sha256=18f4ad144bf14049b9fb860b6231b6bdc79c16dbf771060f79cade30e5a4a491\n",
            "  Stored in directory: /root/.cache/pip/wheels/af/e9/33/04db1436df0757c42fda8ea6796d7a8586e23c85fac355f476\n",
            "Successfully built umap-learn pynndescent\n",
            "Installing collected packages: pynndescent, umap-learn\n",
            "Successfully installed pynndescent-0.5.5 umap-learn-0.5.2\n"
          ]
        }
      ]
    },
    {
      "cell_type": "code",
      "metadata": {
        "colab": {
          "base_uri": "https://localhost:8080/",
          "height": 517
        },
        "id": "E9QRa1IxrGmp",
        "outputId": "c1849ba6-c3e7-4259-a122-2eef121f5b11"
      },
      "source": [
        "from umap import UMAP\n",
        "\n",
        "model_mds = UMAP(n_components=2, random_state=0, metric='precomputed')\n",
        "coords = model_mds.fit_transform(dm_eu)\n",
        "\n",
        "cmap = plt.get_cmap('Set1')\n",
        "colors = [cmap(i) for i in np.linspace(0, 1, 20)] \n",
        "\n",
        "plt.figure(figsize=(7, 7))\n",
        "plt.scatter(coords[:, 0], coords[:, 1], marker='o', c=colors, s=50, edgecolor='None')\n",
        "\n",
        "plt.show()"
      ],
      "execution_count": null,
      "outputs": [
        {
          "output_type": "stream",
          "name": "stderr",
          "text": [
            "/usr/local/lib/python3.7/dist-packages/umap/umap_.py:1780: UserWarning: using precomputed metric; inverse_transform will be unavailable\n",
            "  warn(\"using precomputed metric; inverse_transform will be unavailable\")\n",
            "/usr/local/lib/python3.7/dist-packages/numba/np/ufunc/parallel.py:363: NumbaWarning: The TBB threading layer requires TBB version 2019.5 or later i.e., TBB_INTERFACE_VERSION >= 11005. Found TBB_INTERFACE_VERSION = 9107. The TBB threading layer is disabled.\n",
            "  warnings.warn(problem)\n"
          ]
        },
        {
          "output_type": "display_data",
          "data": {
            "image/png": "[encoded data removed]",
            "text/plain": [
              "<Figure size 504x504 with 1 Axes>"
            ]
          },
          "metadata": {
            "needs_background": "light"
          }
        }
      ]
    },
    {
      "cell_type": "markdown",
      "metadata": {
        "id": "kbqHTTYbdoVH"
      },
      "source": [
        "#split data "
      ]
    },
    {
      "cell_type": "code",
      "metadata": {
        "id": "dMPzbMeKuYtv"
      },
      "source": [
        "from sklearn.model_selection import train_test_split\n",
        "x_train, x_test, = train_test_split(features, test_size=0.1, random_state=42)"
      ],
      "execution_count": null,
      "outputs": []
    },
    {
      "cell_type": "markdown",
      "metadata": {
        "id": "HMDirBdjBr92"
      },
      "source": [
        "# Keras Variational Autoencoder "
      ]
    },
    {
      "cell_type": "code",
      "metadata": {
        "id": "7FpkYKeedWhN"
      },
      "source": [
        "import tensorflow as tf\n",
        "from tensorflow import  keras\n",
        "from  tensorflow.keras.layers import Dense, Flatten, TimeDistributed, Dropout, BatchNormalization, Input, Lambda, LSTM, RepeatVector, Masking\n",
        "import tensorflow.keras.models\n",
        "import tensorflow.keras.optimizers\n",
        "import tensorflow.keras.datasets\n",
        "import numpy\n",
        "import matplotlib.pyplot\n",
        "from tensorflow.keras import backend as K\n",
        "from keras.models import Model\n",
        "from tensorflow.keras.callbacks import EarlyStopping\n",
        "\n",
        "from tensorflow.keras import layers"
      ],
      "execution_count": null,
      "outputs": []
    },
    {
      "cell_type": "code",
      "metadata": {
        "id": "hT1OYYU4J5mj"
      },
      "source": [
        "# masking \n",
        "Masking(mask_value=special_value, input_shape=(max_seq_len, dimension))"
      ],
      "execution_count": null,
      "outputs": []
    },
    {
      "cell_type": "markdown",
      "metadata": {
        "id": "-T6Yqs4xsrf2"
      },
      "source": [
        "## LSTM"
      ]
    },
    {
      "cell_type": "markdown",
      "metadata": {
        "id": "ayx-VJKuw7D1"
      },
      "source": [
        "for sequences of differnt length use Input(shape=(None, embedding.shape[-1],))"
      ]
    },
    {
      "cell_type": "code",
      "metadata": {
        "id": "NxUQy0l9tGVU"
      },
      "source": [
        "#batch_size = 5\n",
        "#MAX_LENGTH=len(ORDER_LIST)*PRUNED_SEQ_LENGTH # length of embedding \n",
        "#output_dim=len(ORDER_LIST)*PRUNED_SEQ_LENGTH # used in decoder_out\n",
        "latent_dim = 2 # could be higher\n",
        "intermediate_dim = 250\n",
        "nb_epoch = 10\n",
        "epsilon_std = 1.0\n",
        "np.random.seed(42)  "
      ],
      "execution_count": null,
      "outputs": []
    },
    {
      "cell_type": "code",
      "metadata": {
        "id": "1TpFngKJsrBO"
      },
      "source": [
        "def sampling(args):\n",
        "    \n",
        "    z_mean, z_log_sigma = args\n",
        "    batch_size = tf.shape(z_mean)[0]\n",
        "    epsilon = K.random_normal(shape=(batch_size, latent_dim), mean=0., stddev=1.)\n",
        "    \n",
        "    return z_mean + K.exp(0.5 * z_log_sigma) * epsilon"
      ],
      "execution_count": null,
      "outputs": []
    },
    {
      "cell_type": "code",
      "metadata": {
        "id": "yZkwVXAk1h_p"
      },
      "source": [
        "# https://python.tutorialink.com/keras-my_layer-output-returning-kerastensor-object-instead-of-tensor-object-in-custom-loss-function/\n",
        "def vae_loss(x, x_decoded_mean, z_log_var, z_mean):\n",
        "\n",
        "    xent_loss = embedding.shape[1] * K.binary_crossentropy(x, x_decoded_mean)\n",
        "    kl_loss = - 0.5 * K.sum(1 + z_log_var - K.square(z_mean) - K.exp(z_log_var))\n",
        "    vae_loss = K.mean(xent_loss + kl_loss)\n",
        "\n",
        "    return vae_loss"
      ],
      "execution_count": null,
      "outputs": []
    },
    {
      "cell_type": "code",
      "metadata": {
        "colab": {
          "base_uri": "https://localhost:8080/"
        },
        "id": "QL_su9STlc86",
        "outputId": "d58653a7-0945-4920-fa1d-d8927d9ce252"
      },
      "source": [
        "#Encoding Layers\n",
        "x = Input(shape=(None, embedding.shape[-1],))\n",
        "h = LSTM(250)(x)\n",
        "\n",
        "#Latent layers\n",
        "z_mean=Dense(latent_dim)(h)\n",
        "z_log_var=Dense(latent_dim)(h)\n",
        "z = Lambda(sampling, output_shape=(latent_dim,))([z_mean, z_log_var])\n",
        "\n",
        "encoder = keras.Model(x, [z_mean, z_log_var, z], name=\"encoder\")\n",
        "encoder.summary()"
      ],
      "execution_count": null,
      "outputs": [
        {
          "output_type": "stream",
          "name": "stdout",
          "text": [
            "Model: \"encoder\"\n",
            "__________________________________________________________________________________________________\n",
            "Layer (type)                    Output Shape         Param #     Connected to                     \n",
            "==================================================================================================\n",
            "input_1 (InputLayer)            [(None, None, 1024)] 0                                            \n",
            "__________________________________________________________________________________________________\n",
            "lstm (LSTM)                     (None, 250)          1275000     input_1[0][0]                    \n",
            "__________________________________________________________________________________________________\n",
            "dense (Dense)                   (None, 2)            502         lstm[0][0]                       \n",
            "__________________________________________________________________________________________________\n",
            "dense_1 (Dense)                 (None, 2)            502         lstm[0][0]                       \n",
            "__________________________________________________________________________________________________\n",
            "lambda (Lambda)                 (None, 2)            0           dense[0][0]                      \n",
            "                                                                 dense_1[0][0]                    \n",
            "==================================================================================================\n",
            "Total params: 1,276,004\n",
            "Trainable params: 1,276,004\n",
            "Non-trainable params: 0\n",
            "__________________________________________________________________________________________________\n"
          ]
        }
      ]
    },
    {
      "cell_type": "code",
      "metadata": {
        "colab": {
          "base_uri": "https://localhost:8080/"
        },
        "id": "ErD9WcGMn-Gf",
        "outputId": "5fb9342d-3ad2-406e-ff1a-987c7ac931bd"
      },
      "source": [
        "x.shape[2]"
      ],
      "execution_count": null,
      "outputs": [
        {
          "output_type": "execute_result",
          "data": {
            "text/plain": [
              "1024"
            ]
          },
          "metadata": {},
          "execution_count": 86
        }
      ]
    },
    {
      "cell_type": "code",
      "metadata": {
        "colab": {
          "base_uri": "https://localhost:8080/"
        },
        "id": "9xUZu6KEs4u8",
        "outputId": "b5401714-9e60-4384-88e9-26e031abb4e0"
      },
      "source": [
        "#Encoding Layers\n",
        "x = Input(shape=(embedding.shape[1], embedding.shape[-1],))\n",
        "h = LSTM(250)(x)\n",
        "\n",
        "#Latent layers\n",
        "z_mean=Dense(latent_dim)(h)\n",
        "z_log_var=Dense(latent_dim)(h)\n",
        "z = Lambda(sampling, output_shape=(latent_dim,))([z_mean, z_log_var])\n",
        "\n",
        "encoder = keras.Model(x, [z_mean, z_log_var, z], name=\"encoder\")\n",
        "encoder.summary()"
      ],
      "execution_count": null,
      "outputs": [
        {
          "output_type": "stream",
          "name": "stdout",
          "text": [
            "Model: \"encoder\"\n",
            "__________________________________________________________________________________________________\n",
            "Layer (type)                    Output Shape         Param #     Connected to                     \n",
            "==================================================================================================\n",
            "input_2 (InputLayer)            [(None, 1496, 1024)] 0                                            \n",
            "__________________________________________________________________________________________________\n",
            "lstm_1 (LSTM)                   (None, 250)          1275000     input_2[0][0]                    \n",
            "__________________________________________________________________________________________________\n",
            "dense_2 (Dense)                 (None, 2)            502         lstm_1[0][0]                     \n",
            "__________________________________________________________________________________________________\n",
            "dense_3 (Dense)                 (None, 2)            502         lstm_1[0][0]                     \n",
            "__________________________________________________________________________________________________\n",
            "lambda_1 (Lambda)               (None, 2)            0           dense_2[0][0]                    \n",
            "                                                                 dense_3[0][0]                    \n",
            "==================================================================================================\n",
            "Total params: 1,276,004\n",
            "Trainable params: 1,276,004\n",
            "Non-trainable params: 0\n",
            "__________________________________________________________________________________________________\n"
          ]
        }
      ]
    },
    {
      "cell_type": "code",
      "metadata": {
        "id": "NUbAIMt6lzaV"
      },
      "source": [
        "# decoded LSTM layer\n",
        "decoder_h = LSTM(250, return_sequences=True)\n",
        "decoder_mean = LSTM(embedding.shape[-1], return_sequences=True)\n",
        "\n",
        "h_decoded = RepeatVector(embedding.shape[1])(z)\n",
        "h_decoded = decoder_h(h_decoded)\n",
        "\n",
        "# decoded layer\n",
        "x_decoded_mean = decoder_mean(h_decoded)"
      ],
      "execution_count": null,
      "outputs": []
    },
    {
      "cell_type": "code",
      "metadata": {
        "colab": {
          "base_uri": "https://localhost:8080/"
        },
        "id": "ElFMZ4s1ma2Y",
        "outputId": "dd6e3b48-1e33-4269-e5c2-e9ffd1ce9b22"
      },
      "source": [
        "# end-to-end autoencoder\n",
        "vae = Model(x, x_decoded_mean)\n",
        "vae.summary()"
      ],
      "execution_count": null,
      "outputs": [
        {
          "output_type": "stream",
          "name": "stdout",
          "text": [
            "Model: \"model_1\"\n",
            "__________________________________________________________________________________________________\n",
            "Layer (type)                    Output Shape         Param #     Connected to                     \n",
            "==================================================================================================\n",
            "input_2 (InputLayer)            [(None, 1496, 1024)] 0                                            \n",
            "__________________________________________________________________________________________________\n",
            "lstm_1 (LSTM)                   (None, 250)          1275000     input_2[0][0]                    \n",
            "__________________________________________________________________________________________________\n",
            "dense_2 (Dense)                 (None, 2)            502         lstm_1[0][0]                     \n",
            "__________________________________________________________________________________________________\n",
            "dense_3 (Dense)                 (None, 2)            502         lstm_1[0][0]                     \n",
            "__________________________________________________________________________________________________\n",
            "lambda_1 (Lambda)               (None, 2)            0           dense_2[0][0]                    \n",
            "                                                                 dense_3[0][0]                    \n",
            "__________________________________________________________________________________________________\n",
            "repeat_vector (RepeatVector)    (None, 1496, 2)      0           lambda_1[0][0]                   \n",
            "__________________________________________________________________________________________________\n",
            "lstm_2 (LSTM)                   (None, 1496, 250)    253000      repeat_vector[0][0]              \n",
            "__________________________________________________________________________________________________\n",
            "lstm_3 (LSTM)                   (None, 1496, 1024)   5222400     lstm_2[0][0]                     \n",
            "==================================================================================================\n",
            "Total params: 6,751,404\n",
            "Trainable params: 6,751,404\n",
            "Non-trainable params: 0\n",
            "__________________________________________________________________________________________________\n"
          ]
        }
      ]
    },
    {
      "cell_type": "code",
      "metadata": {
        "colab": {
          "base_uri": "https://localhost:8080/",
          "height": 754
        },
        "id": "ieAcobIeu2T2",
        "outputId": "647df7bf-709c-46c3-8497-267e3edd04cf"
      },
      "source": [
        "from keras.utils import np_utils\n",
        "keras.utils.plot_model(vae, \"my_first_model.png\", show_shapes= True)"
      ],
      "execution_count": null,
      "outputs": [
        {
          "output_type": "execute_result",
          "data": {
            "image/png": "[encoded data removed]",
            "text/plain": [
              "<IPython.core.display.Image object>"
            ]
          },
          "metadata": {},
          "execution_count": 31
        }
      ]
    },
    {
      "cell_type": "code",
      "metadata": {
        "id": "DqSI7O3L2EWJ"
      },
      "source": [
        "vae.add_loss(vae_loss(x, x_decoded_mean, z_log_var, z_mean))"
      ],
      "execution_count": null,
      "outputs": []
    },
    {
      "cell_type": "code",
      "metadata": {
        "id": "9tIw5GdctdmM"
      },
      "source": [
        "vae.compile(optimizer=\"adam\", loss=None)"
      ],
      "execution_count": null,
      "outputs": []
    },
    {
      "cell_type": "code",
      "metadata": {
        "colab": {
          "base_uri": "https://localhost:8080/"
        },
        "id": "foKL6EGwugKw",
        "outputId": "eed72f52-d529-47be-b1a4-e3c37a3cd8aa"
      },
      "source": [
        "hist=vae.fit(x_train,x_train ,\n",
        "        shuffle=True,\n",
        "        epochs=nb_epoch,\n",
        "        batch_size=5,\n",
        "        validation_split=0.1) "
      ],
      "execution_count": null,
      "outputs": [
        {
          "output_type": "stream",
          "name": "stdout",
          "text": [
            "Epoch 1/10\n",
            "4/4 [==============================] - 243s 56s/step - loss: -31.6503 - val_loss: -106.9899\n",
            "Epoch 2/10\n",
            "4/4 [==============================] - 225s 54s/step - loss: -99.2686 - val_loss: -113.2817\n",
            "Epoch 3/10\n",
            "4/4 [==============================] - 236s 57s/step - loss: -176.3956 - val_loss: -211.6494\n",
            "Epoch 4/10\n",
            "4/4 [==============================] - 228s 54s/step - loss: -258.9427 - val_loss: -278.8725\n",
            "Epoch 5/10\n",
            "4/4 [==============================] - 226s 54s/step - loss: -237.7894 - val_loss: -336.9953\n",
            "Epoch 6/10\n",
            "4/4 [==============================] - 232s 56s/step - loss: -380.5681 - val_loss: -370.3084\n",
            "Epoch 7/10\n",
            "4/4 [==============================] - 225s 54s/step - loss: -408.8961 - val_loss: -399.3239\n",
            "Epoch 8/10\n",
            "4/4 [==============================] - 229s 55s/step - loss: -443.7595 - val_loss: -422.8557\n",
            "Epoch 9/10\n",
            "4/4 [==============================] - 228s 54s/step - loss: -469.7809 - val_loss: -441.0300\n",
            "Epoch 10/10\n",
            "4/4 [==============================] - 225s 53s/step - loss: -475.3983 - val_loss: -455.3969\n"
          ]
        }
      ]
    },
    {
      "cell_type": "code",
      "metadata": {
        "id": "H9oVREjncdzz"
      },
      "source": [
        "encode_seq =  encoder.predict(x_train)"
      ],
      "execution_count": null,
      "outputs": []
    },
    {
      "cell_type": "code",
      "metadata": {
        "id": "i0eWzMohix5J"
      },
      "source": [
        "vae_seq = vae.predict(x_train)"
      ],
      "execution_count": null,
      "outputs": []
    },
    {
      "cell_type": "code",
      "metadata": {
        "colab": {
          "base_uri": "https://localhost:8080/"
        },
        "id": "5Y_CvgzwjBvp",
        "outputId": "292fe506-fa26-4ccf-ed57-7e9fcf9b4ee5"
      },
      "source": [
        "vae_seq.shape"
      ],
      "execution_count": null,
      "outputs": [
        {
          "output_type": "execute_result",
          "data": {
            "text/plain": [
              "(18, 1496, 1024)"
            ]
          },
          "metadata": {},
          "execution_count": 71
        }
      ]
    },
    {
      "cell_type": "code",
      "metadata": {
        "colab": {
          "base_uri": "https://localhost:8080/"
        },
        "id": "ceoJ17R7g5Sv",
        "outputId": "df0aaf7a-50ea-41c5-ce96-03dd1e9e685a"
      },
      "source": [
        "x_train.shape"
      ],
      "execution_count": null,
      "outputs": [
        {
          "output_type": "execute_result",
          "data": {
            "text/plain": [
              "(18, 1496, 1024)"
            ]
          },
          "metadata": {},
          "execution_count": 55
        }
      ]
    },
    {
      "cell_type": "code",
      "metadata": {
        "colab": {
          "base_uri": "https://localhost:8080/"
        },
        "id": "IavoK5lohVIl",
        "outputId": "5fc66d7b-7163-4216-85b1-81aafc589d56"
      },
      "source": [
        "len(encode_seq[1])"
      ],
      "execution_count": null,
      "outputs": [
        {
          "output_type": "execute_result",
          "data": {
            "text/plain": [
              "18"
            ]
          },
          "metadata": {},
          "execution_count": 60
        }
      ]
    },
    {
      "cell_type": "code",
      "metadata": {
        "colab": {
          "base_uri": "https://localhost:8080/"
        },
        "id": "ADcZ5hROh9bJ",
        "outputId": "4d8b1f0e-fc24-4bba-afb7-d0e2830c7e80"
      },
      "source": [
        "len(encode_seq[1][:, 1])"
      ],
      "execution_count": null,
      "outputs": [
        {
          "output_type": "execute_result",
          "data": {
            "text/plain": [
              "18"
            ]
          },
          "metadata": {},
          "execution_count": 67
        }
      ]
    },
    {
      "cell_type": "code",
      "metadata": {
        "colab": {
          "base_uri": "https://localhost:8080/",
          "height": 286
        },
        "id": "ySX2S6BBeSbB",
        "outputId": "8f9ae4b4-ca24-4a7b-a17c-bb5faadf9fd0"
      },
      "source": [
        "cmap = plt.get_cmap('Set1')\n",
        "colors = [cmap(i) for i in np.linspace(0, 1, len(encode_seq[1]) )] \n",
        "\n",
        "matplotlib.pyplot.figure()\n",
        "matplotlib.pyplot.scatter(encode_seq[1][:, 0], encode_seq[1][:, 1], c=colors)  # coordone de premiere d et le coordonne de deuxieme d\n",
        "matplotlib.pyplot.colorbar()"
      ],
      "execution_count": null,
      "outputs": [
        {
          "output_type": "execute_result",
          "data": {
            "text/plain": [
              "<matplotlib.colorbar.Colorbar at 0x7f372295a450>"
            ]
          },
          "metadata": {},
          "execution_count": 68
        },
        {
          "output_type": "display_data",
          "data": {
            "image/png": "[encoded data removed]",
            "text/plain": [
              "<Figure size 432x288 with 2 Axes>"
            ]
          },
          "metadata": {
            "needs_background": "light"
          }
        }
      ]
    },
    {
      "cell_type": "markdown",
      "metadata": {
        "id": "ykoSR-GtmUJZ"
      },
      "source": [
        "## MLP"
      ]
    },
    {
      "cell_type": "markdown",
      "metadata": {
        "id": "C96DGsPcm5Sc"
      },
      "source": [
        "https://github.com/samsinai/VAE_protein_function/blob/master/VAE_for_protein_function_prediction.ipynb"
      ]
    },
    {
      "cell_type": "code",
      "metadata": {
        "id": "vABRc2Y7Epzz"
      },
      "source": [
        "x = Input(shape=(embedding.shape[1], embedding.shape[-1]))\n",
        "h = Dense(embedding.shape[1],activation=\"relu\")(x)"
      ],
      "execution_count": null,
      "outputs": []
    },
    {
      "cell_type": "code",
      "metadata": {
        "id": "DxoR45tcE2bu"
      },
      "source": [
        "Dense(embedding.shape[1],activation=\"relu\")(embedding)"
      ],
      "execution_count": null,
      "outputs": []
    },
    {
      "cell_type": "code",
      "metadata": {
        "colab": {
          "base_uri": "https://localhost:8080/"
        },
        "id": "QJSKtJ218f6x",
        "outputId": "1a6e76ca-b863-4b0c-f455-d510d9c0fe6b"
      },
      "source": [
        "embedding.shape[1]"
      ],
      "execution_count": null,
      "outputs": [
        {
          "output_type": "execute_result",
          "data": {
            "text/plain": [
              "1496"
            ]
          },
          "metadata": {},
          "execution_count": 30
        }
      ]
    },
    {
      "cell_type": "code",
      "metadata": {
        "id": "bzXkFo3h3uwl"
      },
      "source": [
        "#MAX_LENGTH = 300 # nb de vectors 1042\n",
        "#NUM_WORDS = 1000 # acid amine "
      ],
      "execution_count": null,
      "outputs": []
    },
    {
      "cell_type": "code",
      "metadata": {
        "id": "HNBSitMDmdYG"
      },
      "source": [
        "#batch_size = 5\n",
        "#MAX_LENGTH=len(ORDER_LIST)*PRUNED_SEQ_LENGTH # length of embedding \n",
        "#output_dim=len(ORDER_LIST)*PRUNED_SEQ_LENGTH # used in decoder_out\n",
        "latent_dim = 2 # could be higher\n",
        "intermediate_dim = 250\n",
        "nb_epoch = 10\n",
        "epsilon_std = 1.0\n",
        "np.random.seed(42)  "
      ],
      "execution_count": null,
      "outputs": []
    },
    {
      "cell_type": "code",
      "metadata": {
        "id": "a7mTkNTymgoq"
      },
      "source": [
        "def sampling(args):\n",
        "    z_mean_, z_log_var = args\n",
        "    batch_size = K.shape(z_mean_)[0]\n",
        "    epsilon = K.random_normal(shape=(batch_size, latent_dim), mean=0.,\n",
        "                               stddev=epsilon_std)\n",
        "    return z_mean_ + K.exp(z_log_var / 2) * epsilon\n"
      ],
      "execution_count": null,
      "outputs": []
    },
    {
      "cell_type": "markdown",
      "metadata": {
        "id": "DVAPbN17Kque"
      },
      "source": [
        "loss : https://keras.io/examples/generative/vae/"
      ]
    },
    {
      "cell_type": "code",
      "metadata": {
        "id": "gkfuuLX61lJW"
      },
      "source": [
        "def vae_loss(x, x_decoded_mean):\n",
        "    xent_loss = keras.metrics.binary_crossentropy(x, x_decoded_mean)\n",
        "    kl_loss = -0.5 * K.mean(1 + z_log_var - K.square(z_mean) - K.exp(z_log_var))\n",
        "    loss = xent_loss + kl_loss\n",
        "    return loss"
      ],
      "execution_count": null,
      "outputs": []
    },
    {
      "cell_type": "code",
      "metadata": {
        "id": "xXYvmeTsoYWa"
      },
      "source": [
        "def vae_loss(self, x, z_decoded):\n",
        "        x = K.flatten(x)\n",
        "        z_decoded = K.flatten(z_decoded)\n",
        "        xent_loss = keras.metrics.binary_crossentropy(x, z_decoded)\n",
        "        kl_loss = -5e-4 * K.mean(\n",
        "            1 + z_log_var - K.square(z_mean) - K.exp(z_log_var), axis=-1)\n",
        "        return K.mean(xent_loss + kl_loss)"
      ],
      "execution_count": null,
      "outputs": []
    },
    {
      "cell_type": "code",
      "metadata": {
        "id": "VMU6g0iUzHQT"
      },
      "source": [
        "def get_loss(distribution_mean, distribution_variance):\n",
        "    \n",
        "    def get_reconstruction_loss(y_true, y_pred):\n",
        "        reconstruction_loss = keras.losses.mse(y_true, y_pred)\n",
        "        reconstruction_loss_batch = tf.reduce_mean(reconstruction_loss)\n",
        "        return reconstruction_loss_batch*256*256\n",
        "    \n",
        "    def get_kl_loss(distribution_mean, distribution_variance):\n",
        "        kl_loss = 1 + distribution_variance - tf.square(distribution_mean) - tf.exp(distribution_variance)\n",
        "        kl_loss_batch = tf.reduce_mean(kl_loss)\n",
        "        return kl_loss_batch*(-0.5)\n",
        "    \n",
        "    def total_loss(y_true, y_pred):\n",
        "        reconstruction_loss_batch = get_reconstruction_loss(y_true, y_pred)\n",
        "        kl_loss_batch = get_kl_loss(distribution_mean, distribution_variance)\n",
        "        return reconstruction_loss_batch + kl_loss_batch\n",
        "    \n",
        "    return total_loss"
      ],
      "execution_count": null,
      "outputs": []
    },
    {
      "cell_type": "code",
      "metadata": {
        "colab": {
          "base_uri": "https://localhost:8080/"
        },
        "id": "3ARk_Lx5zWpX",
        "outputId": "ae1725b8-4610-4ffb-a554-f07f049cbd08"
      },
      "source": [
        "#Encoding Layers\n",
        "x = Input(shape=(embedding.shape[1], embedding.shape[-1],))\n",
        "h = Dense(550,activation=\"relu\")(x)\n",
        "h= Dropout(0.2)(h)\n",
        "h = Dense(550, activation='relu')(h)\n",
        "h= BatchNormalization()(h) # momentum\n",
        "#h = Flatten()(h)\n",
        "#h = Dense(550, activation='relu')(h)\n",
        "#h = Dense(128, activation='relu')(h)\n",
        "#h = Dense(32, activation='relu')(h)\n",
        "#h = Dense(16, activation='relu')(h)\n",
        "\n",
        "#Latent layers\n",
        "z_mean=Dense(latent_dim)(h)\n",
        "z_log_var=Dense(latent_dim)(h)\n",
        "z = Lambda(sampling, output_shape=(latent_dim,))([z_mean, z_log_var])\n",
        "#z = Sampling()([z_mean, z_log_var])\n",
        "encoder = keras.Model(x, [z_mean, z_log_var, z], name=\"encoder\")\n",
        "encoder.summary()"
      ],
      "execution_count": null,
      "outputs": [
        {
          "output_type": "stream",
          "name": "stdout",
          "text": [
            "Model: \"encoder\"\n",
            "__________________________________________________________________________________________________\n",
            "Layer (type)                    Output Shape         Param #     Connected to                     \n",
            "==================================================================================================\n",
            "input_1 (InputLayer)            [(None, 1496, 1024)] 0                                            \n",
            "__________________________________________________________________________________________________\n",
            "lstm_11 (LSTM)                  (None, 550)          3465000     input_1[0][0]                    \n",
            "__________________________________________________________________________________________________\n",
            "dense_10 (Dense)                (None, 2)            1102        lstm_11[0][0]                    \n",
            "__________________________________________________________________________________________________\n",
            "dense_11 (Dense)                (None, 2)            1102        lstm_11[0][0]                    \n",
            "__________________________________________________________________________________________________\n",
            "lambda_3 (Lambda)               (None, 2)            0           dense_10[0][0]                   \n",
            "                                                                 dense_11[0][0]                   \n",
            "==================================================================================================\n",
            "Total params: 3,467,204\n",
            "Trainable params: 3,467,204\n",
            "Non-trainable params: 0\n",
            "__________________________________________________________________________________________________\n"
          ]
        }
      ]
    },
    {
      "cell_type": "code",
      "metadata": {
        "id": "6F8PoSCDmTV8"
      },
      "source": [
        "\n",
        "#Decoding layers \n",
        "x = layers.Reshape((7, 7, 64))(x)\n",
        "#decoder_1= Dense(550, activation='relu')\n",
        "#decoder_2=Dense(550, activation='relu')\n",
        "decoder_2d=Dropout(0.2)\n",
        "decoder_3=Dense(550, activation='relu')\n",
        "decoder_out=Dense(embedding.shape[2], activation='softmax')\n",
        "x_decoded_mean = decoder_out(decoder_3(decoder_2d(decoder_2(decoder_1(z)))))\n",
        "#decoder = keras.Model(z, decoder_out, name=\"decoder\")\n"
      ],
      "execution_count": null,
      "outputs": []
    },
    {
      "cell_type": "code",
      "metadata": {
        "colab": {
          "base_uri": "https://localhost:8080/"
        },
        "id": "ZVMzOvqHBB_W",
        "outputId": "31ee6feb-55ef-4cf9-90c4-59c8d3b7ba00"
      },
      "source": [
        "vae = Model(x, x_decoded_mean)\n",
        "vae.summary()"
      ],
      "execution_count": null,
      "outputs": [
        {
          "output_type": "stream",
          "name": "stdout",
          "text": [
            "Model: \"model_8\"\n",
            "__________________________________________________________________________________________________\n",
            "Layer (type)                    Output Shape         Param #     Connected to                     \n",
            "==================================================================================================\n",
            "input_12 (InputLayer)           [(None, 1496, 1024)] 0                                            \n",
            "__________________________________________________________________________________________________\n",
            "dense_88 (Dense)                (None, 1496, 550)    563750      input_12[0][0]                   \n",
            "__________________________________________________________________________________________________\n",
            "dropout_110 (Dropout)           (None, 1496, 550)    0           dense_88[0][0]                   \n",
            "__________________________________________________________________________________________________\n",
            "dense_89 (Dense)                (None, 1496, 550)    303050      dropout_110[0][0]                \n",
            "__________________________________________________________________________________________________\n",
            "batch_normalization_10 (BatchNo (None, 1496, 550)    2200        dense_89[0][0]                   \n",
            "__________________________________________________________________________________________________\n",
            "dense_90 (Dense)                (None, 1496, 550)    303050      batch_normalization_10[0][0]     \n",
            "__________________________________________________________________________________________________\n",
            "dense_91 (Dense)                (None, 1496, 2)      1102        dense_90[0][0]                   \n",
            "__________________________________________________________________________________________________\n",
            "dense_92 (Dense)                (None, 1496, 2)      1102        dense_90[0][0]                   \n",
            "__________________________________________________________________________________________________\n",
            "sampling_5 (Sampling)           (None, 1496, 2)      0           dense_91[0][0]                   \n",
            "                                                                 dense_92[0][0]                   \n",
            "__________________________________________________________________________________________________\n",
            "dense_93 (Dense)                (None, 1496, 550)    1650        sampling_5[0][0]                 \n",
            "__________________________________________________________________________________________________\n",
            "dense_94 (Dense)                (None, 1496, 550)    303050      dense_93[0][0]                   \n",
            "__________________________________________________________________________________________________\n",
            "dropout_111 (Dropout)           (None, 1496, 550)    0           dense_94[0][0]                   \n",
            "__________________________________________________________________________________________________\n",
            "dense_95 (Dense)                (None, 1496, 550)    303050      dropout_111[0][0]                \n",
            "__________________________________________________________________________________________________\n",
            "dense_96 (Dense)                (None, 1496, 1024)   564224      dense_95[0][0]                   \n",
            "==================================================================================================\n",
            "Total params: 2,346,228\n",
            "Trainable params: 2,345,128\n",
            "Non-trainable params: 1,100\n",
            "__________________________________________________________________________________________________\n"
          ]
        }
      ]
    },
    {
      "cell_type": "code",
      "metadata": {
        "id": "YnWxQFDomKVw"
      },
      "source": [
        "vae.compile(optimizer=\"adam\", loss=vae_loss,metrics=[\"categorical_accuracy\",\"fmeasure\",\"top_k_categorical_accuracy\"]) "
      ],
      "execution_count": null,
      "outputs": []
    },
    {
      "cell_type": "code",
      "metadata": {
        "id": "fFXbLqNQB7Gf"
      },
      "source": [
        "early_stopping = EarlyStopping(monitor='val_loss', patience=3)\n",
        "#spearman_measure=rho_vs_mutants(test_data_plus,batch_size*int(len(test_data_plus)/batch_size),len(ORDER_LIST),PRUNED_SEQ_LENGTH)"
      ],
      "execution_count": null,
      "outputs": []
    },
    {
      "cell_type": "code",
      "metadata": {
        "id": "am1Mqt0zn9D3"
      },
      "source": [
        "#x_train=training_data[:data_set_size] #this needs to be divisible by batch size and less than or equal to dataset size\n",
        "#x_train = x_train.astype('float32')\n",
        "#x_train = x_train.reshape((len(x_train), np.prod(x_train.shape[1:])))\n",
        "\n",
        "hist=vae.fit(x_train,x_train ,\n",
        "        shuffle=True,\n",
        "        epochs=nb_epoch,\n",
        "        batch_size=5, #sample_weight=np.array(new_weights),\n",
        "        validation_split=0.1,callbacks=[early_stopping])  "
      ],
      "execution_count": null,
      "outputs": []
    },
    {
      "cell_type": "markdown",
      "metadata": {
        "id": "atzHAbCPmAbO"
      },
      "source": [
        "## CNN"
      ]
    },
    {
      "cell_type": "markdown",
      "metadata": {
        "id": "n8mkDO9bnFiv"
      },
      "source": [
        "https://blog.paperspace.com/how-to-build-variational-autoencoder-keras/\n",
        "\n",
        "https://outline.com/7xJtZD\n",
        "\n",
        "Variational Autoencoders as Generative Models with Keras"
      ]
    },
    {
      "cell_type": "code",
      "metadata": {
        "id": "Lx84y9GLgMdO"
      },
      "source": [
        "img_size = 28\n",
        "num_channels = 1"
      ],
      "execution_count": null,
      "outputs": []
    },
    {
      "cell_type": "code",
      "metadata": {
        "id": "JMeRktB3dYAt"
      },
      "source": [
        "# Encoder\n",
        "x = tensorflow.keras.layers.Input(shape=(img_size, img_size, num_channels), name=\"encoder_input\")\n",
        "\n",
        "encoder_conv_layer1 = tensorflow.keras.layers.Conv1D(filters=1, kernel_size=(3, 3), padding=\"same\", strides=1, name=\"encoder_conv_1\")(x)\n",
        "encoder_norm_layer1 = tensorflow.keras.layers.BatchNormalization(name=\"encoder_norm_1\")(encoder_conv_layer1)\n",
        "encoder_activ_layer1 = tensorflow.keras.layers.LeakyReLU(name=\"encoder_leakyrelu_1\")(encoder_norm_layer1)\n",
        "\n",
        "encoder_conv_layer2 = tensorflow.keras.layers.Conv1D(filters=32, kernel_size=(3,3), padding=\"same\", strides=1, name=\"encoder_conv_2\")(encoder_activ_layer1)\n",
        "encoder_norm_layer2 = tensorflow.keras.layers.BatchNormalization(name=\"encoder_norm_2\")(encoder_conv_layer2)\n",
        "encoder_activ_layer2 = tensorflow.keras.layers.LeakyReLU(name=\"encoder_activ_layer_2\")(encoder_norm_layer2)\n",
        "\n",
        "encoder_conv_layer3 = tensorflow.keras.layers.Conv1D(filters=64, kernel_size=(3,3), padding=\"same\", strides=2, name=\"encoder_conv_3\")(encoder_activ_layer2)\n",
        "encoder_norm_layer3 = tensorflow.keras.layers.BatchNormalization(name=\"encoder_norm_3\")(encoder_conv_layer3)\n",
        "encoder_activ_layer3 = tensorflow.keras.layers.LeakyReLU(name=\"encoder_activ_layer_3\")(encoder_norm_layer3)\n",
        "\n",
        "encoder_conv_layer4 = tensorflow.keras.layers.Conv1D(filters=64, kernel_size=(3,3), padding=\"same\", strides=2, name=\"encoder_conv_4\")(encoder_activ_layer3)\n",
        "encoder_norm_layer4 = tensorflow.keras.layers.BatchNormalization(name=\"encoder_norm_4\")(encoder_conv_layer4)\n",
        "encoder_activ_layer4 = tensorflow.keras.layers.LeakyReLU(name=\"encoder_activ_layer_4\")(encoder_norm_layer4)\n",
        "\n",
        "encoder_conv_layer5 = tensorflow.keras.layers.Conv1D(filters=64, kernel_size=(3,3), padding=\"same\", strides=1, name=\"encoder_conv_5\")(encoder_activ_layer4)\n",
        "encoder_norm_layer5 = tensorflow.keras.layers.BatchNormalization(name=\"encoder_norm_5\")(encoder_conv_layer5)\n",
        "encoder_activ_layer5 = tensorflow.keras.layers.LeakyReLU(name=\"encoder_activ_layer_5\")(encoder_norm_layer5)\n",
        "\n",
        "shape_before_flatten = tensorflow.keras.backend.int_shape(encoder_activ_layer5)[1:]\n",
        "encoder_flatten = tensorflow.keras.layers.Flatten()(encoder_activ_layer5)\n",
        "\n",
        "encoder_mu = tensorflow.keras.layers.Dense(units=latent_space_dim, name=\"encoder_mu\")(encoder_flatten)\n",
        "encoder_log_variance = tensorflow.keras.layers.Dense(units=latent_space_dim, name=\"encoder_log_variance\")(encoder_flatten)\n",
        "\n",
        "encoder_mu_log_variance_model = tensorflow.keras.models.Model(x, (encoder_mu, encoder_log_variance), name=\"encoder_mu_log_variance_model\")\n",
        "\n",
        "def sampling(mu_log_variance):\n",
        "    mu, log_variance = mu_log_variance\n",
        "    epsilon = tensorflow.keras.backend.random_normal(shape=tensorflow.keras.backend.shape(mu), mean=0.0, stddev=1.0)\n",
        "    random_sample = mu + tensorflow.keras.backend.exp(log_variance/2) * epsilon\n",
        "    return random_sample\n",
        "\n",
        "encoder_output = tensorflow.keras.layers.Lambda(sampling, name=\"encoder_output\")([encoder_mu, encoder_log_variance])\n",
        "\n",
        "encoder = tensorflow.keras.models.Model(x, encoder_output, name=\"encoder_model\")"
      ],
      "execution_count": null,
      "outputs": []
    },
    {
      "cell_type": "code",
      "metadata": {
        "id": "q_oIt340daO8"
      },
      "source": [
        "# Decoder\n",
        "decoder_input = tensorflow.keras.layers.Input(shape=(latent_space_dim), name=\"decoder_input\")\n",
        "\n",
        "decoder_dense_layer1 = tensorflow.keras.layers.Dense(units=numpy.prod(shape_before_flatten), name=\"decoder_dense_1\")(decoder_input)\n",
        "decoder_reshape = tensorflow.keras.layers.Reshape(target_shape=shape_before_flatten)(decoder_dense_layer1)\n",
        "\n",
        "decoder_conv_tran_layer1 = tensorflow.keras.layers.Conv2DTranspose(filters=64, kernel_size=(3, 3), padding=\"same\", strides=1, name=\"decoder_conv_tran_1\")(decoder_reshape)\n",
        "decoder_norm_layer1 = tensorflow.keras.layers.BatchNormalization(name=\"decoder_norm_1\")(decoder_conv_tran_layer1)\n",
        "decoder_activ_layer1 = tensorflow.keras.layers.LeakyReLU(name=\"decoder_leakyrelu_1\")(decoder_norm_layer1)\n",
        "\n",
        "decoder_conv_tran_layer2 = tensorflow.keras.layers.Conv2DTranspose(filters=64, kernel_size=(3, 3), padding=\"same\", strides=2, name=\"decoder_conv_tran_2\")(decoder_activ_layer1)\n",
        "decoder_norm_layer2 = tensorflow.keras.layers.BatchNormalization(name=\"decoder_norm_2\")(decoder_conv_tran_layer2)\n",
        "decoder_activ_layer2 = tensorflow.keras.layers.LeakyReLU(name=\"decoder_leakyrelu_2\")(decoder_norm_layer2)\n",
        "\n",
        "decoder_conv_tran_layer3 = tensorflow.keras.layers.Conv2DTranspose(filters=64, kernel_size=(3, 3), padding=\"same\", strides=2, name=\"decoder_conv_tran_3\")(decoder_activ_layer2)\n",
        "decoder_norm_layer3 = tensorflow.keras.layers.BatchNormalization(name=\"decoder_norm_3\")(decoder_conv_tran_layer3)\n",
        "decoder_activ_layer3 = tensorflow.keras.layers.LeakyReLU(name=\"decoder_leakyrelu_3\")(decoder_norm_layer3)\n",
        "\n",
        "decoder_conv_tran_layer4 = tensorflow.keras.layers.Conv2DTranspose(filters=1, kernel_size=(3, 3), padding=\"same\", strides=1, name=\"decoder_conv_tran_4\")(decoder_activ_layer3)\n",
        "decoder_output = tensorflow.keras.layers.LeakyReLU(name=\"decoder_output\")(decoder_conv_tran_layer4 )\n",
        "\n",
        "decoder = tensorflow.keras.models.Model(decoder_input, decoder_output, name=\"decoder_model\")\n",
        "\n",
        "decoder.summary()"
      ],
      "execution_count": null,
      "outputs": []
    },
    {
      "cell_type": "code",
      "metadata": {
        "id": "D_Ry74KCddHS"
      },
      "source": [
        "# Building the VAE\n",
        "\n",
        "vae_input = tensorflow.keras.layers.Input(shape=(img_size, img_size, num_channels), name=\"VAE_input\")\n",
        "\n",
        "vae_encoder_output = encoder(vae_input)\n",
        "vae_decoder_output = decoder(vae_encoder_output)\n",
        "\n",
        "vae = tensorflow.keras.models.Model(vae_input, vae_decoder_output, name=\"VAE\")\n",
        "vae.summary()\n"
      ],
      "execution_count": null,
      "outputs": []
    },
    {
      "cell_type": "code",
      "metadata": {
        "id": "i3AaaDlede1X"
      },
      "source": [
        "# loss function\n",
        "def loss_func(encoder_mu, encoder_log_variance):\n",
        "    def vae_reconstruction_loss(y_true, y_predict):\n",
        "        reconstruction_loss_factor = 1000\n",
        "        reconstruction_loss = tensorflow.keras.backend.mean(tensorflow.keras.backend.square(y_true-y_predict), axis=[1, 2, 3])\n",
        "        return reconstruction_loss_factor * reconstruction_loss\n",
        "\n",
        "    def vae_kl_loss(encoder_mu, encoder_log_variance):\n",
        "        kl_loss = -0.5 * tensorflow.keras.backend.sum(1.0 + encoder_log_variance - tensorflow.keras.backend.square(encoder_mu) - tensorflow.keras.backend.exp(encoder_log_variance), axis=1)\n",
        "        return kl_loss\n",
        "\n",
        "    def vae_kl_loss_metric(y_true, y_predict):\n",
        "        kl_loss = -0.5 * tensorflow.keras.backend.sum(1.0 + encoder_log_variance - tensorflow.keras.backend.square(encoder_mu) - tensorflow.keras.backend.exp(encoder_log_variance), axis=1)\n",
        "        return kl_loss\n",
        "\n",
        "    def vae_loss(y_true, y_predict):\n",
        "        reconstruction_loss = vae_reconstruction_loss(y_true, y_predict)\n",
        "        kl_loss = vae_kl_loss(y_true, y_predict)\n",
        "\n",
        "        loss = reconstruction_loss + kl_loss\n",
        "        return loss\n",
        "\n",
        "    return vae_loss"
      ],
      "execution_count": null,
      "outputs": []
    },
    {
      "cell_type": "code",
      "metadata": {
        "id": "5gAisZ2XhEPu"
      },
      "source": [
        "vae.compile(optimizer=tensorflow.keras.optimizers.Adam(lr=0.0005), loss=loss_func(encoder_mu, encoder_log_variance))"
      ],
      "execution_count": null,
      "outputs": []
    },
    {
      "cell_type": "markdown",
      "metadata": {
        "id": "KgWdfDZtiOsR"
      },
      "source": [
        "### Training the VAE"
      ]
    },
    {
      "cell_type": "code",
      "metadata": {
        "id": "xC11-rqVBTti"
      },
      "source": [
        "vae.fit(x_train, x_train, epochs=20, batch_size=256, shuffle=True, validation_data=(x_test, x_test))"
      ],
      "execution_count": null,
      "outputs": []
    },
    {
      "cell_type": "markdown",
      "metadata": {
        "id": "Pz8i1wm-iKh4"
      },
      "source": [
        "### Testing the VAE"
      ]
    },
    {
      "cell_type": "code",
      "metadata": {
        "id": "kMMPn0lAiB3X"
      },
      "source": [
        "encoded_data = encoder.predict(x_test)\n",
        "decoded_data = decoder.predict(encoded_data)"
      ],
      "execution_count": null,
      "outputs": []
    },
    {
      "cell_type": "code",
      "metadata": {
        "id": "H5t9gIJMhy2m"
      },
      "source": [
        "matplotlib.pyplot.figure()\n",
        "matplotlib.pyplot.scatter(encoded_images[:, 0], encoded_images[:, 1], c=y_train)\n",
        "matplotlib.pyplot.colorbar()"
      ],
      "execution_count": null,
      "outputs": []
    },
    {
      "cell_type": "code",
      "metadata": {
        "id": "ncz7Hi9vhuW5"
      },
      "source": [
        "# save model\n",
        "encoder.save(\"VAE_encoder.h5\") \n",
        "decoder.save(\"VAE_decoder.h5\") \n",
        "vae.save(\"VAE.h5\")"
      ],
      "execution_count": null,
      "outputs": []
    },
    {
      "cell_type": "code",
      "metadata": {
        "id": "w_oJbTD3iXQl"
      },
      "source": [
        "# laod model\n",
        "encoder = tensorflow.keras.models.load_model(\"VAE_encoder.h5\") \n",
        "decoder = tensorflow.keras.models.load_model(\"VAE_decoder.h5\")"
      ],
      "execution_count": null,
      "outputs": []
    },
    {
      "cell_type": "markdown",
      "metadata": {
        "id": "YI9wMwAPnfgI"
      },
      "source": [
        "# Pytorch Variational Autoencoder\n"
      ]
    },
    {
      "cell_type": "code",
      "metadata": {
        "id": "8NnxvzdbnfVr"
      },
      "source": [
        "import torch; torch.manual_seed(0)\n",
        "import torch.nn as nn\n",
        "import torch.nn.functional as F\n",
        "import torch.utils\n",
        "import torch.distributions\n",
        "import torchvision\n",
        "import numpy as np\n",
        "import matplotlib.pyplot as plt ; plt.rcParams['figure.dpi'] = 200\n",
        "device = 'cuda' if torch.cuda.is_available() else 'cpu'"
      ],
      "execution_count": null,
      "outputs": []
    },
    {
      "cell_type": "code",
      "metadata": {
        "id": "UebbEwkHn4a1"
      },
      "source": [
        "class VariationalEncoder(nn.Module):\n",
        "    def __init__(self, latent_dims):\n",
        "        super(VariationalEncoder, self).__init__()\n",
        "        self.linear1 = nn.Linear(embedding.shape[1], embedding.shape[2])\n",
        "        self.linear2 = nn.Linear(embedding.shape[1], latent_dims)\n",
        "        self.linear3 = nn.Linear(embedding.shape[1], latent_dims)\n",
        "\n",
        "        self.N = torch.distributions.Normal(0, 1)\n",
        "        self.N.loc = self.N.loc.cuda() # hack to get sampling on the GPU\n",
        "        self.N.scale = self.N.scale.cuda()\n",
        "        self.kl = 0\n",
        "\n",
        "    def forward(self, x):\n",
        "        x = torch.flatten(x, start_dim=1)\n",
        "        x = F.relu(self.linear1(x))\n",
        "        mu =  self.linear2(x)\n",
        "        sigma = torch.exp(self.linear3(x))\n",
        "        z = mu + sigma*self.N.sample(mu.shape)\n",
        "        self.kl = (sigma**2 + mu**2 - torch.log(sigma) - 1/2).sum()\n",
        "        return z\n"
      ],
      "execution_count": null,
      "outputs": []
    },
    {
      "cell_type": "code",
      "metadata": {
        "id": "KOT-VCNen7TY"
      },
      "source": [
        "class VariationalAutoencoder(nn.Module):\n",
        "    def __init__(self, latent_dims):\n",
        "        super(VariationalAutoencoder, self).__init__()\n",
        "        self.encoder = VariationalEncoder(latent_dims)\n",
        "        self.decoder = Decoder(latent_dims)\n",
        "\n",
        "    def forward(self, x):\n",
        "        z = self.encoder(x)\n",
        "        return self.decoder(z)\n"
      ],
      "execution_count": null,
      "outputs": []
    },
    {
      "cell_type": "code",
      "metadata": {
        "id": "V5fGtL-In-F6"
      },
      "source": [
        "def train(autoencoder, data, epochs=20):\n",
        "    opt = torch.optim.Adam(autoencoder.parameters())\n",
        "    for epoch in range(epochs):\n",
        "        for x, y in data:\n",
        "            x = x.to(device) # GPU\n",
        "            opt.zero_grad()\n",
        "            x_hat = autoencoder(x)\n",
        "            loss = ((x - x_hat)**2).sum() + autoencoder.encoder.kl\n",
        "            loss.backward()\n",
        "            opt.step()\n",
        "    return autoencoder\n"
      ],
      "execution_count": null,
      "outputs": []
    },
    {
      "cell_type": "code",
      "metadata": {
        "id": "lw2ycteooBZT"
      },
      "source": [
        "vae = VariationalAutoencoder(latent_dims).to(device) # GPU\n",
        "vae = train(vae, x_train)"
      ],
      "execution_count": null,
      "outputs": []
    },
    {
      "cell_type": "code",
      "metadata": {
        "id": "ke3x9dvUpM6g"
      },
      "source": [
        "def plot_latent(autoencoder, data, num_batches=100):\n",
        "    for i, (x, y) in enumerate(data):\n",
        "        z = autoencoder.encoder(x.to(device))\n",
        "        z = z.to('cpu').detach().numpy()\n",
        "        plt.scatter(z[:, 0], z[:, 1], c=y, cmap='tab10')\n",
        "        if i > num_batches:\n",
        "            plt.colorbar()\n",
        "            break"
      ],
      "execution_count": null,
      "outputs": []
    },
    {
      "cell_type": "code",
      "metadata": {
        "id": "GUSS7F83oKFP"
      },
      "source": [
        "plot_latent(vae, data)"
      ],
      "execution_count": null,
      "outputs": []
    },
    {
      "cell_type": "code",
      "metadata": {
        "id": "fNgfgbFdpW1v"
      },
      "source": [
        "\n"
      ],
      "execution_count": null,
      "outputs": []
    },
    {
      "cell_type": "code",
      "metadata": {
        "id": "BLI2IkNKpXjr"
      },
      "source": [
        ""
      ],
      "execution_count": null,
      "outputs": []
    }
  ]
}