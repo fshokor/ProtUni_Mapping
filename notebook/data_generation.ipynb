{
 "cells": [
  {
   "cell_type": "markdown",
   "metadata": {
    "id": "_AOrkGgZTXtx"
   },
   "source": [
    "# Import Packages "
   ]
  },
  {
   "cell_type": "code",
   "execution_count": 1,
   "metadata": {
    "id": "auzSJfdfSyGI"
   },
   "outputs": [],
   "source": [
    "import numpy as np\n",
    "import re\n",
    "import pandas as pd\n",
    "from scipy.spatial import distance\n",
    "import random\n",
    "import os\n",
    "import glob"
   ]
  },
  {
   "cell_type": "markdown",
   "metadata": {
    "id": "SyZ5bb5xTQnS"
   },
   "source": [
    "# Generating random protein sequences"
   ]
  },
  {
   "cell_type": "code",
   "execution_count": 54,
   "metadata": {
    "id": "3eJwq8B3TLit"
   },
   "outputs": [],
   "source": [
    "# Generate random protein sequence \n",
    "\n",
    "list_size = 50000 # sequence number \n",
    "random_seq = []\n",
    "gen_name = []\n",
    "\n",
    "for j in range(list_size):\n",
    "    seq_n = \"seq\"+ str(j+1)\n",
    "    gen_name.append(seq_n)\n",
    "    # equal probability for all amino acid \n",
    "    weights = [0.05 for i in range(20)] \n",
    "    # generate sequence randomly with length = 256 aa\n",
    "    x = ''.join(random.choices('ACDEFGHIKLMNPQRSTVWY', weights= weights, k= 256))\n",
    "    random_seq.append(x) "
   ]
  },
  {
   "cell_type": "code",
   "execution_count": 3,
   "metadata": {},
   "outputs": [
    {
     "data": {
      "text/plain": [
       "50000"
      ]
     },
     "execution_count": 3,
     "metadata": {},
     "output_type": "execute_result"
    }
   ],
   "source": [
    "len(random_seq)"
   ]
  },
  {
   "cell_type": "code",
   "execution_count": 13,
   "metadata": {
    "id": "iK0nyPBhTLb5"
   },
   "outputs": [],
   "source": [
    "# write fasta file \n",
    "\n",
    "seq_file = open(\"/home/defense/shokor/mapping2/data/random_seq.fasta\", \"w\")\n",
    "\n",
    "for i in range(len(random_seq)):\n",
    "\n",
    "    seq_file.write(\">\" + gen_name[i] + \"\\n\" + random_seq[i] + \"\\n\")\n",
    "\n",
    "seq_file.close()"
   ]
  },
  {
   "cell_type": "markdown",
   "metadata": {
    "tags": []
   },
   "source": [
    "# Generate mutated real sequence"
   ]
  },
  {
   "cell_type": "code",
   "execution_count": 3,
   "metadata": {},
   "outputs": [],
   "source": [
    "def read_fasta(FASTA):\n",
    "    '''\n",
    "    Read fasta file \n",
    "    \n",
    "    input: fasta file\n",
    "    \n",
    "    output: \n",
    "         - list of sequence  \n",
    "         - list of sequence names\n",
    "    '''\n",
    "    \n",
    "    m_file=open(FASTA,'r')\n",
    "\n",
    "    data=''\n",
    "    name_list=[]\n",
    "    seq_list=[]\n",
    "\n",
    "    for line in m_file:\n",
    "\n",
    "        line=line.strip()\n",
    "        for i in line:\n",
    "            if i=='>':\n",
    "                name_list.append(line[1:])\n",
    "                if data :\n",
    "                    seq_list.append(data)\n",
    "                    data=''\n",
    "\n",
    "                break\n",
    "            else:\n",
    "                line=line.upper()\n",
    "        if all([k==k.upper() for k in line]):\n",
    "            data=data+line\n",
    "    if data:\n",
    "        data = \" \".join(data)\n",
    "        seq_list.append(data)\n",
    "        \n",
    "    return seq_list, name_list\n"
   ]
  },
  {
   "cell_type": "markdown",
   "metadata": {},
   "source": [
    "we choose uniprot sequence with 30% identity"
   ]
  },
  {
   "cell_type": "code",
   "execution_count": 1,
   "metadata": {
    "collapsed": true,
    "jupyter": {
     "outputs_hidden": true
    },
    "tags": []
   },
   "outputs": [
    {
     "name": "stdout",
     "output_type": "stream",
     "text": [
      "easy-linclust /home/defense/shokor/mapping2/data/uni5033.fasta /home/defense/shokor/mapping2/data/id_30/uni5033 tmp --cov-mode 1 --min-seq-id 0.3 \n",
      "\n",
      "MMseqs Version:                     \t7aade9df7475ae7c699b2074b5e4daa52e0245f1\n",
      "Cluster mode                        \t0\n",
      "Max connected component depth       \t1000\n",
      "Similarity type                     \t2\n",
      "Threads                             \t40\n",
      "Compressed                          \t0\n",
      "Verbosity                           \t3\n",
      "Substitution matrix                 \tnucl:nucleotide.out,aa:blosum62.out\n",
      "Add backtrace                       \tfalse\n",
      "Alignment mode                      \t0\n",
      "Alignment mode                      \t0\n",
      "Allow wrapped scoring               \tfalse\n",
      "E-value threshold                   \t0.001\n",
      "Seq. id. threshold                  \t0.3\n",
      "Min alignment length                \t0\n",
      "Seq. id. mode                       \t0\n",
      "Alternative alignments              \t0\n",
      "Coverage threshold                  \t0.8\n",
      "Coverage mode                       \t1\n",
      "Max sequence length                 \t65535\n",
      "Compositional bias                  \t1\n",
      "Max reject                          \t2147483647\n",
      "Max accept                          \t2147483647\n",
      "Include identical seq. id.          \tfalse\n",
      "Preload mode                        \t0\n",
      "Pseudo count a                      \t1\n",
      "Pseudo count b                      \t1.5\n",
      "Score bias                          \t0\n",
      "Realign hits                        \tfalse\n",
      "Realign score bias                  \t-0.2\n",
      "Realign max seqs                    \t2147483647\n",
      "Gap open cost                       \tnucl:5,aa:11\n",
      "Gap extension cost                  \tnucl:2,aa:1\n",
      "Zdrop                               \t40\n",
      "Alphabet size                       \tnucl:5,aa:21\n",
      "k-mers per sequence                 \t21\n",
      "Spaced k-mers                       \t0\n",
      "Spaced k-mer pattern                \t\n",
      "Scale k-mers per sequence           \tnucl:0.200,aa:0.000\n",
      "Adjust k-mer length                 \tfalse\n",
      "Mask residues                       \t1\n",
      "Mask lower case residues            \t0\n",
      "k-mer length                        \t0\n",
      "Shift hash                          \t67\n",
      "Split memory limit                  \t0\n",
      "Include only extendable             \tfalse\n",
      "Skip repeating k-mers               \tfalse\n",
      "Rescore mode                        \t0\n",
      "Remove hits by seq. id. and coverage\tfalse\n",
      "Sort results                        \t0\n",
      "Remove temporary files              \ttrue\n",
      "Force restart with latest tmp       \tfalse\n",
      "MPI runner                          \t\n",
      "Database type                       \t0\n",
      "Shuffle input database              \ttrue\n",
      "Createdb mode                       \t1\n",
      "Write lookup file                   \t0\n",
      "Offset of numeric ids               \t0\n",
      "\n",
      "createdb /home/defense/shokor/mapping2/data/uni5033.fasta tmp/18309241912115370141/input --dbtype 0 --shuffle 1 --createdb-mode 1 --write-lookup 0 --id-offset 0 --compressed 0 -v 3 \n",
      "\n",
      "\u001b[33mShuffle database cannot be combined with --createdb-mode 0\n",
      "\u001b[39m\u001b[33mWe recompute with --shuffle 0\n",
      "\u001b[39mConverting sequences\n",
      "\u001b[33mMultiline fasta can not be combined with --createdb-mode 0\n",
      "\u001b[39m\u001b[33mWe recompute with --createdb-mode 1\n",
      "\u001b[39mTime for merging to input_h: 0h 0m 0s 0ms\n",
      "Time for merging to input: 0h 0m 0s 0ms\n",
      "[4950] 0s 287ms\n",
      "Time for merging to input_h: 0h 0m 0s 0ms\n",
      "Time for merging to input: 0h 0m 0s 30ms\n",
      "Database type: Aminoacid\n",
      "Time for processing: 0h 0m 0s 323ms\n",
      "Create directory tmp/18309241912115370141/clu_tmp\n",
      "linclust tmp/18309241912115370141/input tmp/18309241912115370141/clu tmp/18309241912115370141/clu_tmp -e 0.001 --min-seq-id 0.3 -c 0.8 --cov-mode 1 --spaced-kmer-mode 0 --remove-tmp-files 1 \n",
      "\n",
      "Set cluster mode GREEDY MEM.\n",
      "kmermatcher tmp/18309241912115370141/input tmp/18309241912115370141/clu_tmp/12424568561074008379/pref --sub-mat nucl:nucleotide.out,aa:blosum62.out --alph-size nucl:5,aa:13 --min-seq-id 0.3 --kmer-per-seq 21 --spaced-kmer-mode 0 --kmer-per-seq-scale nucl:0.200,aa:0.000 --adjust-kmer-len 0 --mask 0 --mask-lower-case 0 --cov-mode 1 -k 0 -c 0.8 --max-seq-len 65535 --hash-shift 67 --split-memory-limit 0 --include-only-extendable 0 --ignore-multi-kmer 0 --threads 40 --compressed 0 -v 3 \n",
      "\n",
      "kmermatcher tmp/18309241912115370141/input tmp/18309241912115370141/clu_tmp/12424568561074008379/pref --sub-mat nucl:nucleotide.out,aa:blosum62.out --alph-size nucl:5,aa:13 --min-seq-id 0.3 --kmer-per-seq 21 --spaced-kmer-mode 0 --kmer-per-seq-scale nucl:0.200,aa:0.000 --adjust-kmer-len 0 --mask 0 --mask-lower-case 0 --cov-mode 1 -k 0 -c 0.8 --max-seq-len 65535 --hash-shift 67 --split-memory-limit 0 --include-only-extendable 0 --ignore-multi-kmer 0 --threads 40 --compressed 0 -v 3 \n",
      "\n",
      "Database size: 5033 type: Aminoacid\n",
      "Reduced amino acid alphabet: (A S T) (C) (D B N) (E Q Z) (F Y) (G) (H) (I V) (K R) (L J M) (P) (W) (X) \n",
      "\n",
      "Generate k-mers list for 1 split\n",
      "[=================================================================] 100.00% 5.03K 0s 26ms     \n",
      "Sort kmer 0h 0m 0s 65ms========================================>  ] 96.76% 4.87K eta 0s       \n",
      "Sort by rep. sequence 0h 0m 0s 62ms\n",
      "Time for fill: 0h 0m 0s 1ms\n",
      "Time for merging to pref: 0h 0m 0s 0ms\n",
      "Time for processing: 0h 0m 0s 236ms\n",
      "rescorediagonal tmp/18309241912115370141/input tmp/18309241912115370141/input tmp/18309241912115370141/clu_tmp/12424568561074008379/pref tmp/18309241912115370141/clu_tmp/12424568561074008379/pref_rescore1 --sub-mat nucl:nucleotide.out,aa:blosum62.out --rescore-mode 0 --wrapped-scoring 0 --filter-hits 0 -e 0.001 -c 0.8 -a 0 --cov-mode 1 --min-seq-id 0.5 --min-aln-len 0 --seq-id-mode 0 --add-self-matches 0 --sort-results 0 --db-load-mode 0 --threads 40 --compressed 0 -v 3 \n",
      "\n",
      "[=================================================================] 100.00% 5.03K 0s 26ms     \n",
      "Time for merging to pref_rescore1: 0h 0m 0s 5ms=======>           ] 82.79% 4.17K eta 0s       \n",
      "Time for processing: 0h 0m 0s 94ms\n",
      "clust tmp/18309241912115370141/input tmp/18309241912115370141/clu_tmp/12424568561074008379/pref_rescore1 tmp/18309241912115370141/clu_tmp/12424568561074008379/pre_clust --cluster-mode 3 --max-iterations 1000 --similarity-type 2 --threads 40 --compressed 0 -v 3 \n",
      "\n",
      "Clustering mode: Greedy Low Mem\n",
      "Total time: 0h 0m 0s 30ms\n",
      "\n",
      "Size of the sequence database: 5033\n",
      "Size of the alignment database: 5033\n",
      "Number of clusters: 2686\n",
      "\n",
      "Writing results 0h 0m 0s 0ms\n",
      "Time for merging to pre_clust: 0h 0m 0s 0ms\n",
      "Time for processing: 0h 0m 0s 34ms\n",
      "createsubdb tmp/18309241912115370141/clu_tmp/12424568561074008379/order_redundancy tmp/18309241912115370141/input tmp/18309241912115370141/clu_tmp/12424568561074008379/input_step_redundancy -v 3 --subdb-mode 1 \n",
      "\n",
      "Time for merging to input_step_redundancy: 0h 0m 0s 0ms\n",
      "Time for processing: 0h 0m 0s 1ms\n",
      "createsubdb tmp/18309241912115370141/clu_tmp/12424568561074008379/order_redundancy tmp/18309241912115370141/clu_tmp/12424568561074008379/pref tmp/18309241912115370141/clu_tmp/12424568561074008379/pref_filter1 -v 3 --subdb-mode 1 \n",
      "\n",
      "Time for merging to pref_filter1: 0h 0m 0s 0ms\n",
      "Time for processing: 0h 0m 0s 1ms\n",
      "filterdb tmp/18309241912115370141/clu_tmp/12424568561074008379/pref_filter1 tmp/18309241912115370141/clu_tmp/12424568561074008379/pref_filter2 --filter-file tmp/18309241912115370141/clu_tmp/12424568561074008379/order_redundancy --threads 40 --compressed 0 -v 3 \n",
      "\n",
      "Filtering using file(s)\n",
      "[=================================================================] 100.00% 2.69K 0s 32ms     \n",
      "Time for merging to pref_filter2: 0h 0m 0s 1ms\n",
      "Time for processing: 0h 0m 0s 99ms\n",
      "rescorediagonal tmp/18309241912115370141/clu_tmp/12424568561074008379/input_step_redundancy tmp/18309241912115370141/clu_tmp/12424568561074008379/input_step_redundancy tmp/18309241912115370141/clu_tmp/12424568561074008379/pref_filter2 tmp/18309241912115370141/clu_tmp/12424568561074008379/pref_rescore2 --sub-mat nucl:nucleotide.out,aa:blosum62.out --rescore-mode 1 --wrapped-scoring 0 --filter-hits 1 -e 0.001 -c 0.8 -a 0 --cov-mode 1 --min-seq-id 0.3 --min-aln-len 0 --seq-id-mode 0 --add-self-matches 0 --sort-results 0 --db-load-mode 0 --threads 40 --compressed 0 -v 3 \n",
      "\n",
      "[=================================================================] 100.00% 2.69K 0s 27ms     \n",
      "Time for merging to pref_rescore2: 0h 0m 0s 3ms================>  ] 95.90% 2.58K eta 0s       \n",
      "Time for processing: 0h 0m 0s 77ms\n",
      "align tmp/18309241912115370141/clu_tmp/12424568561074008379/input_step_redundancy tmp/18309241912115370141/clu_tmp/12424568561074008379/input_step_redundancy tmp/18309241912115370141/clu_tmp/12424568561074008379/pref_rescore2 tmp/18309241912115370141/clu_tmp/12424568561074008379/aln --sub-mat nucl:nucleotide.out,aa:blosum62.out -a 0 --alignment-mode 2 --alignment-output-mode 0 --wrapped-scoring 0 -e 0.001 --min-seq-id 0.3 --min-aln-len 0 --seq-id-mode 0 --alt-ali 0 -c 0.8 --cov-mode 1 --max-seq-len 65535 --comp-bias-corr 1 --max-rejected 2147483647 --max-accept 2147483647 --add-self-matches 0 --db-load-mode 0 --pca 1 --pcb 1.5 --score-bias 0 --realign 0 --realign-score-bias -0.2 --realign-max-seqs 2147483647 --gap-open nucl:5,aa:11 --gap-extend nucl:2,aa:1 --zdrop 40 --threads 40 --compressed 0 -v 3 \n",
      "\n",
      "Compute score and coverage\n",
      "Query database size: 2686 type: Aminoacid\n",
      "Target database size: 2686 type: Aminoacid\n",
      "Calculation of alignments\n",
      "[=================================================================] 100.00% 2.69K 0s 163ms    \n",
      "Time for merging to aln: 0h 0m 0s 5ms\n",
      "4055 alignments calculated\n",
      "3872 sequence pairs passed the thresholds (0.954871 of overall calculated)\n",
      "1.441549 hits per query sequence\n",
      "Time for processing: 0h 0m 0s 271ms\n",
      "clust tmp/18309241912115370141/clu_tmp/12424568561074008379/input_step_redundancy tmp/18309241912115370141/clu_tmp/12424568561074008379/aln tmp/18309241912115370141/clu_tmp/12424568561074008379/clust --cluster-mode 3 --max-iterations 1000 --similarity-type 2 --threads 40 --compressed 0 -v 3 \n",
      "\n",
      "Clustering mode: Greedy Low Mem\n",
      "Total time: 0h 0m 0s 44ms\n",
      "\n",
      "Size of the sequence database: 2686\n",
      "Size of the alignment database: 2686\n",
      "Number of clusters: 1971\n",
      "\n",
      "Writing results 0h 0m 0s 0ms\n",
      "Time for merging to clust: 0h 0m 0s 0ms\n",
      "Time for processing: 0h 0m 0s 48ms\n",
      "mergeclusters tmp/18309241912115370141/input tmp/18309241912115370141/clu tmp/18309241912115370141/clu_tmp/12424568561074008379/pre_clust tmp/18309241912115370141/clu_tmp/12424568561074008379/clust --threads 40 --compressed 0 -v 3 \n",
      "\n",
      "Clustering step 1\n",
      "[=================================================================] 100.00% 2.69K 0s 15ms     \n",
      "Clustering step 2\n",
      "[=================================================================] 100.00% 1.97K 0s 41ms     \n",
      "Write merged clustering\n",
      "[=================================================================] 100.00% 5.03K 0s 105ms    \n",
      "Time for merging to clu: 0h 0m 0s 2ms\n",
      "Time for processing: 0h 0m 0s 121ms\n",
      "rmdb tmp/18309241912115370141/clu_tmp/12424568561074008379/pref_filter1 -v 3 \n",
      "\n",
      "Time for processing: 0h 0m 0s 3ms\n",
      "rmdb tmp/18309241912115370141/clu_tmp/12424568561074008379/pref -v 3 \n",
      "\n",
      "Time for processing: 0h 0m 0s 0ms\n",
      "rmdb tmp/18309241912115370141/clu_tmp/12424568561074008379/pref_rescore1 -v 3 \n",
      "\n",
      "Time for processing: 0h 0m 0s 0ms\n",
      "rmdb tmp/18309241912115370141/clu_tmp/12424568561074008379/pre_clust -v 3 \n",
      "\n",
      "Time for processing: 0h 0m 0s 0ms\n",
      "rmdb tmp/18309241912115370141/clu_tmp/12424568561074008379/input_step_redundancy -v 3 \n",
      "\n",
      "Time for processing: 0h 0m 0s 0ms\n",
      "rmdb tmp/18309241912115370141/clu_tmp/12424568561074008379/input_step_redundancy_h -v 3 \n",
      "\n",
      "Time for processing: 0h 0m 0s 0ms\n",
      "rmdb tmp/18309241912115370141/clu_tmp/12424568561074008379/pref_filter2 -v 3 \n",
      "\n",
      "Time for processing: 0h 0m 0s 0ms\n",
      "rmdb tmp/18309241912115370141/clu_tmp/12424568561074008379/pref_rescore2 -v 3 \n",
      "\n",
      "Time for processing: 0h 0m 0s 0ms\n",
      "rmdb tmp/18309241912115370141/clu_tmp/12424568561074008379/aln -v 3 \n",
      "\n",
      "Time for processing: 0h 0m 0s 1ms\n",
      "rmdb tmp/18309241912115370141/clu_tmp/12424568561074008379/clust -v 3 \n",
      "\n",
      "Time for processing: 0h 0m 0s 0ms\n",
      "createtsv tmp/18309241912115370141/input tmp/18309241912115370141/input tmp/18309241912115370141/clu tmp/18309241912115370141/cluster.tsv --threads 40 -v 3 \n",
      "\n",
      "Time for merging to cluster.tsv: 0h 0m 0s 2ms\n",
      "Time for processing: 0h 0m 0s 74ms\n",
      "result2repseq tmp/18309241912115370141/input tmp/18309241912115370141/clu tmp/18309241912115370141/clu_rep --db-load-mode 0 --compressed 0 --threads 40 -v 3 \n",
      "\n",
      "[=================================================================] 100.00% 1.97K 0s 22ms     \n",
      "Time for merging to clu_rep: 0h 0m 0s 3ms\n",
      "Time for processing: 0h 0m 0s 89ms\n",
      "result2flat tmp/18309241912115370141/input tmp/18309241912115370141/input tmp/18309241912115370141/clu_rep tmp/18309241912115370141/rep_seq.fasta --use-fasta-header -v 3 \n",
      "\n",
      "Time for processing: 0h 0m 0s 10ms\n",
      "createseqfiledb tmp/18309241912115370141/input tmp/18309241912115370141/clu tmp/18309241912115370141/clu_seqs --threads 40 -v 3 \n",
      "\n",
      "[=================================================================] 100.00% 1.97K 0s 19ms     \n",
      "Time for merging to clu_seqs: 0h 0m 0s 2ms\n",
      "Time for processing: 0h 0m 0s 83ms\n",
      "result2flat tmp/18309241912115370141/input tmp/18309241912115370141/input tmp/18309241912115370141/clu_seqs tmp/18309241912115370141/all_seqs.fasta -v 3 \n",
      "\n",
      "Time for processing: 0h 0m 0s 16ms\n",
      "rmdb tmp/18309241912115370141/input -v 3 \n",
      "\n",
      "Time for processing: 0h 0m 0s 0ms\n",
      "rmdb tmp/18309241912115370141/input_h -v 3 \n",
      "\n",
      "Time for processing: 0h 0m 0s 0ms\n",
      "rmdb tmp/18309241912115370141/clu_seqs -v 3 \n",
      "\n",
      "Time for processing: 0h 0m 0s 1ms\n",
      "rmdb tmp/18309241912115370141/clu_rep -v 3 \n",
      "\n",
      "Time for processing: 0h 0m 0s 0ms\n",
      "rmdb tmp/18309241912115370141/clu -v 3 \n",
      "\n",
      "Time for processing: 0h 0m 0s 1ms\n"
     ]
    }
   ],
   "source": [
    "# select sequences with 30% identity\n",
    "!mmseqs easy-linclust /home/defense/shokor/mapping2/data/uni5033.fasta /home/defense/shokor/mapping2/data/id_30/uni5033 tmp --cov-mode 1 --min-seq-id 0.3"
   ]
  },
  {
   "cell_type": "code",
   "execution_count": 4,
   "metadata": {},
   "outputs": [],
   "source": [
    "# Read fasta file and generate 2 list of sequences and names\n",
    "real_fasta_file = \"/home/defense/shokor/mapping2/data/id_30/uni5033_rep_seq.fasta\" \n",
    "real_seq_list, real_name = read_fasta(real_fasta_file) "
   ]
  },
  {
   "cell_type": "code",
   "execution_count": 7,
   "metadata": {},
   "outputs": [],
   "source": [
    "# select just the anme of a sequence (between ||)\n",
    "ids = []\n",
    "for n in real_name:\n",
    "    ids.append(re.findall(r'\\|(.*?)\\|', n))\n",
    "    \n",
    "real_name_list = [item[0] for item in ids]"
   ]
  },
  {
   "cell_type": "code",
   "execution_count": 9,
   "metadata": {},
   "outputs": [
    {
     "data": {
      "text/plain": [
       "1971"
      ]
     },
     "execution_count": 9,
     "metadata": {},
     "output_type": "execute_result"
    }
   ],
   "source": [
    "len(real_name_list)"
   ]
  },
  {
   "cell_type": "code",
   "execution_count": 10,
   "metadata": {},
   "outputs": [],
   "source": [
    "# Remove sequence longer than 256 aa\n",
    "drop_out = []\n",
    "for i, s in enumerate(real_seq_list):\n",
    "    if len(s)>256:\n",
    "        drop_out.append(i)\n",
    "        \n",
    "for index in sorted(drop_out, reverse=True):\n",
    "    del real_seq_list[index]\n",
    "    del real_name_list[index]\n",
    "    \n",
    "# len(real_seq_list)\n",
    "# len(real_name_list)"
   ]
  },
  {
   "cell_type": "code",
   "execution_count": 11,
   "metadata": {},
   "outputs": [],
   "source": [
    "def mutate(sequence_list, mutation_rate):\n",
    "    ''' \n",
    "    Produce random mutations in a given list of sequence with specific percentage\n",
    "    \n",
    "    input:\n",
    "        - list of sequences\n",
    "        - mutation percentage\n",
    "        \n",
    "    output:\n",
    "        - list of mutated sequence\n",
    "    '''\n",
    "    mutate_list = []\n",
    "    # all amino acid have the same probability (1/20) to be chosen\n",
    "    weights = [0.05 for i in range(20)] \n",
    "\n",
    "    for seq in sequence_list: \n",
    "        prot_list = list(seq)\n",
    "        for i in range(len(seq)):\n",
    "            r = random.random()\n",
    "            if r < mutation_rate:\n",
    "                mutation_site = random.randint(0, len(prot_list) - 1)\n",
    "                \n",
    "                prot_list[mutation_site] = random.choices(list('ACDEFGHIKLMNPQRSTVWY'), weights= weights)\n",
    "\n",
    "        p = ''.join([item for sublist in prot_list for item in sublist])\n",
    "        mutate_list.append(p)\n",
    "    return mutate_list"
   ]
  },
  {
   "cell_type": "code",
   "execution_count": 12,
   "metadata": {
    "tags": []
   },
   "outputs": [],
   "source": [
    "# generate mutated sequecne with different percentage\n",
    "\n",
    "mutation_rate_list = [0.1, 0.2, 0.3, 0.4, 0.5, 0.6, 0.7, 0.8, 0.9, 0.95, 0.99]\n",
    "\n",
    "all_mutate_list = []\n",
    "for mutation_rate in mutation_rate_list:\n",
    "    mutate_list = mutate(real_seq_list, mutation_rate)\n",
    "    all_mutate_list.append(mutate_list)\n"
   ]
  },
  {
   "cell_type": "code",
   "execution_count": 13,
   "metadata": {},
   "outputs": [],
   "source": [
    "# Create a dictionary of mutated sequecne and their percentage\n",
    "keys = ['mutate_10', 'mutate_20', 'mutate_30', 'mutate_40', 'mutate_50', 'mutate_60', 'mutate_70', 'mutate_80', 'mutate_90', 'mutate_95', 'mutate_99']\n",
    "dictionary = dict(zip(keys, all_mutate_list))"
   ]
  },
  {
   "cell_type": "code",
   "execution_count": 14,
   "metadata": {},
   "outputs": [
    {
     "data": {
      "text/plain": [
       "4477"
      ]
     },
     "execution_count": 14,
     "metadata": {},
     "output_type": "execute_result"
    }
   ],
   "source": [
    "# select the\n",
    "all_names = []\n",
    "for key in keys:\n",
    "    \n",
    "    for names in real_name_list: \n",
    "        seq_n = names + ' ' + key\n",
    "        all_names.append(seq_n)\n",
    "    \n",
    "len(all_names)"
   ]
  },
  {
   "cell_type": "code",
   "execution_count": 16,
   "metadata": {},
   "outputs": [
    {
     "data": {
      "text/plain": [
       "4477"
      ]
     },
     "execution_count": 16,
     "metadata": {},
     "output_type": "execute_result"
    }
   ],
   "source": [
    "# save all sequence in the one list \n",
    "seq_mutate_list= [item for s in all_mutate_list for item in s]\n",
    "len(seq_mutate_list)"
   ]
  },
  {
   "cell_type": "code",
   "execution_count": 17,
   "metadata": {},
   "outputs": [],
   "source": [
    "# write fasta file \n",
    "\n",
    "seq_file = open(\"/home/defense/shokor/mapping2/data/mutate_real_seq.fasta\", \"w\")\n",
    "\n",
    "for i in range(len(seq_mutate_list)):\n",
    "\n",
    "    seq_file.write(\">\" + all_names[i] + \"\\n\" + seq_mutate_list[i] + \"\\n\")\n",
    "\n",
    "seq_file.close()"
   ]
  },
  {
   "cell_type": "code",
   "execution_count": 16,
   "metadata": {},
   "outputs": [],
   "source": [
    "# mutate_fasta_file = \"/home/defense/shokor/mapping2/data/mutate_real_seq.fasta\"\n",
    "# mutate_seq_list, mutate_name = read_fasta(mutate_fasta_file)\n",
    "# len(mutate_seq_list)"
   ]
  },
  {
   "cell_type": "markdown",
   "metadata": {
    "tags": []
   },
   "source": [
    "### Blosum62\n",
    "\n",
    "https://www.biotite-python.org/examples/gallery/sequence/blosum_dendrogram.html"
   ]
  },
  {
   "cell_type": "code",
   "execution_count": 18,
   "metadata": {
    "collapsed": true,
    "jupyter": {
     "outputs_hidden": true
    },
    "tags": []
   },
   "outputs": [
    {
     "name": "stdout",
     "output_type": "stream",
     "text": [
      "Requirement already satisfied: biotite in /home/defense/shokor/miniconda3/envs/ProtUni/lib/python3.9/site-packages (0.31.0)\n",
      "Requirement already satisfied: requests>=2.12 in /home/defense/shokor/miniconda3/envs/ProtUni/lib/python3.9/site-packages (from biotite) (2.26.0)\n",
      "Requirement already satisfied: networkx>=2.0 in /home/defense/shokor/miniconda3/envs/ProtUni/lib/python3.9/site-packages (from biotite) (2.6.3)\n",
      "Requirement already satisfied: msgpack>=0.5.6 in /home/defense/shokor/miniconda3/envs/ProtUni/lib/python3.9/site-packages (from biotite) (1.0.2)\n",
      "Requirement already satisfied: numpy>=1.19 in /home/defense/shokor/miniconda3/envs/ProtUni/lib/python3.9/site-packages (from biotite) (1.21.2)\n",
      "Requirement already satisfied: charset-normalizer~=2.0.0 in /home/defense/shokor/miniconda3/envs/ProtUni/lib/python3.9/site-packages (from requests>=2.12->biotite) (2.0.7)\n",
      "Requirement already satisfied: certifi>=2017.4.17 in /home/defense/shokor/miniconda3/envs/ProtUni/lib/python3.9/site-packages (from requests>=2.12->biotite) (2021.10.8)\n",
      "Requirement already satisfied: urllib3<1.27,>=1.21.1 in /home/defense/shokor/miniconda3/envs/ProtUni/lib/python3.9/site-packages (from requests>=2.12->biotite) (1.26.7)\n",
      "Requirement already satisfied: idna<4,>=2.5 in /home/defense/shokor/miniconda3/envs/ProtUni/lib/python3.9/site-packages (from requests>=2.12->biotite) (3.3)\n"
     ]
    }
   ],
   "source": [
    "!pip install biotite"
   ]
  },
  {
   "cell_type": "code",
   "execution_count": 20,
   "metadata": {
    "tags": []
   },
   "outputs": [],
   "source": [
    "import biotite.sequence.align as align\n",
    "import biotite.sequence as seq\n",
    "\n",
    "# Load Blossum62 matrix form biotite package\n",
    "matrix = align.SubstitutionMatrix.std_protein_matrix()"
   ]
  },
  {
   "cell_type": "code",
   "execution_count": 35,
   "metadata": {
    "collapsed": true,
    "jupyter": {
     "outputs_hidden": true
    },
    "tags": []
   },
   "outputs": [
    {
     "name": "stdout",
     "output_type": "stream",
     "text": [
      "    A   C   D   E   F   G   H   I   K   L   M   N   P   Q   R   S   T   V   W   Y\n",
      "A   4   0  -2  -1  -2   0  -2  -1  -1  -1  -1  -2  -1  -1  -1   1   0   0  -3  -2\n",
      "C   0   9  -3  -4  -2  -3  -3  -1  -3  -1  -1  -3  -3  -3  -3  -1  -1  -1  -2  -2\n",
      "D  -2  -3   6   2  -3  -1  -1  -3  -1  -4  -3   1  -1   0  -2   0  -1  -3  -4  -3\n",
      "E  -1  -4   2   5  -3  -2   0  -3   1  -3  -2   0  -1   2   0   0  -1  -2  -3  -2\n",
      "F  -2  -2  -3  -3   6  -3  -1   0  -3   0   0  -3  -4  -3  -3  -2  -2  -1   1   3\n",
      "G   0  -3  -1  -2  -3   6  -2  -4  -2  -4  -3   0  -2  -2  -2   0  -2  -3  -2  -3\n",
      "H  -2  -3  -1   0  -1  -2   8  -3  -1  -3  -2   1  -2   0   0  -1  -2  -3  -2   2\n",
      "I  -1  -1  -3  -3   0  -4  -3   4  -3   2   1  -3  -3  -3  -3  -2  -1   3  -3  -1\n",
      "K  -1  -3  -1   1  -3  -2  -1  -3   5  -2  -1   0  -1   1   2   0  -1  -2  -3  -2\n",
      "L  -1  -1  -4  -3   0  -4  -3   2  -2   4   2  -3  -3  -2  -2  -2  -1   1  -2  -1\n",
      "M  -1  -1  -3  -2   0  -3  -2   1  -1   2   5  -2  -2   0  -1  -1  -1   1  -1  -1\n",
      "N  -2  -3   1   0  -3   0   1  -3   0  -3  -2   6  -2   0   0   1   0  -3  -4  -2\n",
      "P  -1  -3  -1  -1  -4  -2  -2  -3  -1  -3  -2  -2   7  -1  -2  -1  -1  -2  -4  -3\n",
      "Q  -1  -3   0   2  -3  -2   0  -3   1  -2   0   0  -1   5   1   0  -1  -2  -2  -1\n",
      "R  -1  -3  -2   0  -3  -2   0  -3   2  -2  -1   0  -2   1   5  -1  -1  -3  -3  -2\n",
      "S   1  -1   0   0  -2   0  -1  -2   0  -2  -1   1  -1   0  -1   4   1  -2  -3  -2\n",
      "T   0  -1  -1  -1  -2  -2  -2  -1  -1  -1  -1   0  -1  -1  -1   1   5   0  -2  -2\n",
      "V   0  -1  -3  -2  -1  -3  -3   3  -2   1   1  -3  -2  -2  -3  -2   0   4  -3  -1\n",
      "W  -3  -2  -4  -3   1  -2  -2  -3  -3  -2  -1  -4  -4  -2  -3  -3  -2  -3  11   2\n",
      "Y  -2  -2  -3  -2   3  -3   2  -1  -2  -1  -1  -2  -3  -1  -2  -2  -2  -1   2   7\n"
     ]
    }
   ],
   "source": [
    "# Matrix should not contain ambiguous symbols or stop signal\n",
    "matrix = align.SubstitutionMatrix(\n",
    "    seq.Alphabet(matrix.get_alphabet1().get_symbols()[:-4]),\n",
    "    seq.Alphabet(matrix.get_alphabet2().get_symbols()[:-4]),\n",
    "    matrix.score_matrix()[:-4, :-4]\n",
    ")\n",
    "similarities = matrix.score_matrix()\n",
    "print(matrix)"
   ]
  },
  {
   "cell_type": "code",
   "execution_count": 23,
   "metadata": {},
   "outputs": [],
   "source": [
    "from scipy.special import softmax"
   ]
  },
  {
   "cell_type": "code",
   "execution_count": 42,
   "metadata": {},
   "outputs": [],
   "source": [
    "# transfom score into probability\n",
    "trans_score = softmax(similarities, axis=0)"
   ]
  },
  {
   "cell_type": "code",
   "execution_count": 52,
   "metadata": {},
   "outputs": [],
   "source": [
    "# generate a dataframe of substitution probability \n",
    "blosum_df = pd.DataFrame(data=trans_score, index=['A', 'C', 'D', 'E', 'F', 'G', 'H', 'I', 'K', 'L', 'M', 'N', 'P', 'Q', 'R', 'S', 'T', 'V', 'W', 'Y'], columns=['A', 'C', 'D', 'E', 'F', 'G', 'H', 'I', 'K', 'L', 'M', 'N', 'P', 'Q', 'R', 'S', 'T', 'V', 'W', 'Y'])"
   ]
  },
  {
   "cell_type": "code",
   "execution_count": null,
   "metadata": {},
   "outputs": [],
   "source": [
    "def mutate(sequence_list, mutation_rate):\n",
    "    '''\n",
    "    Produce mutations based on blossum62 substitution matrix in a given list of sequence with specific percentage\n",
    "    \n",
    "    input:\n",
    "        - list of sequences\n",
    "        - mutation percentage\n",
    "        \n",
    "    output:\n",
    "        - list of mutated sequence\n",
    "    '''\n",
    "    mutate_list = []\n",
    "    \n",
    "    aa = ['A', 'C', 'D', 'E', 'F', 'G', 'H', 'I', 'K', 'L', 'M', 'N', 'P', 'Q', 'R', 'S', 'T', 'V', 'W', 'Y']\n",
    "\n",
    "    for seq in sequence_list: \n",
    "        prot_list = list(seq)\n",
    "        for i in range(len(seq)):\n",
    "            r = random.random()\n",
    "            \n",
    "            if r < 0.1:\n",
    "                mutation_site = random.randint(0, len(prot_list) - 1)\n",
    "\n",
    "                if prot_list[mutation_site] in aa:\n",
    "                    weights = blosum_df[prot_list[mutation_site]].values.tolist()\n",
    "            \n",
    "                    if isinstance(weights[0], list):\n",
    "                        new_weights = []\n",
    "                        for n in weights:\n",
    "                            new_weights = new_weights + n\n",
    "                    else:\n",
    "                        new_weights = weights \n",
    "\n",
    "                    prot_list[mutation_site] = random.choices(list('ACDEFGHIKLMNPQRSTVWY'), weights= new_weights)\n",
    "                  \n",
    "        p = ''.join([item for sublist in prot_list for item in sublist])\n",
    "        mutate_list.append(p)\n",
    "    return mutate_list "
   ]
  },
  {
   "cell_type": "code",
   "execution_count": null,
   "metadata": {},
   "outputs": [],
   "source": [
    "# generate mutated sequecne with different percentage\n",
    "\n",
    "mutation_rate_list = [0.1, 0.2, 0.3, 0.4, 0.5, 0.6, 0.7, 0.8, 0.9, 0.95, 0.99]\n",
    "\n",
    "\n",
    "all_blosmutate_list = []\n",
    "for mutation_rate in mutation_rate_list:\n",
    "    mutate_list = mutate(real_seq_list, mutation_rate)\n",
    "    all_blosmutate_list.append(mutate_list)"
   ]
  },
  {
   "cell_type": "code",
   "execution_count": null,
   "metadata": {},
   "outputs": [],
   "source": [
    "# save all sequence in the one list \n",
    "seq_blosmutate_list= [item for s in all_blosmutate_list for item in s]\n",
    "len(seq_blosmutate_list)"
   ]
  },
  {
   "cell_type": "code",
   "execution_count": null,
   "metadata": {},
   "outputs": [],
   "source": [
    "# write fasta file \n",
    "\n",
    "seq_file = open(\"/home/defense/shokor/mapping2/data/blosum_mutate_real_seq.fasta\", \"w\")\n",
    "\n",
    "for i in range(len(all_blosmutate_list)):\n",
    "\n",
    "    seq_file.write(\">\" + all_names[i] + \"\\n\" + seq_blosmutate_list[i] + \"\\n\")\n",
    "\n",
    "seq_file.close()"
   ]
  },
  {
   "cell_type": "markdown",
   "metadata": {},
   "source": [
    "# Generating protein sequences with expected prob"
   ]
  },
  {
   "cell_type": "markdown",
   "metadata": {},
   "source": [
    "Composition in percent for the complete database:\n",
    "\n",
    "   Ala (A) 8.25   Gln (Q) 3.93   Leu (L) 9.65   Ser (S) 6.64\n",
    "\n",
    "   Arg (R) 5.53   Glu (E) 6.72   Lys (K) 5.80   Thr (T) 5.35\n",
    "\n",
    "   Asn (N) 4.06   Gly (G) 7.07   Met (M) 2.41   Trp (W) 1.10\n",
    "\n",
    "   Asp (D) 5.46   His (H) 2.27   Phe (F) 3.86   Tyr (Y) 2.92\n",
    "\n",
    "   Cys (C) 1.38   Ile (I) 5.91   Pro (P) 4.74   Val (V) 6.86\n",
    "\n",
    "\n",
    "\n",
    "   Asx (B) 0.000  Glx (Z) 0.000  Xaa (X) 0.00"
   ]
  },
  {
   "cell_type": "code",
   "execution_count": 36,
   "metadata": {},
   "outputs": [],
   "source": [
    "# Generate protein sequences with specific prob\n",
    "\n",
    "list_size = 50000 # sequence number \n",
    "expected_seq = []\n",
    "seq_name = []\n",
    "weights = [0.0825, 0.0138, 0.0546, 0.0672, 0.0386, 0.0707, 0.0227, 0.0591, 0.058, 0.0965, 0.0241, 0.0406, 0.0474, 0.0393, 0.0553, 0.0664, 0.0535, 0.0686, 0.011, 0.0292]\n",
    "\n",
    "for j in range(list_size):\n",
    "    seq_n = \"expected_seq\"+ str(j+1)\n",
    "    seq_name.append(seq_n)\n",
    "    y = ''.join(random.choices('ACDEFGHIKLMNPQRSTVWY', weights= weights, k= 256))\n",
    "    expected_seq.append(y) "
   ]
  },
  {
   "cell_type": "code",
   "execution_count": 37,
   "metadata": {},
   "outputs": [],
   "source": [
    "# write fasta file \n",
    "\n",
    "expected_seq_file = open(\"/home/defense/shokor/mapping2/data/id_30/expected_seq.fasta\", \"w\")\n",
    "\n",
    "for i in range(len(expected_seq)):\n",
    "\n",
    "    expected_seq_file.write(\">\" + seq_name[i] + \"\\n\" + expected_seq[i] + \"\\n\")\n",
    "\n",
    "expected_seq_file.close()"
   ]
  },
  {
   "cell_type": "code",
   "execution_count": 38,
   "metadata": {},
   "outputs": [],
   "source": [
    "# expected_fasta_file = \"/home/defense/shokor/mapping2/data/expected_seq.fasta\"\n",
    "# expected_seq_list, expected_name = read_fasta(expected_fasta_file) "
   ]
  },
  {
   "cell_type": "markdown",
   "metadata": {
    "id": "CVIhO_XjTnUj"
   },
   "source": [
    "# MMseqs2"
   ]
  },
  {
   "cell_type": "markdown",
   "metadata": {
    "id": "pO6OiSlzTteI"
   },
   "source": [
    "## Install Swiss prot"
   ]
  },
  {
   "cell_type": "code",
   "execution_count": 49,
   "metadata": {},
   "outputs": [],
   "source": [
    "# !mkdir /home/defense/shokor/mapping2/data/databases\n",
    "# !mkdir /home/defense/shokor/mapping2/data/databases/uniprot"
   ]
  },
  {
   "cell_type": "code",
   "execution_count": 48,
   "metadata": {
    "collapsed": true,
    "id": "c5v716LPTnFX",
    "jupyter": {
     "outputs_hidden": true
    },
    "tags": []
   },
   "outputs": [
    {
     "name": "stdout",
     "output_type": "stream",
     "text": [
      "databases UniProtKB/Swiss-Prot /home/defense/shokor/mapping2/data/databases/uniprot/swissprot tmp \n",
      "\n",
      "MMseqs Version:              \t13.45111\n",
      "Force restart with latest tmp\tfalse\n",
      "Remove temporary files       \tfalse\n",
      "Compressed                   \t0\n",
      "Threads                      \t40\n",
      "Verbosity                    \t3\n",
      "\n",
      "createdb tmp/16198825224019552537/uniprot_sprot.fasta.gz /home/defense/shokor/mapping2/data/databases/uniprot/swissprot --compressed 0 -v 3 \n",
      "\n",
      "Converting sequences\n",
      "[565904] 2s 353ms\n",
      "Time for merging to swissprot_h: 0h 0m 0s 121ms\n",
      "Time for merging to swissprot: 0h 0m 0s 241ms\n",
      "Database type: Aminoacid\n",
      "Time for processing: 0h 0m 3s 689ms\n",
      "prefixid /home/defense/shokor/mapping2/data/databases/uniprot/swissprot_h tmp/16198825224019552537/header_pref.tsv --tsv --threads 40 -v 3 \n",
      "\n",
      "[=================================================================] 100.00% 565.93K 0s 175ms          ] 23.56% 133.32K eta 0s       \n",
      "Time for merging to header_pref.tsv: 0h 0m 0s 235ms\n",
      "Time for processing: 0h 0m 0s 567ms\n",
      "Create directory tmp/16198825224019552537/taxonomy\n",
      "createtaxdb /home/defense/shokor/mapping2/data/databases/uniprot/swissprot tmp/16198825224019552537/taxonomy --threads 40 -v 3 \n",
      "\n",
      "Download taxdump.tar.gz\n",
      "\n",
      "12/19 18:38:41 [\u001b[1;32mNOTICE\u001b[0m] Downloading 1 item(s)\n",
      "\u001b[35m[\u001b[0m#5f972c 53MiB/54MiB\u001b[36m(98%)\u001b[0m CN:1 DL:\u001b[32m4.7MiB\u001b[0m\u001b[35m]\u001b[0m\u001b[0m0m\u001b[35m]\u001b[0m\u001b[0mmm\n",
      "12/19 18:38:53 [\u001b[1;32mNOTICE\u001b[0m] Téléchargement terminé: tmp/16198825224019552537/taxonomy/taxdump.tar.gz\n",
      "\n",
      "Résultats du téléchargement:\n",
      "gid   |stat|avg speed  |path/URI\n",
      "======+====+===========+=======================================================\n",
      "5f972c|\u001b[1;32mOK\u001b[0m  |   4.4MiB/s|tmp/16198825224019552537/taxonomy/taxdump.tar.gz\n",
      "\n",
      "Légende du statut:\n",
      "(OK): téléchargement terminé.\n",
      "Loading nodes file ... Done, got 2388136 nodes\n",
      "Loading merged file ... Done, added 65480 merged nodes.\n",
      "Loading names file ... Done\n",
      "Init RMQ ...Done\n"
     ]
    }
   ],
   "source": [
    "!mmseqs databases UniProtKB/Swiss-Prot /home/defense/shokor/mapping2/data/databases/uniprot/swissprot tmp "
   ]
  },
  {
   "cell_type": "markdown",
   "metadata": {
    "id": "GciNj31QT0Rq"
   },
   "source": [
    "## Search for generated sequences in swiss prot database"
   ]
  },
  {
   "cell_type": "code",
   "execution_count": 52,
   "metadata": {},
   "outputs": [],
   "source": [
    "# !mkdir /home/defense/shokor/mapping2/data/alignement"
   ]
  },
  {
   "cell_type": "code",
   "execution_count": 51,
   "metadata": {
    "collapsed": true,
    "id": "7VBkGKzYTLV8",
    "jupyter": {
     "outputs_hidden": true
    },
    "tags": []
   },
   "outputs": [
    {
     "name": "stdout",
     "output_type": "stream",
     "text": [
      "easy-search /home/defense/shokor/mapping2/data/random_seq.fasta /home/defense/shokor/mapping2/data/databases/uniprot/swissprot /home/defense/shokor/mapping2/data/alignement/random_search.m8 tmp \n",
      "\n",
      "MMseqs Version:                        \t13.45111\n",
      "Substitution matrix                    \tnucl:nucleotide.out,aa:blosum62.out\n",
      "Add backtrace                          \tfalse\n",
      "Alignment mode                         \t3\n",
      "Alignment mode                         \t0\n",
      "Allow wrapped scoring                  \tfalse\n",
      "E-value threshold                      \t0.001\n",
      "Seq. id. threshold                     \t0\n",
      "Min alignment length                   \t0\n",
      "Seq. id. mode                          \t0\n",
      "Alternative alignments                 \t0\n",
      "Coverage threshold                     \t0\n",
      "Coverage mode                          \t0\n",
      "Max sequence length                    \t65535\n",
      "Compositional bias                     \t1\n",
      "Max reject                             \t2147483647\n",
      "Max accept                             \t2147483647\n",
      "Include identical seq. id.             \tfalse\n",
      "Preload mode                           \t0\n",
      "Pseudo count a                         \t1\n",
      "Pseudo count b                         \t1.5\n",
      "Score bias                             \t0\n",
      "Realign hits                           \tfalse\n",
      "Realign score bias                     \t-0.2\n",
      "Realign max seqs                       \t2147483647\n",
      "Gap open cost                          \tnucl:5,aa:11\n",
      "Gap extension cost                     \tnucl:2,aa:1\n",
      "Zdrop                                  \t40\n",
      "Threads                                \t40\n",
      "Compressed                             \t0\n",
      "Verbosity                              \t3\n",
      "Seed substitution matrix               \tnucl:nucleotide.out,aa:VTML80.out\n",
      "Sensitivity                            \t5.7\n",
      "k-mer length                           \t0\n",
      "k-score                                \t2147483647\n",
      "Alphabet size                          \tnucl:5,aa:21\n",
      "Max results per query                  \t300\n",
      "Split database                         \t0\n",
      "Split mode                             \t2\n",
      "Split memory limit                     \t0\n",
      "Diagonal scoring                       \ttrue\n",
      "Exact k-mer matching                   \t0\n",
      "Mask residues                          \t1\n",
      "Mask lower case residues               \t0\n",
      "Minimum diagonal score                 \t15\n",
      "Spaced k-mers                          \t1\n",
      "Spaced k-mer pattern                   \t\n",
      "Local temporary path                   \t\n",
      "Rescore mode                           \t0\n",
      "Remove hits by seq. id. and coverage   \tfalse\n",
      "Sort results                           \t0\n",
      "Mask profile                           \t1\n",
      "Profile E-value threshold              \t0.001\n",
      "Global sequence weighting              \tfalse\n",
      "Allow deletions                        \tfalse\n",
      "Filter MSA                             \t1\n",
      "Maximum seq. id. threshold             \t0.9\n",
      "Minimum seq. id.                       \t0\n",
      "Minimum score per column               \t-20\n",
      "Minimum coverage                       \t0\n",
      "Select N most diverse seqs             \t1000\n",
      "Min codons in orf                      \t30\n",
      "Max codons in length                   \t32734\n",
      "Max orf gaps                           \t2147483647\n",
      "Contig start mode                      \t2\n",
      "Contig end mode                        \t2\n",
      "Orf start mode                         \t1\n",
      "Forward frames                         \t1,2,3\n",
      "Reverse frames                         \t1,2,3\n",
      "Translation table                      \t1\n",
      "Translate orf                          \t0\n",
      "Use all table starts                   \tfalse\n",
      "Offset of numeric ids                  \t0\n",
      "Create lookup                          \t0\n",
      "Add orf stop                           \tfalse\n",
      "Overlap between sequences              \t0\n",
      "Sequence split mode                    \t1\n",
      "Header split mode                      \t0\n",
      "Chain overlapping alignments           \t0\n",
      "Merge query                            \t1\n",
      "Search type                            \t0\n",
      "Search iterations                      \t1\n",
      "Start sensitivity                      \t4\n",
      "Search steps                           \t1\n",
      "Exhaustive search mode                 \tfalse\n",
      "Filter results during exhaustive search\t0\n",
      "Strand selection                       \t1\n",
      "LCA search mode                        \tfalse\n",
      "Disk space limit                       \t0\n",
      "MPI runner                             \t\n",
      "Force restart with latest tmp          \tfalse\n",
      "Remove temporary files                 \ttrue\n",
      "Alignment format                       \t0\n",
      "Format alignment output                \tquery,target,fident,alnlen,mismatch,gapopen,qstart,qend,tstart,tend,evalue,bits\n",
      "Database output                        \tfalse\n",
      "Overlap threshold                      \t0\n",
      "Database type                          \t0\n",
      "Shuffle input database                 \ttrue\n",
      "Createdb mode                          \t0\n",
      "Write lookup file                      \t0\n",
      "Greedy best hits                       \tfalse\n",
      "\n",
      "createdb /home/defense/shokor/mapping2/data/random_seq.fasta tmp/5050569317393139055/query --dbtype 0 --shuffle 1 --createdb-mode 0 --write-lookup 0 --id-offset 0 --compressed 0 -v 3 \n",
      "\n",
      "Converting sequences\n",
      "[49996] 0s 90ms\n",
      "Time for merging to query_h: 0h 0m 0s 5ms\n",
      "Time for merging to query: 0h 0m 0s 17ms\n",
      "Database type: Aminoacid\n",
      "Time for processing: 0h 0m 0s 197ms\n",
      "Create directory tmp/5050569317393139055/search_tmp\n",
      "search tmp/5050569317393139055/query /home/defense/shokor/mapping2/data/databases/uniprot/swissprot tmp/5050569317393139055/result tmp/5050569317393139055/search_tmp --alignment-mode 3 -s 5.7 --remove-tmp-files 1 \n",
      "\n",
      "prefilter tmp/5050569317393139055/query /home/defense/shokor/mapping2/data/databases/uniprot/swissprot tmp/5050569317393139055/search_tmp/4267876639518928046/pref_0 --sub-mat nucl:nucleotide.out,aa:blosum62.out --seed-sub-mat nucl:nucleotide.out,aa:VTML80.out -k 0 --k-score 2147483647 --alph-size nucl:5,aa:21 --max-seq-len 65535 --max-seqs 300 --split 0 --split-mode 2 --split-memory-limit 0 -c 0 --cov-mode 0 --comp-bias-corr 1 --diag-score 1 --exact-kmer-matching 0 --mask 1 --mask-lower-case 0 --min-ungapped-score 15 --add-self-matches 0 --spaced-kmer-mode 1 --db-load-mode 0 --pca 1 --pcb 1.5 --threads 40 --compressed 0 -v 3 -s 5.7 \n",
      "\n",
      "Query database size: 50000 type: Aminoacid\n",
      "Estimated memory consumption: 3G\n",
      "Target database size: 565928 type: Aminoacid\n",
      "Index table k-mer threshold: 112 at k-mer size 6 \n",
      "Index table: counting k-mers\n",
      "[=================================================================] 100.00% 565.93K 2s 343ms    \n",
      "Index table: Masked residues: 3195746\n",
      "Index table: fill\n",
      "[=================================================================] 100.00% 565.93K 2s 435ms    \n",
      "Index statistics\n",
      "Entries:          194249581\n",
      "DB size:          1599 MB\n",
      "Avg k-mer size:   3.035150\n",
      "Top 10 k-mers\n",
      "    GPGGTL\t1839\n",
      "    GQSWTV\t1705\n",
      "    WGMFAT\t1637\n",
      "    PGVFEV\t1634\n",
      "    VLWQFW\t1622\n",
      "    AYIRPN\t1586\n",
      "    RSPKGV\t1584\n",
      "    TPHKWY\t1559\n",
      "    HIRVGW\t1547\n",
      "    ITLSPY\t1540\n",
      "Time for index table init: 0h 0m 5s 485ms\n",
      "Process prefiltering step 1 of 1\n",
      "\n",
      "k-mer similarity threshold: 112\n",
      "Starting prefiltering scores calculation (step 1 of 1)\n",
      "Query db start 1 to 50000\n",
      "Target db start 1 to 565928\n",
      "[=================================================================] 100.00% 50.00K 42s 693ms    \n",
      "\n",
      "1040.089438 k-mers per position\n",
      "294133 DB matches per sequence\n",
      "0 overflows\n",
      "0 queries produce too many hits (truncated result)\n",
      "300 sequences passed prefiltering per query sequence\n",
      "300 median result list length\n",
      "0 sequences with 0 size result lists\n",
      "Time for merging to pref_0: 0h 0m 0s 14ms\n",
      "Time for processing: 0h 0m 49s 44ms\n",
      "align tmp/5050569317393139055/query /home/defense/shokor/mapping2/data/databases/uniprot/swissprot tmp/5050569317393139055/search_tmp/4267876639518928046/pref_0 tmp/5050569317393139055/result --sub-mat nucl:nucleotide.out,aa:blosum62.out -a 0 --alignment-mode 3 --alignment-output-mode 0 --wrapped-scoring 0 -e 0.001 --min-seq-id 0 --min-aln-len 0 --seq-id-mode 0 --alt-ali 0 -c 0 --cov-mode 0 --max-seq-len 65535 --comp-bias-corr 1 --max-rejected 2147483647 --max-accept 2147483647 --add-self-matches 0 --db-load-mode 0 --pca 1 --pcb 1.5 --score-bias 0 --realign 0 --realign-score-bias -0.2 --realign-max-seqs 2147483647 --gap-open nucl:5,aa:11 --gap-extend nucl:2,aa:1 --zdrop 40 --threads 40 --compressed 0 -v 3 \n",
      "\n",
      "Compute score, coverage and sequence identity\n",
      "Query database size: 50000 type: Aminoacid\n",
      "Target database size: 565928 type: Aminoacid\n",
      "Calculation of alignments\n",
      "[=================================================================] 100.00% 50.00K 27s 82ms     \n",
      "Time for merging to result: 0h 0m 0s 26ms\n",
      "15000000 alignments calculated\n",
      "7 sequence pairs passed the thresholds (0.000000 of overall calculated)\n",
      "0.000140 hits per query sequence\n",
      "Time for processing: 0h 0m 27s 291ms\n",
      "rmdb tmp/5050569317393139055/search_tmp/4267876639518928046/pref_0 -v 3 \n",
      "\n",
      "Time for processing: 0h 0m 0s 41ms\n",
      "rmdb tmp/5050569317393139055/search_tmp/4267876639518928046/aln_0 -v 3 \n",
      "\n",
      "Time for processing: 0h 0m 0s 0ms\n",
      "rmdb tmp/5050569317393139055/search_tmp/4267876639518928046/input_0 -v 3 \n",
      "\n",
      "Time for processing: 0h 0m 0s 0ms\n",
      "rmdb tmp/5050569317393139055/search_tmp/4267876639518928046/aln_merge -v 3 \n",
      "\n",
      "Time for processing: 0h 0m 0s 0ms\n",
      "convertalis tmp/5050569317393139055/query /home/defense/shokor/mapping2/data/databases/uniprot/swissprot tmp/5050569317393139055/result /home/defense/shokor/mapping2/data/alignement/random_search.m8 --sub-mat nucl:nucleotide.out,aa:blosum62.out --format-mode 0 --format-output query,target,fident,alnlen,mismatch,gapopen,qstart,qend,tstart,tend,evalue,bits --translation-table 1 --gap-open nucl:5,aa:11 --gap-extend nucl:2,aa:1 --db-output 0 --db-load-mode 0 --search-type 0 --threads 40 --compressed 0 -v 3 \n",
      "\n",
      "[=================================================================] 100.00% 50.00K 0s 76ms     K eta 0s       \n",
      "Time for merging to random_search.m8: 0h 0m 0s 17ms\n",
      "Time for processing: 0h 0m 0s 328ms\n",
      "rmdb tmp/5050569317393139055/result -v 3 \n",
      "\n",
      "Time for processing: 0h 0m 0s 1ms\n",
      "rmdb tmp/5050569317393139055/query -v 3 \n",
      "\n",
      "Time for processing: 0h 0m 0s 2ms\n",
      "rmdb tmp/5050569317393139055/query_h -v 3 \n",
      "\n",
      "Time for processing: 0h 0m 0s 0ms\n"
     ]
    }
   ],
   "source": [
    "# Random sequences\n",
    "!mmseqs easy-search /home/defense/shokor/mapping2/data/random_seq.fasta /home/defense/shokor/mapping2/data/databases/uniprot/swissprot /home/defense/shokor/mapping2/data/alignement/random_search.m8 tmp"
   ]
  },
  {
   "cell_type": "code",
   "execution_count": 62,
   "metadata": {
    "id": "zycyeZWJTLTD"
   },
   "outputs": [
    {
     "name": "stdout",
     "output_type": "stream",
     "text": [
      "seq11648\n",
      "seq1885\n",
      "seq24400\n",
      "seq19982\n",
      "seq39583\n",
      "seq22586\n",
      "seq19626\n"
     ]
    }
   ],
   "source": [
    "# print first column of search file\n",
    "!cat /home/defense/shokor/mapping2/data/alignement/random_search.m8 | sed 's/|/ /' | awk '{print $1}'\n"
   ]
  },
  {
   "cell_type": "markdown",
   "metadata": {
    "id": "dlFM_GWzUEgC"
   },
   "source": [
    "These sequences will be removed "
   ]
  },
  {
   "cell_type": "code",
   "execution_count": 59,
   "metadata": {
    "collapsed": true,
    "jupyter": {
     "outputs_hidden": true
    },
    "tags": []
   },
   "outputs": [
    {
     "name": "stdout",
     "output_type": "stream",
     "text": [
      "easy-search /home/defense/shokor/mapping2/data/expected_seq.fasta /home/defense/shokor/mapping2/data/databases/uniprot/swissprot /home/defense/shokor/mapping2/data/alignement/expected_search.m8 tmp \n",
      "\n",
      "MMseqs Version:                        \t13.45111\n",
      "Substitution matrix                    \tnucl:nucleotide.out,aa:blosum62.out\n",
      "Add backtrace                          \tfalse\n",
      "Alignment mode                         \t3\n",
      "Alignment mode                         \t0\n",
      "Allow wrapped scoring                  \tfalse\n",
      "E-value threshold                      \t0.001\n",
      "Seq. id. threshold                     \t0\n",
      "Min alignment length                   \t0\n",
      "Seq. id. mode                          \t0\n",
      "Alternative alignments                 \t0\n",
      "Coverage threshold                     \t0\n",
      "Coverage mode                          \t0\n",
      "Max sequence length                    \t65535\n",
      "Compositional bias                     \t1\n",
      "Max reject                             \t2147483647\n",
      "Max accept                             \t2147483647\n",
      "Include identical seq. id.             \tfalse\n",
      "Preload mode                           \t0\n",
      "Pseudo count a                         \t1\n",
      "Pseudo count b                         \t1.5\n",
      "Score bias                             \t0\n",
      "Realign hits                           \tfalse\n",
      "Realign score bias                     \t-0.2\n",
      "Realign max seqs                       \t2147483647\n",
      "Gap open cost                          \tnucl:5,aa:11\n",
      "Gap extension cost                     \tnucl:2,aa:1\n",
      "Zdrop                                  \t40\n",
      "Threads                                \t40\n",
      "Compressed                             \t0\n",
      "Verbosity                              \t3\n",
      "Seed substitution matrix               \tnucl:nucleotide.out,aa:VTML80.out\n",
      "Sensitivity                            \t5.7\n",
      "k-mer length                           \t0\n",
      "k-score                                \t2147483647\n",
      "Alphabet size                          \tnucl:5,aa:21\n",
      "Max results per query                  \t300\n",
      "Split database                         \t0\n",
      "Split mode                             \t2\n",
      "Split memory limit                     \t0\n",
      "Diagonal scoring                       \ttrue\n",
      "Exact k-mer matching                   \t0\n",
      "Mask residues                          \t1\n",
      "Mask lower case residues               \t0\n",
      "Minimum diagonal score                 \t15\n",
      "Spaced k-mers                          \t1\n",
      "Spaced k-mer pattern                   \t\n",
      "Local temporary path                   \t\n",
      "Rescore mode                           \t0\n",
      "Remove hits by seq. id. and coverage   \tfalse\n",
      "Sort results                           \t0\n",
      "Mask profile                           \t1\n",
      "Profile E-value threshold              \t0.001\n",
      "Global sequence weighting              \tfalse\n",
      "Allow deletions                        \tfalse\n",
      "Filter MSA                             \t1\n",
      "Maximum seq. id. threshold             \t0.9\n",
      "Minimum seq. id.                       \t0\n",
      "Minimum score per column               \t-20\n",
      "Minimum coverage                       \t0\n",
      "Select N most diverse seqs             \t1000\n",
      "Min codons in orf                      \t30\n",
      "Max codons in length                   \t32734\n",
      "Max orf gaps                           \t2147483647\n",
      "Contig start mode                      \t2\n",
      "Contig end mode                        \t2\n",
      "Orf start mode                         \t1\n",
      "Forward frames                         \t1,2,3\n",
      "Reverse frames                         \t1,2,3\n",
      "Translation table                      \t1\n",
      "Translate orf                          \t0\n",
      "Use all table starts                   \tfalse\n",
      "Offset of numeric ids                  \t0\n",
      "Create lookup                          \t0\n",
      "Add orf stop                           \tfalse\n",
      "Overlap between sequences              \t0\n",
      "Sequence split mode                    \t1\n",
      "Header split mode                      \t0\n",
      "Chain overlapping alignments           \t0\n",
      "Merge query                            \t1\n",
      "Search type                            \t0\n",
      "Search iterations                      \t1\n",
      "Start sensitivity                      \t4\n",
      "Search steps                           \t1\n",
      "Exhaustive search mode                 \tfalse\n",
      "Filter results during exhaustive search\t0\n",
      "Strand selection                       \t1\n",
      "LCA search mode                        \tfalse\n",
      "Disk space limit                       \t0\n",
      "MPI runner                             \t\n",
      "Force restart with latest tmp          \tfalse\n",
      "Remove temporary files                 \ttrue\n",
      "Alignment format                       \t0\n",
      "Format alignment output                \tquery,target,fident,alnlen,mismatch,gapopen,qstart,qend,tstart,tend,evalue,bits\n",
      "Database output                        \tfalse\n",
      "Overlap threshold                      \t0\n",
      "Database type                          \t0\n",
      "Shuffle input database                 \ttrue\n",
      "Createdb mode                          \t0\n",
      "Write lookup file                      \t0\n",
      "Greedy best hits                       \tfalse\n",
      "\n",
      "createdb /home/defense/shokor/mapping2/data/expected_seq.fasta tmp/17627086310485486701/query --dbtype 0 --shuffle 1 --createdb-mode 0 --write-lookup 0 --id-offset 0 --compressed 0 -v 3 \n",
      "\n",
      "Converting sequences\n",
      "[49996] 0s 83ms\n",
      "Time for merging to query_h: 0h 0m 0s 6ms\n",
      "Time for merging to query: 0h 0m 0s 17ms\n",
      "Database type: Aminoacid\n",
      "Time for processing: 0h 0m 0s 210ms\n",
      "Create directory tmp/17627086310485486701/search_tmp\n",
      "search tmp/17627086310485486701/query /home/defense/shokor/mapping2/data/databases/uniprot/swissprot tmp/17627086310485486701/result tmp/17627086310485486701/search_tmp --alignment-mode 3 -s 5.7 --remove-tmp-files 1 \n",
      "\n",
      "prefilter tmp/17627086310485486701/query /home/defense/shokor/mapping2/data/databases/uniprot/swissprot tmp/17627086310485486701/search_tmp/14333966477171700104/pref_0 --sub-mat nucl:nucleotide.out,aa:blosum62.out --seed-sub-mat nucl:nucleotide.out,aa:VTML80.out -k 0 --k-score 2147483647 --alph-size nucl:5,aa:21 --max-seq-len 65535 --max-seqs 300 --split 0 --split-mode 2 --split-memory-limit 0 -c 0 --cov-mode 0 --comp-bias-corr 1 --diag-score 1 --exact-kmer-matching 0 --mask 1 --mask-lower-case 0 --min-ungapped-score 15 --add-self-matches 0 --spaced-kmer-mode 1 --db-load-mode 0 --pca 1 --pcb 1.5 --threads 40 --compressed 0 -v 3 -s 5.7 \n",
      "\n",
      "Query database size: 50000 type: Aminoacid\n",
      "Estimated memory consumption: 3G\n",
      "Target database size: 565928 type: Aminoacid\n",
      "Index table k-mer threshold: 112 at k-mer size 6 \n",
      "Index table: counting k-mers\n",
      "[=================================================================] 100.00% 565.93K 2s 349ms    \n",
      "Index table: Masked residues: 3195746\n",
      "Index table: fill\n",
      "[=================================================================] 100.00% 565.93K 2s 431ms    \n",
      "Index statistics\n",
      "Entries:          194249581\n",
      "DB size:          1599 MB\n",
      "Avg k-mer size:   3.035150\n",
      "Top 10 k-mers\n",
      "    GPGGTL\t1839\n",
      "    GQSWTV\t1705\n",
      "    WGMFAT\t1637\n",
      "    PGVFEV\t1634\n",
      "    VLWQFW\t1622\n",
      "    AYIRPN\t1586\n",
      "    RSPKGV\t1584\n",
      "    TPHKWY\t1559\n",
      "    HIRVGW\t1547\n",
      "    ITLSPY\t1540\n",
      "Time for index table init: 0h 0m 5s 491ms\n",
      "Process prefiltering step 1 of 1\n",
      "\n",
      "k-mer similarity threshold: 112\n",
      "Starting prefiltering scores calculation (step 1 of 1)\n",
      "Query db start 1 to 50000\n",
      "Target db start 1 to 565928\n",
      "[=================================================================] 100.00% 50.00K 21s 807ms    \n",
      "\n",
      "325.393792 k-mers per position\n",
      "227863 DB matches per sequence\n",
      "0 overflows\n",
      "0 queries produce too many hits (truncated result)\n",
      "300 sequences passed prefiltering per query sequence\n",
      "300 median result list length\n",
      "0 sequences with 0 size result lists\n",
      "Time for merging to pref_0: 0h 0m 0s 13ms\n",
      "Time for processing: 0h 0m 28s 3ms\n",
      "align tmp/17627086310485486701/query /home/defense/shokor/mapping2/data/databases/uniprot/swissprot tmp/17627086310485486701/search_tmp/14333966477171700104/pref_0 tmp/17627086310485486701/result --sub-mat nucl:nucleotide.out,aa:blosum62.out -a 0 --alignment-mode 3 --alignment-output-mode 0 --wrapped-scoring 0 -e 0.001 --min-seq-id 0 --min-aln-len 0 --seq-id-mode 0 --alt-ali 0 -c 0 --cov-mode 0 --max-seq-len 65535 --comp-bias-corr 1 --max-rejected 2147483647 --max-accept 2147483647 --add-self-matches 0 --db-load-mode 0 --pca 1 --pcb 1.5 --score-bias 0 --realign 0 --realign-score-bias -0.2 --realign-max-seqs 2147483647 --gap-open nucl:5,aa:11 --gap-extend nucl:2,aa:1 --zdrop 40 --threads 40 --compressed 0 -v 3 \n",
      "\n",
      "Compute score, coverage and sequence identity\n",
      "Query database size: 50000 type: Aminoacid\n",
      "Target database size: 565928 type: Aminoacid\n",
      "Calculation of alignments\n",
      "[=================================================================] 100.00% 50.00K 27s 470ms    \n",
      "Time for merging to result: 0h 0m 0s 18ms\n",
      "15000000 alignments calculated\n",
      "5 sequence pairs passed the thresholds (0.000000 of overall calculated)\n",
      "0.000100 hits per query sequence\n",
      "Time for processing: 0h 0m 27s 713ms\n",
      "rmdb tmp/17627086310485486701/search_tmp/14333966477171700104/pref_0 -v 3 \n",
      "\n",
      "Time for processing: 0h 0m 0s 44ms\n",
      "rmdb tmp/17627086310485486701/search_tmp/14333966477171700104/aln_0 -v 3 \n",
      "\n",
      "Time for processing: 0h 0m 0s 0ms\n",
      "rmdb tmp/17627086310485486701/search_tmp/14333966477171700104/input_0 -v 3 \n",
      "\n",
      "Time for processing: 0h 0m 0s 0ms\n",
      "rmdb tmp/17627086310485486701/search_tmp/14333966477171700104/aln_merge -v 3 \n",
      "\n",
      "Time for processing: 0h 0m 0s 0ms\n",
      "convertalis tmp/17627086310485486701/query /home/defense/shokor/mapping2/data/databases/uniprot/swissprot tmp/17627086310485486701/result /home/defense/shokor/mapping2/data/alignement/expected_search.m8 --sub-mat nucl:nucleotide.out,aa:blosum62.out --format-mode 0 --format-output query,target,fident,alnlen,mismatch,gapopen,qstart,qend,tstart,tend,evalue,bits --translation-table 1 --gap-open nucl:5,aa:11 --gap-extend nucl:2,aa:1 --db-output 0 --db-load-mode 0 --search-type 0 --threads 40 --compressed 0 -v 3 \n",
      "\n",
      "[=================================================================] 100.00% 50.00K 0s 81ms     \n",
      "Time for merging to expected_search.m8: 0h 0m 0s 18ms\n",
      "Time for processing: 0h 0m 0s 315ms\n",
      "rmdb tmp/17627086310485486701/result -v 3 \n",
      "\n",
      "Time for processing: 0h 0m 0s 0ms\n",
      "rmdb tmp/17627086310485486701/query -v 3 \n",
      "\n",
      "Time for processing: 0h 0m 0s 4ms\n",
      "rmdb tmp/17627086310485486701/query_h -v 3 \n",
      "\n",
      "Time for processing: 0h 0m 0s 0ms\n"
     ]
    }
   ],
   "source": [
    "# Expected sequences\n",
    "!mmseqs easy-search /home/defense/shokor/mapping2/data/expected_seq.fasta /home/defense/shokor/mapping2/data/databases/uniprot/swissprot /home/defense/shokor/mapping2/data/alignement/expected_search.m8 tmp"
   ]
  },
  {
   "cell_type": "code",
   "execution_count": 61,
   "metadata": {},
   "outputs": [
    {
     "name": "stdout",
     "output_type": "stream",
     "text": [
      "expected_seq33114\n",
      "expected_seq16872\n",
      "expected_seq38982\n",
      "expected_seq38982\n",
      "expected_seq42840\n"
     ]
    }
   ],
   "source": [
    "# print first column of search file\n",
    "!cat /home/defense/shokor/mapping2/data/alignement/expected_search.m8 | sed 's/|/ /' | awk '{print $1}'"
   ]
  },
  {
   "cell_type": "markdown",
   "metadata": {},
   "source": [
    "These sequences will be removed "
   ]
  },
  {
   "cell_type": "markdown",
   "metadata": {
    "id": "m_3ixlZJUHsx"
   },
   "source": [
    "## Choose the sequences with 30% identity "
   ]
  },
  {
   "cell_type": "code",
   "execution_count": 64,
   "metadata": {
    "id": "wEJI1b9TTLQd"
   },
   "outputs": [],
   "source": [
    "!mkdir /home/defense/shokor/mapping2/data/id_30"
   ]
  },
  {
   "cell_type": "markdown",
   "metadata": {
    "id": "XDBvCSG8UWPS",
    "tags": []
   },
   "source": [
    "### Random sequences "
   ]
  },
  {
   "cell_type": "code",
   "execution_count": 65,
   "metadata": {
    "collapsed": true,
    "id": "CJjrQh-ZUV5w",
    "jupyter": {
     "outputs_hidden": true
    },
    "tags": []
   },
   "outputs": [
    {
     "name": "stdout",
     "output_type": "stream",
     "text": [
      "easy-linclust /home/defense/shokor/mapping2/data/random_seq.fasta /home/defense/shokor/mapping2/data/id_30/randclust tmp --cov-mode 1 --min-seq-id 0.3 \n",
      "\n",
      "MMseqs Version:                     \t13.45111\n",
      "Cluster mode                        \t0\n",
      "Max connected component depth       \t1000\n",
      "Similarity type                     \t2\n",
      "Threads                             \t40\n",
      "Compressed                          \t0\n",
      "Verbosity                           \t3\n",
      "Substitution matrix                 \tnucl:nucleotide.out,aa:blosum62.out\n",
      "Add backtrace                       \tfalse\n",
      "Alignment mode                      \t0\n",
      "Alignment mode                      \t0\n",
      "Allow wrapped scoring               \tfalse\n",
      "E-value threshold                   \t0.001\n",
      "Seq. id. threshold                  \t0.3\n",
      "Min alignment length                \t0\n",
      "Seq. id. mode                       \t0\n",
      "Alternative alignments              \t0\n",
      "Coverage threshold                  \t0.8\n",
      "Coverage mode                       \t1\n",
      "Max sequence length                 \t65535\n",
      "Compositional bias                  \t1\n",
      "Max reject                          \t2147483647\n",
      "Max accept                          \t2147483647\n",
      "Include identical seq. id.          \tfalse\n",
      "Preload mode                        \t0\n",
      "Pseudo count a                      \t1\n",
      "Pseudo count b                      \t1.5\n",
      "Score bias                          \t0\n",
      "Realign hits                        \tfalse\n",
      "Realign score bias                  \t-0.2\n",
      "Realign max seqs                    \t2147483647\n",
      "Gap open cost                       \tnucl:5,aa:11\n",
      "Gap extension cost                  \tnucl:2,aa:1\n",
      "Zdrop                               \t40\n",
      "Alphabet size                       \tnucl:5,aa:21\n",
      "k-mers per sequence                 \t21\n",
      "Spaced k-mers                       \t0\n",
      "Spaced k-mer pattern                \t\n",
      "Scale k-mers per sequence           \tnucl:0.200,aa:0.000\n",
      "Adjust k-mer length                 \tfalse\n",
      "Mask residues                       \t1\n",
      "Mask lower case residues            \t0\n",
      "k-mer length                        \t0\n",
      "Shift hash                          \t67\n",
      "Split memory limit                  \t0\n",
      "Include only extendable             \tfalse\n",
      "Skip repeating k-mers               \tfalse\n",
      "Rescore mode                        \t0\n",
      "Remove hits by seq. id. and coverage\tfalse\n",
      "Sort results                        \t0\n",
      "Remove temporary files              \ttrue\n",
      "Force restart with latest tmp       \tfalse\n",
      "MPI runner                          \t\n",
      "Database type                       \t0\n",
      "Shuffle input database              \ttrue\n",
      "Createdb mode                       \t1\n",
      "Write lookup file                   \t0\n",
      "Offset of numeric ids               \t0\n",
      "\n",
      "rmdb tmp/3925702609610375362/input -v 3 \n",
      "\n",
      "Time for processing: 0h 0m 0s 0ms\n",
      "rmdb tmp/3925702609610375362/input_h -v 3 \n",
      "\n",
      "Time for processing: 0h 0m 0s 14ms\n",
      "rmdb tmp/3925702609610375362/clu_seqs -v 3 \n",
      "\n",
      "Time for processing: 0h 0m 0s 15ms\n",
      "rmdb tmp/3925702609610375362/clu_rep -v 3 \n",
      "\n",
      "Time for processing: 0h 0m 0s 4ms\n",
      "rmdb tmp/3925702609610375362/clu -v 3 \n",
      "\n",
      "Time for processing: 0h 0m 0s 1ms\n"
     ]
    }
   ],
   "source": [
    "!mmseqs easy-linclust /home/defense/shokor/mapping2/data/random_seq.fasta /home/defense/shokor/mapping2/data/id_30/randclust tmp --cov-mode 1 --min-seq-id 0.3"
   ]
  },
  {
   "cell_type": "markdown",
   "metadata": {},
   "source": [
    "### Expected sequences"
   ]
  },
  {
   "cell_type": "code",
   "execution_count": 68,
   "metadata": {
    "collapsed": true,
    "jupyter": {
     "outputs_hidden": true
    },
    "tags": []
   },
   "outputs": [
    {
     "name": "stdout",
     "output_type": "stream",
     "text": [
      "easy-linclust /home/defense/shokor/mapping2/data/expected_seq.fasta /home/defense/shokor/mapping2/data/id_30/expclust tmp --cov-mode 1 --min-seq-id 0.3 \n",
      "\n",
      "MMseqs Version:                     \t13.45111\n",
      "Cluster mode                        \t0\n",
      "Max connected component depth       \t1000\n",
      "Similarity type                     \t2\n",
      "Threads                             \t40\n",
      "Compressed                          \t0\n",
      "Verbosity                           \t3\n",
      "Substitution matrix                 \tnucl:nucleotide.out,aa:blosum62.out\n",
      "Add backtrace                       \tfalse\n",
      "Alignment mode                      \t0\n",
      "Alignment mode                      \t0\n",
      "Allow wrapped scoring               \tfalse\n",
      "E-value threshold                   \t0.001\n",
      "Seq. id. threshold                  \t0.3\n",
      "Min alignment length                \t0\n",
      "Seq. id. mode                       \t0\n",
      "Alternative alignments              \t0\n",
      "Coverage threshold                  \t0.8\n",
      "Coverage mode                       \t1\n",
      "Max sequence length                 \t65535\n",
      "Compositional bias                  \t1\n",
      "Max reject                          \t2147483647\n",
      "Max accept                          \t2147483647\n",
      "Include identical seq. id.          \tfalse\n",
      "Preload mode                        \t0\n",
      "Pseudo count a                      \t1\n",
      "Pseudo count b                      \t1.5\n",
      "Score bias                          \t0\n",
      "Realign hits                        \tfalse\n",
      "Realign score bias                  \t-0.2\n",
      "Realign max seqs                    \t2147483647\n",
      "Gap open cost                       \tnucl:5,aa:11\n",
      "Gap extension cost                  \tnucl:2,aa:1\n",
      "Zdrop                               \t40\n",
      "Alphabet size                       \tnucl:5,aa:21\n",
      "k-mers per sequence                 \t21\n",
      "Spaced k-mers                       \t0\n",
      "Spaced k-mer pattern                \t\n",
      "Scale k-mers per sequence           \tnucl:0.200,aa:0.000\n",
      "Adjust k-mer length                 \tfalse\n",
      "Mask residues                       \t1\n",
      "Mask lower case residues            \t0\n",
      "k-mer length                        \t0\n",
      "Shift hash                          \t67\n",
      "Split memory limit                  \t0\n",
      "Include only extendable             \tfalse\n",
      "Skip repeating k-mers               \tfalse\n",
      "Rescore mode                        \t0\n",
      "Remove hits by seq. id. and coverage\tfalse\n",
      "Sort results                        \t0\n",
      "Remove temporary files              \ttrue\n",
      "Force restart with latest tmp       \tfalse\n",
      "MPI runner                          \t\n",
      "Database type                       \t0\n",
      "Shuffle input database              \ttrue\n",
      "Createdb mode                       \t1\n",
      "Write lookup file                   \t0\n",
      "Offset of numeric ids               \t0\n",
      "\n",
      "createdb /home/defense/shokor/mapping2/data/expected_seq.fasta tmp/17597723160632962289/input --dbtype 0 --shuffle 1 --createdb-mode 1 --write-lookup 0 --id-offset 0 --compressed 0 -v 3 \n",
      "\n",
      "\u001b[33mShuffle database cannot be combined with --createdb-mode 0\n",
      "\u001b[39m\u001b[33mWe recompute with --shuffle 0\n",
      "\u001b[39mConverting sequences\n",
      "[49996] 0s 36ms\n",
      "Time for merging to input_h: 0h 0m 0s 0ms\n",
      "Time for merging to input: 0h 0m 0s 0ms\n",
      "Database type: Aminoacid\n",
      "Time for processing: 0h 0m 0s 37ms\n",
      "Create directory tmp/17597723160632962289/clu_tmp\n",
      "linclust tmp/17597723160632962289/input tmp/17597723160632962289/clu tmp/17597723160632962289/clu_tmp -e 0.001 --min-seq-id 0.3 -c 0.8 --cov-mode 1 --spaced-kmer-mode 0 --remove-tmp-files 1 \n",
      "\n",
      "Set cluster mode GREEDY MEM.\n",
      "kmermatcher tmp/17597723160632962289/input tmp/17597723160632962289/clu_tmp/7134335026403706368/pref --sub-mat nucl:nucleotide.out,aa:blosum62.out --alph-size nucl:5,aa:13 --min-seq-id 0.3 --kmer-per-seq 21 --spaced-kmer-mode 0 --kmer-per-seq-scale nucl:0.200,aa:0.000 --adjust-kmer-len 0 --mask 0 --mask-lower-case 0 --cov-mode 1 -k 0 -c 0.8 --max-seq-len 65535 --hash-shift 67 --split-memory-limit 0 --include-only-extendable 0 --ignore-multi-kmer 0 --threads 40 --compressed 0 -v 3 \n",
      "\n",
      "kmermatcher tmp/17597723160632962289/input tmp/17597723160632962289/clu_tmp/7134335026403706368/pref --sub-mat nucl:nucleotide.out,aa:blosum62.out --alph-size nucl:5,aa:13 --min-seq-id 0.3 --kmer-per-seq 21 --spaced-kmer-mode 0 --kmer-per-seq-scale nucl:0.200,aa:0.000 --adjust-kmer-len 0 --mask 0 --mask-lower-case 0 --cov-mode 1 -k 0 -c 0.8 --max-seq-len 65535 --hash-shift 67 --split-memory-limit 0 --include-only-extendable 0 --ignore-multi-kmer 0 --threads 40 --compressed 0 -v 3 \n",
      "\n",
      "Database size: 50000 type: Aminoacid\n",
      "Reduced amino acid alphabet: (A S T) (C) (D B N) (E Q Z) (F Y) (G) (H) (I V) (K R) (L J M) (P) (W) (X) \n",
      "\n",
      "Generate k-mers list for 1 split\n",
      "[=================================================================] 100.00% 50.00K 0s 75ms     \n",
      "Sort kmer 0h 0m 0s 29ms\n",
      "Sort by rep. sequence 0h 0m 0s 0ms\n",
      "Time for fill: 0h 0m 0s 0ms\n",
      "Time for merging to pref: 0h 0m 0s 0ms\n",
      "Time for processing: 0h 0m 0s 184ms\n",
      "rescorediagonal tmp/17597723160632962289/input tmp/17597723160632962289/input tmp/17597723160632962289/clu_tmp/7134335026403706368/pref tmp/17597723160632962289/clu_tmp/7134335026403706368/pref_rescore1 --sub-mat nucl:nucleotide.out,aa:blosum62.out --rescore-mode 0 --wrapped-scoring 0 --filter-hits 0 -e 0.001 -c 0.8 -a 0 --cov-mode 1 --min-seq-id 0.5 --min-aln-len 0 --seq-id-mode 0 --add-self-matches 0 --sort-results 0 --db-load-mode 0 --threads 40 --compressed 0 -v 3 \n",
      "\n",
      "[=================================================================] 100.00% 50.00K 0s 74ms     \n",
      "Time for merging to pref_rescore1: 0h 0m 0s 17ms=================>] 99.09% 49.54K eta 0s       \n",
      "Time for processing: 0h 0m 0s 237ms\n",
      "clust tmp/17597723160632962289/input tmp/17597723160632962289/clu_tmp/7134335026403706368/pref_rescore1 tmp/17597723160632962289/clu_tmp/7134335026403706368/pre_clust --cluster-mode 3 --max-iterations 1000 --similarity-type 2 --threads 40 --compressed 0 -v 3 \n",
      "\n",
      "Clustering mode: Greedy Low Mem\n",
      "Total time: 0h 0m 0s 13ms\n",
      "\n",
      "Size of the sequence database: 50000\n",
      "Size of the alignment database: 50000\n",
      "Number of clusters: 50000\n",
      "\n",
      "Writing results 0h 0m 0s 9ms\n",
      "Time for merging to pre_clust: 0h 0m 0s 0ms\n",
      "Time for processing: 0h 0m 0s 61ms\n",
      "createsubdb tmp/17597723160632962289/clu_tmp/7134335026403706368/order_redundancy tmp/17597723160632962289/input tmp/17597723160632962289/clu_tmp/7134335026403706368/input_step_redundancy -v 3 --subdb-mode 1 \n",
      "\n",
      "Time for merging to input_step_redundancy: 0h 0m 0s 0ms\n",
      "Time for processing: 0h 0m 0s 16ms\n",
      "createsubdb tmp/17597723160632962289/clu_tmp/7134335026403706368/order_redundancy tmp/17597723160632962289/clu_tmp/7134335026403706368/pref tmp/17597723160632962289/clu_tmp/7134335026403706368/pref_filter1 -v 3 --subdb-mode 1 \n",
      "\n",
      "Time for merging to pref_filter1: 0h 0m 0s 0ms\n",
      "Time for processing: 0h 0m 0s 22ms\n",
      "filterdb tmp/17597723160632962289/clu_tmp/7134335026403706368/pref_filter1 tmp/17597723160632962289/clu_tmp/7134335026403706368/pref_filter2 --filter-file tmp/17597723160632962289/clu_tmp/7134335026403706368/order_redundancy --threads 40 --compressed 0 -v 3 \n",
      "\n",
      "Filtering using file(s)\n",
      "[=================================================================] 100.00% 50.00K 0s 88ms     \n",
      "Time for merging to pref_filter2: 0h 0m 0s 16ms\n",
      "Time for processing: 0h 0m 0s 205ms\n",
      "rescorediagonal tmp/17597723160632962289/clu_tmp/7134335026403706368/input_step_redundancy tmp/17597723160632962289/clu_tmp/7134335026403706368/input_step_redundancy tmp/17597723160632962289/clu_tmp/7134335026403706368/pref_filter2 tmp/17597723160632962289/clu_tmp/7134335026403706368/pref_rescore2 --sub-mat nucl:nucleotide.out,aa:blosum62.out --rescore-mode 1 --wrapped-scoring 0 --filter-hits 1 -e 0.001 -c 0.8 -a 0 --cov-mode 1 --min-seq-id 0.3 --min-aln-len 0 --seq-id-mode 0 --add-self-matches 0 --sort-results 0 --db-load-mode 0 --threads 40 --compressed 0 -v 3 \n",
      "\n",
      "[=================================================================] 100.00% 50.00K 0s 100ms    \n",
      "Time for merging to pref_rescore2: 0h 0m 0s 23ms=================>] 99.28% 49.64K eta 0s       \n",
      "Time for processing: 0h 0m 0s 220ms\n",
      "align tmp/17597723160632962289/clu_tmp/7134335026403706368/input_step_redundancy tmp/17597723160632962289/clu_tmp/7134335026403706368/input_step_redundancy tmp/17597723160632962289/clu_tmp/7134335026403706368/pref_rescore2 tmp/17597723160632962289/clu_tmp/7134335026403706368/aln --sub-mat nucl:nucleotide.out,aa:blosum62.out -a 0 --alignment-mode 2 --alignment-output-mode 0 --wrapped-scoring 0 -e 0.001 --min-seq-id 0.3 --min-aln-len 0 --seq-id-mode 0 --alt-ali 0 -c 0.8 --cov-mode 1 --max-seq-len 65535 --comp-bias-corr 1 --max-rejected 2147483647 --max-accept 2147483647 --add-self-matches 0 --db-load-mode 0 --pca 1 --pcb 1.5 --score-bias 0 --realign 0 --realign-score-bias -0.2 --realign-max-seqs 2147483647 --gap-open nucl:5,aa:11 --gap-extend nucl:2,aa:1 --zdrop 40 --threads 40 --compressed 0 -v 3 \n",
      "\n",
      "Compute score and coverage\n",
      "Query database size: 50000 type: Aminoacid\n",
      "Target database size: 50000 type: Aminoacid\n",
      "Calculation of alignments\n",
      "[=================================================================] 100.00% 50.00K 0s 128ms    \n",
      "Time for merging to aln: 0h 0m 0s 17ms\n",
      "51316 alignments calculated\n",
      "50000 sequence pairs passed the thresholds (0.974355 of overall calculated)\n",
      "1.000000 hits per query sequence\n",
      "Time for processing: 0h 0m 0s 269ms\n",
      "clust tmp/17597723160632962289/clu_tmp/7134335026403706368/input_step_redundancy tmp/17597723160632962289/clu_tmp/7134335026403706368/aln tmp/17597723160632962289/clu_tmp/7134335026403706368/clust --cluster-mode 3 --max-iterations 1000 --similarity-type 2 --threads 40 --compressed 0 -v 3 \n",
      "\n",
      "Clustering mode: Greedy Low Mem\n",
      "Total time: 0h 0m 0s 28ms\n",
      "\n",
      "Size of the sequence database: 50000\n",
      "Size of the alignment database: 50000\n",
      "Number of clusters: 50000\n",
      "\n",
      "Writing results 0h 0m 0s 9ms\n",
      "Time for merging to clust: 0h 0m 0s 0ms\n",
      "Time for processing: 0h 0m 0s 85ms\n",
      "mergeclusters tmp/17597723160632962289/input tmp/17597723160632962289/clu tmp/17597723160632962289/clu_tmp/7134335026403706368/pre_clust tmp/17597723160632962289/clu_tmp/7134335026403706368/clust --threads 40 --compressed 0 -v 3 \n",
      "\n",
      "Clustering step 1\n",
      "[=================================================================] 100.00% 50.00K 0s 65ms       ] 26.90% 13.45K eta 0s       \n",
      "Clustering step 2\n",
      "[=================================================================] 100.00% 50.00K 0s 125ms    \n",
      "Write merged clustering\n",
      "[=================================================================] 100.00% 50.00K 0s 228ms    \n",
      "Time for merging to clu: 0h 0m 0s 21ms\n",
      "Time for processing: 0h 0m 0s 260ms\n",
      "rmdb tmp/17597723160632962289/clu_tmp/7134335026403706368/pref_filter1 -v 3 \n",
      "\n",
      "Time for processing: 0h 0m 0s 0ms\n",
      "rmdb tmp/17597723160632962289/clu_tmp/7134335026403706368/pref -v 3 \n",
      "\n",
      "Time for processing: 0h 0m 0s 0ms\n",
      "rmdb tmp/17597723160632962289/clu_tmp/7134335026403706368/pref_rescore1 -v 3 \n",
      "\n",
      "Time for processing: 0h 0m 0s 1ms\n",
      "rmdb tmp/17597723160632962289/clu_tmp/7134335026403706368/pre_clust -v 3 \n",
      "\n",
      "Time for processing: 0h 0m 0s 0ms\n",
      "rmdb tmp/17597723160632962289/clu_tmp/7134335026403706368/input_step_redundancy -v 3 \n",
      "\n",
      "Time for processing: 0h 0m 0s 0ms\n",
      "rmdb tmp/17597723160632962289/clu_tmp/7134335026403706368/input_step_redundancy_h -v 3 \n",
      "\n",
      "Time for processing: 0h 0m 0s 0ms\n",
      "rmdb tmp/17597723160632962289/clu_tmp/7134335026403706368/pref_filter2 -v 3 \n",
      "\n",
      "Time for processing: 0h 0m 0s 1ms\n",
      "rmdb tmp/17597723160632962289/clu_tmp/7134335026403706368/pref_rescore2 -v 3 \n",
      "\n",
      "Time for processing: 0h 0m 0s 1ms\n",
      "rmdb tmp/17597723160632962289/clu_tmp/7134335026403706368/aln -v 3 \n",
      "\n",
      "Time for processing: 0h 0m 0s 2ms\n",
      "rmdb tmp/17597723160632962289/clu_tmp/7134335026403706368/clust -v 3 \n",
      "\n",
      "Time for processing: 0h 0m 0s 0ms\n",
      "createtsv tmp/17597723160632962289/input tmp/17597723160632962289/input tmp/17597723160632962289/clu tmp/17597723160632962289/cluster.tsv --threads 40 -v 3 \n",
      "\n",
      "Time for merging to cluster.tsv: 0h 0m 0s 20ms\n",
      "Time for processing: 0h 0m 0s 113ms\n",
      "result2repseq tmp/17597723160632962289/input tmp/17597723160632962289/clu tmp/17597723160632962289/clu_rep --db-load-mode 0 --compressed 0 --threads 40 -v 3 \n",
      "\n",
      "[=====================>                                           ] 33.49% 16.75K eta 0s       \r"
     ]
    },
    {
     "name": "stderr",
     "output_type": "stream",
     "text": [
      "IOPub data rate exceeded.\n",
      "The Jupyter server will temporarily stop sending output\n",
      "to the client in order to avoid crashing it.\n",
      "To change this limit, set the config variable\n",
      "`--ServerApp.iopub_data_rate_limit`.\n",
      "\n",
      "Current values:\n",
      "ServerApp.iopub_data_rate_limit=1000000.0 (bytes/sec)\n",
      "ServerApp.rate_limit_window=3.0 (secs)\n",
      "\n"
     ]
    }
   ],
   "source": [
    "!mmseqs easy-linclust /home/defense/shokor/mapping2/data/expected_seq.fasta /home/defense/shokor/mapping2/data/id_30/expclust tmp --cov-mode 1 --min-seq-id 0.3"
   ]
  },
  {
   "cell_type": "code",
   "execution_count": null,
   "metadata": {},
   "outputs": [],
   "source": []
  }
 ],
 "metadata": {
  "colab": {
   "collapsed_sections": [],
   "name": "Data_generation",
   "provenance": []
  },
  "kernelspec": {
   "display_name": "Python 3 (ipykernel)",
   "language": "python",
   "name": "python3"
  },
  "language_info": {
   "codemirror_mode": {
    "name": "ipython",
    "version": 3
   },
   "file_extension": ".py",
   "mimetype": "text/x-python",
   "name": "python",
   "nbconvert_exporter": "python",
   "pygments_lexer": "ipython3",
   "version": "3.8.12"
  }
 },
 "nbformat": 4,
 "nbformat_minor": 4
}
