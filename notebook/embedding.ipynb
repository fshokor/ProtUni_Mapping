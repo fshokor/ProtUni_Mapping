{
 "cells": [
  {
   "cell_type": "markdown",
   "metadata": {
    "id": "we6iPcMGepor",
    "tags": []
   },
   "source": [
    "# Import Packages"
   ]
  },
  {
   "cell_type": "code",
   "execution_count": null,
   "metadata": {
    "id": "DY2XGrflep50"
   },
   "outputs": [],
   "source": [
    "import numpy as np\n",
    "import re\n",
    "import pandas as pd\n",
    "import os\n",
    "import glob"
   ]
  },
  {
   "cell_type": "markdown",
   "metadata": {
    "id": "qNc8yHD7ei26",
    "tags": []
   },
   "source": [
    "# Load Dataframe"
   ]
  },
  {
   "cell_type": "markdown",
   "metadata": {},
   "source": [
    "## Random sequences"
   ]
  },
  {
   "cell_type": "code",
   "execution_count": null,
   "metadata": {
    "id": "cuO7WZmQeXzN"
   },
   "outputs": [],
   "source": [
    "# load, delete first column and sort based on ID\n",
    "rand_df = pd.read_csv(\"/home/defense/shokor/mapping2/data/random.csv\").iloc[: , 1:]"
   ]
  },
  {
   "cell_type": "code",
   "execution_count": null,
   "metadata": {},
   "outputs": [
    {
     "data": {
      "text/html": [
       "<div>\n",
       "<style scoped>\n",
       "    .dataframe tbody tr th:only-of-type {\n",
       "        vertical-align: middle;\n",
       "    }\n",
       "\n",
       "    .dataframe tbody tr th {\n",
       "        vertical-align: top;\n",
       "    }\n",
       "\n",
       "    .dataframe thead th {\n",
       "        text-align: right;\n",
       "    }\n",
       "</style>\n",
       "<table border=\"1\" class=\"dataframe\">\n",
       "  <thead>\n",
       "    <tr style=\"text-align: right;\">\n",
       "      <th></th>\n",
       "      <th>ID</th>\n",
       "      <th>Gene</th>\n",
       "      <th>Sequence</th>\n",
       "      <th>Description</th>\n",
       "      <th>Organism</th>\n",
       "      <th>Types</th>\n",
       "    </tr>\n",
       "  </thead>\n",
       "  <tbody>\n",
       "    <tr>\n",
       "      <th>0</th>\n",
       "      <td>seq2901</td>\n",
       "      <td>None</td>\n",
       "      <td>P G I P M D Y L P A P T Y S P R N C P A H E S ...</td>\n",
       "      <td>None</td>\n",
       "      <td>None</td>\n",
       "      <td>Random</td>\n",
       "    </tr>\n",
       "    <tr>\n",
       "      <th>1</th>\n",
       "      <td>seq2902</td>\n",
       "      <td>None</td>\n",
       "      <td>V D N G Q V K S I C S Q V I M V L D N Q K R L ...</td>\n",
       "      <td>None</td>\n",
       "      <td>None</td>\n",
       "      <td>Random</td>\n",
       "    </tr>\n",
       "    <tr>\n",
       "      <th>2</th>\n",
       "      <td>seq2903</td>\n",
       "      <td>None</td>\n",
       "      <td>F P I G F R T Y S I M Y T Y T S I R H G C R I ...</td>\n",
       "      <td>None</td>\n",
       "      <td>None</td>\n",
       "      <td>Random</td>\n",
       "    </tr>\n",
       "    <tr>\n",
       "      <th>3</th>\n",
       "      <td>seq2904</td>\n",
       "      <td>None</td>\n",
       "      <td>A C E E Q S T W L D E L K F I S C V F F N P I ...</td>\n",
       "      <td>None</td>\n",
       "      <td>None</td>\n",
       "      <td>Random</td>\n",
       "    </tr>\n",
       "    <tr>\n",
       "      <th>4</th>\n",
       "      <td>seq2905</td>\n",
       "      <td>None</td>\n",
       "      <td>Y D H M M I H E A I P A F K S C R R H H V A G ...</td>\n",
       "      <td>None</td>\n",
       "      <td>None</td>\n",
       "      <td>Random</td>\n",
       "    </tr>\n",
       "    <tr>\n",
       "      <th>...</th>\n",
       "      <td>...</td>\n",
       "      <td>...</td>\n",
       "      <td>...</td>\n",
       "      <td>...</td>\n",
       "      <td>...</td>\n",
       "      <td>...</td>\n",
       "    </tr>\n",
       "    <tr>\n",
       "      <th>49988</th>\n",
       "      <td>seq38996</td>\n",
       "      <td>None</td>\n",
       "      <td>V M N H Q Q Q P A I C I N D L T Q V V F R T D ...</td>\n",
       "      <td>None</td>\n",
       "      <td>None</td>\n",
       "      <td>Random</td>\n",
       "    </tr>\n",
       "    <tr>\n",
       "      <th>49989</th>\n",
       "      <td>seq38997</td>\n",
       "      <td>None</td>\n",
       "      <td>H C E N H I C G G L I S T G M A M P L Q D L Q ...</td>\n",
       "      <td>None</td>\n",
       "      <td>None</td>\n",
       "      <td>Random</td>\n",
       "    </tr>\n",
       "    <tr>\n",
       "      <th>49990</th>\n",
       "      <td>seq38998</td>\n",
       "      <td>None</td>\n",
       "      <td>G E S F H M D V G R H R H W S Y P L M H C P A ...</td>\n",
       "      <td>None</td>\n",
       "      <td>None</td>\n",
       "      <td>Random</td>\n",
       "    </tr>\n",
       "    <tr>\n",
       "      <th>49991</th>\n",
       "      <td>seq38999</td>\n",
       "      <td>None</td>\n",
       "      <td>N G L C Y L K Q C R L D H I M K K I P C W P R ...</td>\n",
       "      <td>None</td>\n",
       "      <td>None</td>\n",
       "      <td>Random</td>\n",
       "    </tr>\n",
       "    <tr>\n",
       "      <th>49992</th>\n",
       "      <td>seq39000</td>\n",
       "      <td>None</td>\n",
       "      <td>L W A K E K T L Q P H P H R A C I Q N V H Y R ...</td>\n",
       "      <td>None</td>\n",
       "      <td>None</td>\n",
       "      <td>Random</td>\n",
       "    </tr>\n",
       "  </tbody>\n",
       "</table>\n",
       "<p>49993 rows × 6 columns</p>\n",
       "</div>"
      ],
      "text/plain": [
       "             ID  Gene                                           Sequence  \\\n",
       "0       seq2901  None  P G I P M D Y L P A P T Y S P R N C P A H E S ...   \n",
       "1       seq2902  None  V D N G Q V K S I C S Q V I M V L D N Q K R L ...   \n",
       "2       seq2903  None  F P I G F R T Y S I M Y T Y T S I R H G C R I ...   \n",
       "3       seq2904  None  A C E E Q S T W L D E L K F I S C V F F N P I ...   \n",
       "4       seq2905  None  Y D H M M I H E A I P A F K S C R R H H V A G ...   \n",
       "...         ...   ...                                                ...   \n",
       "49988  seq38996  None  V M N H Q Q Q P A I C I N D L T Q V V F R T D ...   \n",
       "49989  seq38997  None  H C E N H I C G G L I S T G M A M P L Q D L Q ...   \n",
       "49990  seq38998  None  G E S F H M D V G R H R H W S Y P L M H C P A ...   \n",
       "49991  seq38999  None  N G L C Y L K Q C R L D H I M K K I P C W P R ...   \n",
       "49992  seq39000  None  L W A K E K T L Q P H P H R A C I Q N V H Y R ...   \n",
       "\n",
       "      Description Organism   Types  \n",
       "0            None     None  Random  \n",
       "1            None     None  Random  \n",
       "2            None     None  Random  \n",
       "3            None     None  Random  \n",
       "4            None     None  Random  \n",
       "...           ...      ...     ...  \n",
       "49988        None     None  Random  \n",
       "49989        None     None  Random  \n",
       "49990        None     None  Random  \n",
       "49991        None     None  Random  \n",
       "49992        None     None  Random  \n",
       "\n",
       "[49993 rows x 6 columns]"
      ]
     },
     "execution_count": 4,
     "metadata": {},
     "output_type": "execute_result"
    }
   ],
   "source": [
    "rand_df"
   ]
  },
  {
   "cell_type": "code",
   "execution_count": 6,
   "metadata": {},
   "outputs": [],
   "source": [
    "# rand_sequence_list = rand_df['Sequence'].to_list()"
   ]
  },
  {
   "cell_type": "code",
   "execution_count": 7,
   "metadata": {},
   "outputs": [],
   "source": [
    "## Check the max length = 511 (256 aa)\n",
    "# length = []\n",
    "# for s in rand_sequence_list:\n",
    "#     length.append(len(s))"
   ]
  },
  {
   "cell_type": "code",
   "execution_count": 8,
   "metadata": {},
   "outputs": [
    {
     "data": {
      "text/plain": [
       "511"
      ]
     },
     "execution_count": 8,
     "metadata": {},
     "output_type": "execute_result"
    }
   ],
   "source": [
    "# max(length)"
   ]
  },
  {
   "cell_type": "markdown",
   "metadata": {},
   "source": [
    "## Mutated sequences"
   ]
  },
  {
   "cell_type": "code",
   "execution_count": 4,
   "metadata": {},
   "outputs": [],
   "source": [
    "# load, delete first column and sort based on ID\n",
    "mut_df = pd.read_csv('/home/defense/shokor/mapping2/data/mutate.csv').iloc[: , 1:].sort_values(by=['ID'])"
   ]
  },
  {
   "cell_type": "code",
   "execution_count": 5,
   "metadata": {
    "tags": []
   },
   "outputs": [
    {
     "data": {
      "text/html": [
       "<div>\n",
       "<style scoped>\n",
       "    .dataframe tbody tr th:only-of-type {\n",
       "        vertical-align: middle;\n",
       "    }\n",
       "\n",
       "    .dataframe tbody tr th {\n",
       "        vertical-align: top;\n",
       "    }\n",
       "\n",
       "    .dataframe thead th {\n",
       "        text-align: right;\n",
       "    }\n",
       "</style>\n",
       "<table border=\"1\" class=\"dataframe\">\n",
       "  <thead>\n",
       "    <tr style=\"text-align: right;\">\n",
       "      <th></th>\n",
       "      <th>ID</th>\n",
       "      <th>Gene</th>\n",
       "      <th>Sequence</th>\n",
       "      <th>Description</th>\n",
       "      <th>Organism</th>\n",
       "      <th>Types</th>\n",
       "    </tr>\n",
       "  </thead>\n",
       "  <tbody>\n",
       "    <tr>\n",
       "      <th>111</th>\n",
       "      <td>A0A072TZL3 mutate_10</td>\n",
       "      <td>None</td>\n",
       "      <td>M S R T S T L L Y Y I M A F C S I I L I D G A ...</td>\n",
       "      <td>None</td>\n",
       "      <td>None</td>\n",
       "      <td>mutate_10</td>\n",
       "    </tr>\n",
       "    <tr>\n",
       "      <th>1157</th>\n",
       "      <td>A0A072TZL3 mutate_20</td>\n",
       "      <td>None</td>\n",
       "      <td>M S R T S I L L Y Y R T A F C N I I L I D G A ...</td>\n",
       "      <td>None</td>\n",
       "      <td>None</td>\n",
       "      <td>mutate_20</td>\n",
       "    </tr>\n",
       "    <tr>\n",
       "      <th>2203</th>\n",
       "      <td>A0A072TZL3 mutate_30</td>\n",
       "      <td>None</td>\n",
       "      <td>M S R T C T L L S A L V A F M E H I S M L G A ...</td>\n",
       "      <td>None</td>\n",
       "      <td>None</td>\n",
       "      <td>mutate_30</td>\n",
       "    </tr>\n",
       "    <tr>\n",
       "      <th>3249</th>\n",
       "      <td>A0A072TZL3 mutate_40</td>\n",
       "      <td>None</td>\n",
       "      <td>W S I T S T T L A Y L V K C C C G I L L P G A ...</td>\n",
       "      <td>None</td>\n",
       "      <td>None</td>\n",
       "      <td>mutate_40</td>\n",
       "    </tr>\n",
       "    <tr>\n",
       "      <th>4295</th>\n",
       "      <td>A0A072TZL3 mutate_50</td>\n",
       "      <td>None</td>\n",
       "      <td>K S R T I T L H Y Y L L A F C S A Y W S D G A ...</td>\n",
       "      <td>None</td>\n",
       "      <td>None</td>\n",
       "      <td>mutate_50</td>\n",
       "    </tr>\n",
       "    <tr>\n",
       "      <th>...</th>\n",
       "      <td>...</td>\n",
       "      <td>...</td>\n",
       "      <td>...</td>\n",
       "      <td>...</td>\n",
       "      <td>...</td>\n",
       "      <td>...</td>\n",
       "    </tr>\n",
       "    <tr>\n",
       "      <th>6411</th>\n",
       "      <td>U3FAE1 mutate_70</td>\n",
       "      <td>None</td>\n",
       "      <td>M W C W G L T L E V V M M V C L Q L G N N E W ...</td>\n",
       "      <td>None</td>\n",
       "      <td>None</td>\n",
       "      <td>mutate_70</td>\n",
       "    </tr>\n",
       "    <tr>\n",
       "      <th>7457</th>\n",
       "      <td>U3FAE1 mutate_80</td>\n",
       "      <td>None</td>\n",
       "      <td>F V T L V M H D V E M T H V C L D H H R W F H ...</td>\n",
       "      <td>None</td>\n",
       "      <td>None</td>\n",
       "      <td>mutate_80</td>\n",
       "    </tr>\n",
       "    <tr>\n",
       "      <th>8503</th>\n",
       "      <td>U3FAE1 mutate_90</td>\n",
       "      <td>None</td>\n",
       "      <td>K K H L L L F H N V W Y P V C F D L H N M E K ...</td>\n",
       "      <td>None</td>\n",
       "      <td>None</td>\n",
       "      <td>mutate_90</td>\n",
       "    </tr>\n",
       "    <tr>\n",
       "      <th>9549</th>\n",
       "      <td>U3FAE1 mutate_95</td>\n",
       "      <td>None</td>\n",
       "      <td>W P H Q K L T K V F Y I L V P L C L G N S F I ...</td>\n",
       "      <td>None</td>\n",
       "      <td>None</td>\n",
       "      <td>mutate_95</td>\n",
       "    </tr>\n",
       "    <tr>\n",
       "      <th>10595</th>\n",
       "      <td>U3FAE1 mutate_99</td>\n",
       "      <td>None</td>\n",
       "      <td>H K T G H L D I C M I E G P P L V D G W D L V ...</td>\n",
       "      <td>None</td>\n",
       "      <td>None</td>\n",
       "      <td>mutate_99</td>\n",
       "    </tr>\n",
       "  </tbody>\n",
       "</table>\n",
       "<p>11506 rows × 6 columns</p>\n",
       "</div>"
      ],
      "text/plain": [
       "                         ID  Gene  \\\n",
       "111    A0A072TZL3 mutate_10  None   \n",
       "1157   A0A072TZL3 mutate_20  None   \n",
       "2203   A0A072TZL3 mutate_30  None   \n",
       "3249   A0A072TZL3 mutate_40  None   \n",
       "4295   A0A072TZL3 mutate_50  None   \n",
       "...                     ...   ...   \n",
       "6411       U3FAE1 mutate_70  None   \n",
       "7457       U3FAE1 mutate_80  None   \n",
       "8503       U3FAE1 mutate_90  None   \n",
       "9549       U3FAE1 mutate_95  None   \n",
       "10595      U3FAE1 mutate_99  None   \n",
       "\n",
       "                                                Sequence Description Organism  \\\n",
       "111    M S R T S T L L Y Y I M A F C S I I L I D G A ...        None     None   \n",
       "1157   M S R T S I L L Y Y R T A F C N I I L I D G A ...        None     None   \n",
       "2203   M S R T C T L L S A L V A F M E H I S M L G A ...        None     None   \n",
       "3249   W S I T S T T L A Y L V K C C C G I L L P G A ...        None     None   \n",
       "4295   K S R T I T L H Y Y L L A F C S A Y W S D G A ...        None     None   \n",
       "...                                                  ...         ...      ...   \n",
       "6411   M W C W G L T L E V V M M V C L Q L G N N E W ...        None     None   \n",
       "7457   F V T L V M H D V E M T H V C L D H H R W F H ...        None     None   \n",
       "8503   K K H L L L F H N V W Y P V C F D L H N M E K ...        None     None   \n",
       "9549   W P H Q K L T K V F Y I L V P L C L G N S F I ...        None     None   \n",
       "10595  H K T G H L D I C M I E G P P L V D G W D L V ...        None     None   \n",
       "\n",
       "           Types  \n",
       "111    mutate_10  \n",
       "1157   mutate_20  \n",
       "2203   mutate_30  \n",
       "3249   mutate_40  \n",
       "4295   mutate_50  \n",
       "...          ...  \n",
       "6411   mutate_70  \n",
       "7457   mutate_80  \n",
       "8503   mutate_90  \n",
       "9549   mutate_95  \n",
       "10595  mutate_99  \n",
       "\n",
       "[11506 rows x 6 columns]"
      ]
     },
     "execution_count": 5,
     "metadata": {},
     "output_type": "execute_result"
    }
   ],
   "source": [
    "mut_df"
   ]
  },
  {
   "cell_type": "markdown",
   "metadata": {},
   "source": [
    "## Blosum62 Mutate sequence"
   ]
  },
  {
   "cell_type": "code",
   "execution_count": 6,
   "metadata": {},
   "outputs": [],
   "source": [
    "# load, delete first column and sort based on ID\n",
    "blos_df = pd.read_csv('/home/defense/shokor/mapping2/data/blosum_mutate.csv').iloc[: , 1:].sort_values(by=['ID'])"
   ]
  },
  {
   "cell_type": "code",
   "execution_count": 7,
   "metadata": {},
   "outputs": [
    {
     "data": {
      "text/html": [
       "<div>\n",
       "<style scoped>\n",
       "    .dataframe tbody tr th:only-of-type {\n",
       "        vertical-align: middle;\n",
       "    }\n",
       "\n",
       "    .dataframe tbody tr th {\n",
       "        vertical-align: top;\n",
       "    }\n",
       "\n",
       "    .dataframe thead th {\n",
       "        text-align: right;\n",
       "    }\n",
       "</style>\n",
       "<table border=\"1\" class=\"dataframe\">\n",
       "  <thead>\n",
       "    <tr style=\"text-align: right;\">\n",
       "      <th></th>\n",
       "      <th>ID</th>\n",
       "      <th>Gene</th>\n",
       "      <th>Sequence</th>\n",
       "      <th>Description</th>\n",
       "      <th>Organism</th>\n",
       "      <th>Types</th>\n",
       "    </tr>\n",
       "  </thead>\n",
       "  <tbody>\n",
       "    <tr>\n",
       "      <th>75</th>\n",
       "      <td>A0A0N7CSQ4 blosum_mutate_10</td>\n",
       "      <td>None</td>\n",
       "      <td>M L K S F C I L S V F M V L F L A K F P D L C ...</td>\n",
       "      <td>None</td>\n",
       "      <td>None</td>\n",
       "      <td>blosum_mutate_10</td>\n",
       "    </tr>\n",
       "    <tr>\n",
       "      <th>482</th>\n",
       "      <td>A0A0N7CSQ4 blosum_mutate_20</td>\n",
       "      <td>None</td>\n",
       "      <td>M L K S F C I L S V F M V L F L A K F P D L C ...</td>\n",
       "      <td>None</td>\n",
       "      <td>None</td>\n",
       "      <td>blosum_mutate_20</td>\n",
       "    </tr>\n",
       "    <tr>\n",
       "      <th>889</th>\n",
       "      <td>A0A0N7CSQ4 blosum_mutate_30</td>\n",
       "      <td>None</td>\n",
       "      <td>M L K S F C I I S V F M V L F L A K F P D L C ...</td>\n",
       "      <td>None</td>\n",
       "      <td>None</td>\n",
       "      <td>blosum_mutate_30</td>\n",
       "    </tr>\n",
       "    <tr>\n",
       "      <th>1296</th>\n",
       "      <td>A0A0N7CSQ4 blosum_mutate_40</td>\n",
       "      <td>None</td>\n",
       "      <td>M L K S F C I L S V F M V L F L A K F P D L C ...</td>\n",
       "      <td>None</td>\n",
       "      <td>None</td>\n",
       "      <td>blosum_mutate_40</td>\n",
       "    </tr>\n",
       "    <tr>\n",
       "      <th>1703</th>\n",
       "      <td>A0A0N7CSQ4 blosum_mutate_50</td>\n",
       "      <td>None</td>\n",
       "      <td>M L K S F C I L S V F M V L F L A K F P D L C ...</td>\n",
       "      <td>None</td>\n",
       "      <td>None</td>\n",
       "      <td>blosum_mutate_50</td>\n",
       "    </tr>\n",
       "    <tr>\n",
       "      <th>...</th>\n",
       "      <td>...</td>\n",
       "      <td>...</td>\n",
       "      <td>...</td>\n",
       "      <td>...</td>\n",
       "      <td>...</td>\n",
       "      <td>...</td>\n",
       "    </tr>\n",
       "    <tr>\n",
       "      <th>2803</th>\n",
       "      <td>U3FAE1 blosum_mutate_70</td>\n",
       "      <td>None</td>\n",
       "      <td>M K T L L L T L V V V T I V C L D L G N S L K ...</td>\n",
       "      <td>None</td>\n",
       "      <td>None</td>\n",
       "      <td>blosum_mutate_70</td>\n",
       "    </tr>\n",
       "    <tr>\n",
       "      <th>3210</th>\n",
       "      <td>U3FAE1 blosum_mutate_80</td>\n",
       "      <td>None</td>\n",
       "      <td>M K T L L L T L V V V T I V C L D L G N S L K ...</td>\n",
       "      <td>None</td>\n",
       "      <td>None</td>\n",
       "      <td>blosum_mutate_80</td>\n",
       "    </tr>\n",
       "    <tr>\n",
       "      <th>3617</th>\n",
       "      <td>U3FAE1 blosum_mutate_90</td>\n",
       "      <td>None</td>\n",
       "      <td>M K T L L L T L V I I T I V C L D L G N S L K ...</td>\n",
       "      <td>None</td>\n",
       "      <td>None</td>\n",
       "      <td>blosum_mutate_90</td>\n",
       "    </tr>\n",
       "    <tr>\n",
       "      <th>4024</th>\n",
       "      <td>U3FAE1 blosum_mutate_95</td>\n",
       "      <td>None</td>\n",
       "      <td>M K T L L L T L V V V T I V C L D L G N S L K ...</td>\n",
       "      <td>None</td>\n",
       "      <td>None</td>\n",
       "      <td>blosum_mutate_95</td>\n",
       "    </tr>\n",
       "    <tr>\n",
       "      <th>4431</th>\n",
       "      <td>U3FAE1 blosum_mutate_99</td>\n",
       "      <td>None</td>\n",
       "      <td>M K T L L L T L V V V T I V C L D L G N S L K ...</td>\n",
       "      <td>None</td>\n",
       "      <td>None</td>\n",
       "      <td>blosum_mutate_99</td>\n",
       "    </tr>\n",
       "  </tbody>\n",
       "</table>\n",
       "<p>4477 rows × 6 columns</p>\n",
       "</div>"
      ],
      "text/plain": [
       "                               ID  Gene  \\\n",
       "75    A0A0N7CSQ4 blosum_mutate_10  None   \n",
       "482   A0A0N7CSQ4 blosum_mutate_20  None   \n",
       "889   A0A0N7CSQ4 blosum_mutate_30  None   \n",
       "1296  A0A0N7CSQ4 blosum_mutate_40  None   \n",
       "1703  A0A0N7CSQ4 blosum_mutate_50  None   \n",
       "...                           ...   ...   \n",
       "2803      U3FAE1 blosum_mutate_70  None   \n",
       "3210      U3FAE1 blosum_mutate_80  None   \n",
       "3617      U3FAE1 blosum_mutate_90  None   \n",
       "4024      U3FAE1 blosum_mutate_95  None   \n",
       "4431      U3FAE1 blosum_mutate_99  None   \n",
       "\n",
       "                                               Sequence Description Organism  \\\n",
       "75    M L K S F C I L S V F M V L F L A K F P D L C ...        None     None   \n",
       "482   M L K S F C I L S V F M V L F L A K F P D L C ...        None     None   \n",
       "889   M L K S F C I I S V F M V L F L A K F P D L C ...        None     None   \n",
       "1296  M L K S F C I L S V F M V L F L A K F P D L C ...        None     None   \n",
       "1703  M L K S F C I L S V F M V L F L A K F P D L C ...        None     None   \n",
       "...                                                 ...         ...      ...   \n",
       "2803  M K T L L L T L V V V T I V C L D L G N S L K ...        None     None   \n",
       "3210  M K T L L L T L V V V T I V C L D L G N S L K ...        None     None   \n",
       "3617  M K T L L L T L V I I T I V C L D L G N S L K ...        None     None   \n",
       "4024  M K T L L L T L V V V T I V C L D L G N S L K ...        None     None   \n",
       "4431  M K T L L L T L V V V T I V C L D L G N S L K ...        None     None   \n",
       "\n",
       "                 Types  \n",
       "75    blosum_mutate_10  \n",
       "482   blosum_mutate_20  \n",
       "889   blosum_mutate_30  \n",
       "1296  blosum_mutate_40  \n",
       "1703  blosum_mutate_50  \n",
       "...                ...  \n",
       "2803  blosum_mutate_70  \n",
       "3210  blosum_mutate_80  \n",
       "3617  blosum_mutate_90  \n",
       "4024  blosum_mutate_95  \n",
       "4431  blosum_mutate_99  \n",
       "\n",
       "[4477 rows x 6 columns]"
      ]
     },
     "execution_count": 7,
     "metadata": {},
     "output_type": "execute_result"
    }
   ],
   "source": [
    "blos_df"
   ]
  },
  {
   "cell_type": "markdown",
   "metadata": {},
   "source": [
    "## Expected sequences"
   ]
  },
  {
   "cell_type": "code",
   "execution_count": 8,
   "metadata": {},
   "outputs": [],
   "source": [
    "# load and delete first column\n",
    "exp_df = pd.read_csv('/home/defense/shokor/mapping2/data/expected.csv').iloc[: , 1:]"
   ]
  },
  {
   "cell_type": "code",
   "execution_count": 9,
   "metadata": {
    "tags": []
   },
   "outputs": [
    {
     "data": {
      "text/html": [
       "<div>\n",
       "<style scoped>\n",
       "    .dataframe tbody tr th:only-of-type {\n",
       "        vertical-align: middle;\n",
       "    }\n",
       "\n",
       "    .dataframe tbody tr th {\n",
       "        vertical-align: top;\n",
       "    }\n",
       "\n",
       "    .dataframe thead th {\n",
       "        text-align: right;\n",
       "    }\n",
       "</style>\n",
       "<table border=\"1\" class=\"dataframe\">\n",
       "  <thead>\n",
       "    <tr style=\"text-align: right;\">\n",
       "      <th></th>\n",
       "      <th>ID</th>\n",
       "      <th>Gene</th>\n",
       "      <th>Sequence</th>\n",
       "      <th>Description</th>\n",
       "      <th>Organism</th>\n",
       "      <th>Types</th>\n",
       "    </tr>\n",
       "  </thead>\n",
       "  <tbody>\n",
       "    <tr>\n",
       "      <th>0</th>\n",
       "      <td>expected_seq1</td>\n",
       "      <td>None</td>\n",
       "      <td>V V H V D L R Y Q R W S F R F L Y S E R P N V ...</td>\n",
       "      <td>None</td>\n",
       "      <td>None</td>\n",
       "      <td>Expected</td>\n",
       "    </tr>\n",
       "    <tr>\n",
       "      <th>1</th>\n",
       "      <td>expected_seq2</td>\n",
       "      <td>None</td>\n",
       "      <td>Q E V G F E E A L P V T S I R I F Q G V R N F ...</td>\n",
       "      <td>None</td>\n",
       "      <td>None</td>\n",
       "      <td>Expected</td>\n",
       "    </tr>\n",
       "    <tr>\n",
       "      <th>2</th>\n",
       "      <td>expected_seq3</td>\n",
       "      <td>None</td>\n",
       "      <td>E K E H K G L Y T G L L F M P K A L K V S A L ...</td>\n",
       "      <td>None</td>\n",
       "      <td>None</td>\n",
       "      <td>Expected</td>\n",
       "    </tr>\n",
       "    <tr>\n",
       "      <th>3</th>\n",
       "      <td>expected_seq4</td>\n",
       "      <td>None</td>\n",
       "      <td>P I P M V I D G I H V A P A T D L D K R T N P ...</td>\n",
       "      <td>None</td>\n",
       "      <td>None</td>\n",
       "      <td>Expected</td>\n",
       "    </tr>\n",
       "    <tr>\n",
       "      <th>4</th>\n",
       "      <td>expected_seq5</td>\n",
       "      <td>None</td>\n",
       "      <td>A P R Q Q E I Q N L S L G S C T Q R V E G L T ...</td>\n",
       "      <td>None</td>\n",
       "      <td>None</td>\n",
       "      <td>Expected</td>\n",
       "    </tr>\n",
       "    <tr>\n",
       "      <th>...</th>\n",
       "      <td>...</td>\n",
       "      <td>...</td>\n",
       "      <td>...</td>\n",
       "      <td>...</td>\n",
       "      <td>...</td>\n",
       "      <td>...</td>\n",
       "    </tr>\n",
       "    <tr>\n",
       "      <th>49991</th>\n",
       "      <td>expected_seq49996</td>\n",
       "      <td>None</td>\n",
       "      <td>N D I F H L D F D T R R D K P P E R S R C D S ...</td>\n",
       "      <td>None</td>\n",
       "      <td>None</td>\n",
       "      <td>Expected</td>\n",
       "    </tr>\n",
       "    <tr>\n",
       "      <th>49992</th>\n",
       "      <td>expected_seq49997</td>\n",
       "      <td>None</td>\n",
       "      <td>S F D G L A A L T A F L I R S G N D L L I D K ...</td>\n",
       "      <td>None</td>\n",
       "      <td>None</td>\n",
       "      <td>Expected</td>\n",
       "    </tr>\n",
       "    <tr>\n",
       "      <th>49993</th>\n",
       "      <td>expected_seq49998</td>\n",
       "      <td>None</td>\n",
       "      <td>K Q V E G S T S I A L R V V T K M D C E D E K ...</td>\n",
       "      <td>None</td>\n",
       "      <td>None</td>\n",
       "      <td>Expected</td>\n",
       "    </tr>\n",
       "    <tr>\n",
       "      <th>49994</th>\n",
       "      <td>expected_seq49999</td>\n",
       "      <td>None</td>\n",
       "      <td>E E T T D V V L Y E G L T R T Q E L V D V Y G ...</td>\n",
       "      <td>None</td>\n",
       "      <td>None</td>\n",
       "      <td>Expected</td>\n",
       "    </tr>\n",
       "    <tr>\n",
       "      <th>49995</th>\n",
       "      <td>expected_seq50000</td>\n",
       "      <td>None</td>\n",
       "      <td>R C F A T K V C G L R G T T G R S T C A E A I ...</td>\n",
       "      <td>None</td>\n",
       "      <td>None</td>\n",
       "      <td>Expected</td>\n",
       "    </tr>\n",
       "  </tbody>\n",
       "</table>\n",
       "<p>49996 rows × 6 columns</p>\n",
       "</div>"
      ],
      "text/plain": [
       "                      ID  Gene  \\\n",
       "0          expected_seq1  None   \n",
       "1          expected_seq2  None   \n",
       "2          expected_seq3  None   \n",
       "3          expected_seq4  None   \n",
       "4          expected_seq5  None   \n",
       "...                  ...   ...   \n",
       "49991  expected_seq49996  None   \n",
       "49992  expected_seq49997  None   \n",
       "49993  expected_seq49998  None   \n",
       "49994  expected_seq49999  None   \n",
       "49995  expected_seq50000  None   \n",
       "\n",
       "                                                Sequence Description Organism  \\\n",
       "0      V V H V D L R Y Q R W S F R F L Y S E R P N V ...        None     None   \n",
       "1      Q E V G F E E A L P V T S I R I F Q G V R N F ...        None     None   \n",
       "2      E K E H K G L Y T G L L F M P K A L K V S A L ...        None     None   \n",
       "3      P I P M V I D G I H V A P A T D L D K R T N P ...        None     None   \n",
       "4      A P R Q Q E I Q N L S L G S C T Q R V E G L T ...        None     None   \n",
       "...                                                  ...         ...      ...   \n",
       "49991  N D I F H L D F D T R R D K P P E R S R C D S ...        None     None   \n",
       "49992  S F D G L A A L T A F L I R S G N D L L I D K ...        None     None   \n",
       "49993  K Q V E G S T S I A L R V V T K M D C E D E K ...        None     None   \n",
       "49994  E E T T D V V L Y E G L T R T Q E L V D V Y G ...        None     None   \n",
       "49995  R C F A T K V C G L R G T T G R S T C A E A I ...        None     None   \n",
       "\n",
       "          Types  \n",
       "0      Expected  \n",
       "1      Expected  \n",
       "2      Expected  \n",
       "3      Expected  \n",
       "4      Expected  \n",
       "...         ...  \n",
       "49991  Expected  \n",
       "49992  Expected  \n",
       "49993  Expected  \n",
       "49994  Expected  \n",
       "49995  Expected  \n",
       "\n",
       "[49996 rows x 6 columns]"
      ]
     },
     "execution_count": 9,
     "metadata": {},
     "output_type": "execute_result"
    }
   ],
   "source": [
    "exp_df"
   ]
  },
  {
   "cell_type": "markdown",
   "metadata": {},
   "source": [
    "## Real sequences"
   ]
  },
  {
   "cell_type": "code",
   "execution_count": 32,
   "metadata": {},
   "outputs": [],
   "source": [
    "# load and delete first column for the first 500000 sequence\n",
    "real_df = pd.read_csv(\"/home/defense/shokor/mapping2/data/real_df.csv\").iloc[: , 1:][:50000]"
   ]
  },
  {
   "cell_type": "code",
   "execution_count": 11,
   "metadata": {
    "tags": []
   },
   "outputs": [
    {
     "data": {
      "text/html": [
       "<div>\n",
       "<style scoped>\n",
       "    .dataframe tbody tr th:only-of-type {\n",
       "        vertical-align: middle;\n",
       "    }\n",
       "\n",
       "    .dataframe tbody tr th {\n",
       "        vertical-align: top;\n",
       "    }\n",
       "\n",
       "    .dataframe thead th {\n",
       "        text-align: right;\n",
       "    }\n",
       "</style>\n",
       "<table border=\"1\" class=\"dataframe\">\n",
       "  <thead>\n",
       "    <tr style=\"text-align: right;\">\n",
       "      <th></th>\n",
       "      <th>ID</th>\n",
       "      <th>Gene</th>\n",
       "      <th>Sequence</th>\n",
       "      <th>Description</th>\n",
       "      <th>Organism</th>\n",
       "      <th>Types</th>\n",
       "    </tr>\n",
       "  </thead>\n",
       "  <tbody>\n",
       "    <tr>\n",
       "      <th>0</th>\n",
       "      <td>A0A1Q6BRU5</td>\n",
       "      <td>AUO95_00920</td>\n",
       "      <td>M A K I T V F S P V K N F S G V S V G I T F S ...</td>\n",
       "      <td>Uncharacterized protein</td>\n",
       "      <td>Corynebacterium glutamicum</td>\n",
       "      <td>Real</td>\n",
       "    </tr>\n",
       "    <tr>\n",
       "      <th>1</th>\n",
       "      <td>A0A0A9U2E6</td>\n",
       "      <td>SAMN06296036_10138</td>\n",
       "      <td>M L D A L S I F S K V S L G L V V V R E P L G ...</td>\n",
       "      <td>Uncharacterized protein</td>\n",
       "      <td>Arundo donax</td>\n",
       "      <td>Real</td>\n",
       "    </tr>\n",
       "    <tr>\n",
       "      <th>2</th>\n",
       "      <td>A0A094PJX3</td>\n",
       "      <td>CL693_16430</td>\n",
       "      <td>M S S A R R T L E G V D N G I W P A F P V T R ...</td>\n",
       "      <td>Uncharacterized protein</td>\n",
       "      <td>Amycolatopsis sp. MJM2582</td>\n",
       "      <td>Real</td>\n",
       "    </tr>\n",
       "    <tr>\n",
       "      <th>3</th>\n",
       "      <td>A0A0P6A7Z7</td>\n",
       "      <td>LR48_Vigan04g171000</td>\n",
       "      <td>M S P M C T S L C V R I S S T F A F P L A S S ...</td>\n",
       "      <td>Uncharacterized protein</td>\n",
       "      <td>Daphnia magna</td>\n",
       "      <td>Real</td>\n",
       "    </tr>\n",
       "    <tr>\n",
       "      <th>4</th>\n",
       "      <td>A0A2E2XLC2</td>\n",
       "      <td>DLM60_08525</td>\n",
       "      <td>S K L C F D N V E N H P L L G T I Q K N Q L I ...</td>\n",
       "      <td>Uncharacterized protein Fragment</td>\n",
       "      <td>Cellvibrionaceae bacterium</td>\n",
       "      <td>Real</td>\n",
       "    </tr>\n",
       "    <tr>\n",
       "      <th>...</th>\n",
       "      <td>...</td>\n",
       "      <td>...</td>\n",
       "      <td>...</td>\n",
       "      <td>...</td>\n",
       "      <td>...</td>\n",
       "      <td>...</td>\n",
       "    </tr>\n",
       "    <tr>\n",
       "      <th>49995</th>\n",
       "      <td>A0A0V1CXG2</td>\n",
       "      <td>BWK73_23635</td>\n",
       "      <td>M V S D S Y Y N A I T N S E R R A L A L Y I T ...</td>\n",
       "      <td>Uncharacterized protein</td>\n",
       "      <td>Trichinella britovi</td>\n",
       "      <td>Real</td>\n",
       "    </tr>\n",
       "    <tr>\n",
       "      <th>49996</th>\n",
       "      <td>A0A2L2X9E7</td>\n",
       "      <td>LOC101317402</td>\n",
       "      <td>M S R L D D N F R Q G Q V D F L G I T E E E I ...</td>\n",
       "      <td>Methyl accepting chemotaxis sensory transducer</td>\n",
       "      <td>Desulfocucumis palustris</td>\n",
       "      <td>Real</td>\n",
       "    </tr>\n",
       "    <tr>\n",
       "      <th>49997</th>\n",
       "      <td>A0A1Q8A388</td>\n",
       "      <td>ORF55219</td>\n",
       "      <td>M E Q S I P I S S A R F Q H R D L A I L V G I ...</td>\n",
       "      <td>Uncharacterized protein</td>\n",
       "      <td>archaeon 13_1_20CM_2_54_9</td>\n",
       "      <td>Real</td>\n",
       "    </tr>\n",
       "    <tr>\n",
       "      <th>49998</th>\n",
       "      <td>S7PHL6</td>\n",
       "      <td>IAPP</td>\n",
       "      <td>M E W Q V D Y W T T A Q L T D R K R N S K K K ...</td>\n",
       "      <td>Phosphofurin acidic cluster sorting protein 2</td>\n",
       "      <td>Myotis brandtii</td>\n",
       "      <td>Real</td>\n",
       "    </tr>\n",
       "    <tr>\n",
       "      <th>49999</th>\n",
       "      <td>A5ZG22</td>\n",
       "      <td>CmeUKMEL1_07685</td>\n",
       "      <td>M L C L E G F G I A V F I N V I M I I Y K M L ...</td>\n",
       "      <td>Uncharacterized protein</td>\n",
       "      <td>Bacteroides caccae ATCC 43185</td>\n",
       "      <td>Real</td>\n",
       "    </tr>\n",
       "  </tbody>\n",
       "</table>\n",
       "<p>50000 rows × 6 columns</p>\n",
       "</div>"
      ],
      "text/plain": [
       "               ID                 Gene  \\\n",
       "0      A0A1Q6BRU5          AUO95_00920   \n",
       "1      A0A0A9U2E6   SAMN06296036_10138   \n",
       "2      A0A094PJX3          CL693_16430   \n",
       "3      A0A0P6A7Z7  LR48_Vigan04g171000   \n",
       "4      A0A2E2XLC2          DLM60_08525   \n",
       "...           ...                  ...   \n",
       "49995  A0A0V1CXG2          BWK73_23635   \n",
       "49996  A0A2L2X9E7         LOC101317402   \n",
       "49997  A0A1Q8A388             ORF55219   \n",
       "49998      S7PHL6                 IAPP   \n",
       "49999      A5ZG22      CmeUKMEL1_07685   \n",
       "\n",
       "                                                Sequence  \\\n",
       "0      M A K I T V F S P V K N F S G V S V G I T F S ...   \n",
       "1      M L D A L S I F S K V S L G L V V V R E P L G ...   \n",
       "2      M S S A R R T L E G V D N G I W P A F P V T R ...   \n",
       "3      M S P M C T S L C V R I S S T F A F P L A S S ...   \n",
       "4      S K L C F D N V E N H P L L G T I Q K N Q L I ...   \n",
       "...                                                  ...   \n",
       "49995  M V S D S Y Y N A I T N S E R R A L A L Y I T ...   \n",
       "49996  M S R L D D N F R Q G Q V D F L G I T E E E I ...   \n",
       "49997  M E Q S I P I S S A R F Q H R D L A I L V G I ...   \n",
       "49998  M E W Q V D Y W T T A Q L T D R K R N S K K K ...   \n",
       "49999  M L C L E G F G I A V F I N V I M I I Y K M L ...   \n",
       "\n",
       "                                          Description  \\\n",
       "0                             Uncharacterized protein   \n",
       "1                             Uncharacterized protein   \n",
       "2                             Uncharacterized protein   \n",
       "3                             Uncharacterized protein   \n",
       "4                    Uncharacterized protein Fragment   \n",
       "...                                               ...   \n",
       "49995                         Uncharacterized protein   \n",
       "49996  Methyl accepting chemotaxis sensory transducer   \n",
       "49997                         Uncharacterized protein   \n",
       "49998   Phosphofurin acidic cluster sorting protein 2   \n",
       "49999                         Uncharacterized protein   \n",
       "\n",
       "                            Organism Types  \n",
       "0         Corynebacterium glutamicum  Real  \n",
       "1                       Arundo donax  Real  \n",
       "2          Amycolatopsis sp. MJM2582  Real  \n",
       "3                      Daphnia magna  Real  \n",
       "4         Cellvibrionaceae bacterium  Real  \n",
       "...                              ...   ...  \n",
       "49995            Trichinella britovi  Real  \n",
       "49996       Desulfocucumis palustris  Real  \n",
       "49997      archaeon 13_1_20CM_2_54_9  Real  \n",
       "49998                Myotis brandtii  Real  \n",
       "49999  Bacteroides caccae ATCC 43185  Real  \n",
       "\n",
       "[50000 rows x 6 columns]"
      ]
     },
     "execution_count": 11,
     "metadata": {},
     "output_type": "execute_result"
    }
   ],
   "source": [
    "real_df"
   ]
  },
  {
   "cell_type": "code",
   "execution_count": 37,
   "metadata": {},
   "outputs": [],
   "source": [
    "# save new dataframe\n",
    "real_df.to_csv('/home/defense/shokor/mapping2/data/50000_real_df.csv')"
   ]
  },
  {
   "cell_type": "code",
   "execution_count": 10,
   "metadata": {},
   "outputs": [],
   "source": [
    "# load dataframe\n",
    "real_df = pd.read_csv(\"/home/defense/shokor/mapping2/data/50000_real_df.csv\").iloc[: , 1:]"
   ]
  },
  {
   "cell_type": "markdown",
   "metadata": {
    "id": "dNYGJg47fJ-0",
    "tags": []
   },
   "source": [
    "# Split Data"
   ]
  },
  {
   "cell_type": "code",
   "execution_count": 12,
   "metadata": {
    "id": "FcOdjV6hfKWo"
   },
   "outputs": [],
   "source": [
    "def split_dataframe(df, chunk_size): \n",
    "    \n",
    "\n",
    "    ''' \n",
    "    Split DataFrame into chunks\n",
    "\n",
    "    input: \n",
    "        - Dataframe \n",
    "        - nb of sequecnes in each chunk\n",
    "\n",
    "    output: \n",
    "        - Liste of list of chunks \n",
    "        - with a length = length of dataframe / chunk size\n",
    "    '''\n",
    "\n",
    "    chunks = []\n",
    "\n",
    "    num_chunks = len(df) // chunk_size + 1\n",
    "    print(\"Number of chunks:\", num_chunks)\n",
    "\n",
    "    for i in range(num_chunks):\n",
    "          chunks.append(df[i*chunk_size:(i+1)*chunk_size])\n",
    "\n",
    "    return chunks"
   ]
  },
  {
   "cell_type": "code",
   "execution_count": 13,
   "metadata": {
    "id": "nHzvM4GjfLRD"
   },
   "outputs": [
    {
     "name": "stdout",
     "output_type": "stream",
     "text": [
      "Number of chunks: 3333\n"
     ]
    },
    {
     "data": {
      "text/plain": [
       "3333"
      ]
     },
     "execution_count": 13,
     "metadata": {},
     "output_type": "execute_result"
    }
   ],
   "source": [
    "rand_chunks = split_dataframe(rand_df, chunk_size = 15)\n",
    "len(rand_chunks)"
   ]
  },
  {
   "cell_type": "code",
   "execution_count": 14,
   "metadata": {},
   "outputs": [
    {
     "name": "stdout",
     "output_type": "stream",
     "text": [
      "Number of chunks: 768\n"
     ]
    }
   ],
   "source": [
    "mut_chunks = split_dataframe(mut_df, chunk_size = 15)"
   ]
  },
  {
   "cell_type": "code",
   "execution_count": 15,
   "metadata": {},
   "outputs": [
    {
     "name": "stdout",
     "output_type": "stream",
     "text": [
      "Number of chunks: 299\n"
     ]
    }
   ],
   "source": [
    "blos_chunks = split_dataframe(blos_df, chunk_size = 15)"
   ]
  },
  {
   "cell_type": "code",
   "execution_count": 16,
   "metadata": {},
   "outputs": [
    {
     "name": "stdout",
     "output_type": "stream",
     "text": [
      "Number of chunks: 3334\n"
     ]
    }
   ],
   "source": [
    "exp_chunks = split_dataframe(exp_df, chunk_size = 15)"
   ]
  },
  {
   "cell_type": "code",
   "execution_count": 17,
   "metadata": {},
   "outputs": [
    {
     "name": "stdout",
     "output_type": "stream",
     "text": [
      "Number of chunks: 3334\n"
     ]
    }
   ],
   "source": [
    "real_chunks = split_dataframe(real_df, chunk_size = 15)"
   ]
  },
  {
   "cell_type": "markdown",
   "metadata": {
    "id": "AAf3BeBnfUQX"
   },
   "source": [
    "# Embeddings "
   ]
  },
  {
   "cell_type": "code",
   "execution_count": 5,
   "metadata": {},
   "outputs": [],
   "source": [
    "!pip install -q transformers"
   ]
  },
  {
   "cell_type": "code",
   "execution_count": 2,
   "metadata": {
    "collapsed": true,
    "id": "fCsyFwBofLO4",
    "jupyter": {
     "outputs_hidden": true
    },
    "tags": []
   },
   "outputs": [
    {
     "ename": "ModuleNotFoundError",
     "evalue": "No module named 'transformers'",
     "output_type": "error",
     "traceback": [
      "\u001b[0;31m---------------------------------------------------------------------------\u001b[0m",
      "\u001b[0;31mModuleNotFoundError\u001b[0m                       Traceback (most recent call last)",
      "\u001b[0;32m/tmp/ipykernel_928953/1748484869.py\u001b[0m in \u001b[0;36m<module>\u001b[0;34m\u001b[0m\n\u001b[0;32m----> 1\u001b[0;31m \u001b[0;32mfrom\u001b[0m \u001b[0mtransformers\u001b[0m \u001b[0;32mimport\u001b[0m \u001b[0mTFBertModel\u001b[0m\u001b[0;34m,\u001b[0m \u001b[0mBertTokenizer\u001b[0m\u001b[0;34m,\u001b[0m\u001b[0mBertConfig\u001b[0m\u001b[0;34m\u001b[0m\u001b[0;34m\u001b[0m\u001b[0m\n\u001b[0m",
      "\u001b[0;31mModuleNotFoundError\u001b[0m: No module named 'transformers'"
     ]
    }
   ],
   "source": [
    "from transformers import TFBertModel, BertTokenizer,BertConfig"
   ]
  },
  {
   "cell_type": "code",
   "execution_count": 7,
   "metadata": {
    "id": "y87_ob_efLL4",
    "tags": []
   },
   "outputs": [],
   "source": [
    "tokenizer = BertTokenizer.from_pretrained(\"Rostlab/prot_bert\", do_lower_case=False )"
   ]
  },
  {
   "cell_type": "code",
   "execution_count": 8,
   "metadata": {
    "collapsed": true,
    "id": "i9_5dtJKfLJi",
    "jupyter": {
     "outputs_hidden": true
    },
    "tags": []
   },
   "outputs": [
    {
     "name": "stderr",
     "output_type": "stream",
     "text": [
      "2021-12-22 09:25:34.091714: I tensorflow/stream_executor/platform/default/dso_loader.cc:53] Successfully opened dynamic library libcuda.so.1\n",
      "2021-12-22 09:25:34.197176: I tensorflow/core/common_runtime/gpu/gpu_device.cc:1733] Found device 0 with properties: \n",
      "pciBusID: 0000:93:00.0 name: NVIDIA GeForce RTX 2070 computeCapability: 7.5\n",
      "coreClock: 1.62GHz coreCount: 36 deviceMemorySize: 7.79GiB deviceMemoryBandwidth: 417.29GiB/s\n",
      "2021-12-22 09:25:34.198190: I tensorflow/core/common_runtime/gpu/gpu_device.cc:1733] Found device 1 with properties: \n",
      "pciBusID: 0000:d5:00.0 name: Quadro P400 computeCapability: 6.1\n",
      "coreClock: 1.2525GHz coreCount: 2 deviceMemorySize: 1.94GiB deviceMemoryBandwidth: 29.88GiB/s\n",
      "2021-12-22 09:25:34.198249: I tensorflow/stream_executor/platform/default/dso_loader.cc:53] Successfully opened dynamic library libcudart.so.11.0\n",
      "2021-12-22 09:25:34.198343: I tensorflow/stream_executor/platform/default/dso_loader.cc:53] Successfully opened dynamic library libcublas.so.11\n",
      "2021-12-22 09:25:34.198403: I tensorflow/stream_executor/platform/default/dso_loader.cc:53] Successfully opened dynamic library libcublasLt.so.11\n",
      "2021-12-22 09:25:34.198495: I tensorflow/stream_executor/platform/default/dso_loader.cc:53] Successfully opened dynamic library libcufft.so.10\n",
      "2021-12-22 09:25:34.198549: I tensorflow/stream_executor/platform/default/dso_loader.cc:53] Successfully opened dynamic library libcurand.so.10\n",
      "2021-12-22 09:25:34.198669: I tensorflow/stream_executor/platform/default/dso_loader.cc:53] Successfully opened dynamic library libcusolver.so.11\n",
      "2021-12-22 09:25:34.198732: I tensorflow/stream_executor/platform/default/dso_loader.cc:53] Successfully opened dynamic library libcusparse.so.11\n",
      "2021-12-22 09:25:34.201403: I tensorflow/stream_executor/platform/default/dso_loader.cc:53] Successfully opened dynamic library libcudnn.so.8\n",
      "2021-12-22 09:25:34.209826: I tensorflow/core/common_runtime/gpu/gpu_device.cc:1856] Ignoring visible gpu device (device: 1, name: Quadro P400, pci bus id: 0000:d5:00.0, compute capability: 6.1) with core count: 2. The minimum required count is 8. You can adjust this requirement with the env var TF_MIN_GPU_MULTIPROCESSOR_COUNT.\n",
      "2021-12-22 09:25:34.209868: I tensorflow/core/common_runtime/gpu/gpu_device.cc:1871] Adding visible gpu devices: 0\n",
      "2021-12-22 09:25:34.216779: I tensorflow/core/platform/cpu_feature_guard.cc:142] This TensorFlow binary is optimized with oneAPI Deep Neural Network Library (oneDNN) to use the following CPU instructions in performance-critical operations:  AVX2 AVX512F FMA\n",
      "To enable them in other operations, rebuild TensorFlow with the appropriate compiler flags.\n",
      "2021-12-22 09:25:34.222031: I tensorflow/core/common_runtime/gpu/gpu_device.cc:1733] Found device 0 with properties: \n",
      "pciBusID: 0000:93:00.0 name: NVIDIA GeForce RTX 2070 computeCapability: 7.5\n",
      "coreClock: 1.62GHz coreCount: 36 deviceMemorySize: 7.79GiB deviceMemoryBandwidth: 417.29GiB/s\n",
      "2021-12-22 09:25:34.224135: I tensorflow/core/common_runtime/gpu/gpu_device.cc:1871] Adding visible gpu devices: 0\n",
      "2021-12-22 09:25:41.401933: I tensorflow/core/common_runtime/gpu/gpu_device.cc:1258] Device interconnect StreamExecutor with strength 1 edge matrix:\n",
      "2021-12-22 09:25:41.401978: I tensorflow/core/common_runtime/gpu/gpu_device.cc:1264]      0 \n",
      "2021-12-22 09:25:41.401985: I tensorflow/core/common_runtime/gpu/gpu_device.cc:1277] 0:   N \n",
      "2021-12-22 09:25:41.403856: I tensorflow/core/common_runtime/gpu/gpu_device.cc:1418] Created TensorFlow device (/job:localhost/replica:0/task:0/device:GPU:0 with 5639 MB memory) -> physical GPU (device: 0, name: NVIDIA GeForce RTX 2070, pci bus id: 0000:93:00.0, compute capability: 7.5)\n",
      "Some weights of the PyTorch model were not used when initializing the TF 2.0 model TFBertModel: ['cls.predictions.transform.LayerNorm.bias', 'cls.predictions.decoder.bias', 'cls.predictions.bias', 'cls.seq_relationship.bias', 'cls.predictions.transform.dense.bias', 'cls.predictions.transform.dense.weight', 'cls.predictions.decoder.weight', 'cls.predictions.transform.LayerNorm.weight', 'cls.seq_relationship.weight']\n",
      "- This IS expected if you are initializing TFBertModel from a PyTorch model trained on another task or with another architecture (e.g. initializing a TFBertForSequenceClassification model from a BertForPreTraining model).\n",
      "- This IS NOT expected if you are initializing TFBertModel from a PyTorch model that you expect to be exactly identical (e.g. initializing a TFBertForSequenceClassification model from a BertForSequenceClassification model).\n",
      "All the weights of TFBertModel were initialized from the PyTorch model.\n",
      "If your task is similar to the task the model of the checkpoint was trained on, you can already use TFBertModel for predictions without further training.\n"
     ]
    }
   ],
   "source": [
    "model = TFBertModel.from_pretrained(\"Rostlab/prot_bert\", from_pt=True)"
   ]
  },
  {
   "cell_type": "code",
   "execution_count": 9,
   "metadata": {
    "id": "MiJdm5YufLG_"
   },
   "outputs": [],
   "source": [
    "def embdBert(seq_list):\n",
    "    '''\n",
    "    Embeddings af a given list of sequence \n",
    "    \n",
    "    input:\n",
    "        - Sequence list\n",
    "    \n",
    "    output:\n",
    "        - Array of embeddings shape: (nb of sequence, max sequence length, 1024)\n",
    "        - Attetion mask\n",
    "    \n",
    "    '''\n",
    "\n",
    "    #Transform amino acid to index\n",
    "    ids = tokenizer.batch_encode_plus(seq_list, add_special_tokens=True, padding=True, return_tensors=\"tf\")  \n",
    "    input_ids = ids['input_ids'] \n",
    "    attention_mask = ids['attention_mask']\n",
    "\n",
    "    \n",
    "    #Transform index to vectors of 1024 value\n",
    "    embedding = model(input_ids)[0]\n",
    "    embedding = np.asarray(embedding)\n",
    "    \n",
    "    return embedding, attention_mask"
   ]
  },
  {
   "cell_type": "code",
   "execution_count": 10,
   "metadata": {
    "id": "gIP7-RDPfLEU"
   },
   "outputs": [],
   "source": [
    "def save_embeddings(seq_type, idx, embedding):\n",
    "    '''\n",
    "    Save embeddings array \n",
    "    \n",
    "    input:\n",
    "        - sequence type: Random, Expected, Mutated, Blosum and Real\n",
    "        - chunks index\n",
    "        - embeddings array \n",
    "        \n",
    "    output:\n",
    "        - .npy file format\n",
    "    '''\n",
    "    \n",
    "    dir_name = \"/dsimb/glaciere/gelly/PROJECT_MAPPING/output/{}\".format(seq_type)\n",
    "    save_path = os.path.join(dir_name,'{}_{:04d}.npy'.format(seq_type, idx))\n",
    "    np.save(save_path, embedding)"
   ]
  },
  {
   "cell_type": "code",
   "execution_count": 11,
   "metadata": {
    "id": "oJQOVS1UfLBk"
   },
   "outputs": [],
   "source": [
    "def EmbedMasking(attention_mask, embedding):\n",
    "    '''\n",
    "    Apply attention mask to embeddings\n",
    "    \n",
    "    input:\n",
    "        - list of attention mask\n",
    "        - embeddings array \n",
    "        \n",
    "    output:\n",
    "        - list of array of embeddings with different max sequence length \n",
    "    '''\n",
    "    features = [] \n",
    "    \n",
    "    attention_mask = np.asarray(attention_mask)\n",
    "\n",
    "    for seq_num in range(len(embedding)):\n",
    "        seq_len = (attention_mask[seq_num] == 1).sum()\n",
    "        seq_emd = embedding[seq_num][1:seq_len-1]\n",
    "        features.append(seq_emd)         \n",
    "    \n",
    "    return features"
   ]
  },
  {
   "cell_type": "code",
   "execution_count": 12,
   "metadata": {
    "id": "lHjBrj0kfjCA"
   },
   "outputs": [],
   "source": [
    "def padding(sequence_list):\n",
    "    '''\n",
    "    Embeddings array padding to a length = 256\n",
    "    \n",
    "    input:\n",
    "        - list of array of embeddings with different max sequence length \n",
    "    \n",
    "    output:\n",
    "        - Array of embeddings shape: (nb of sequence, max sequence length, 1024) paded with zero\n",
    "    '''\n",
    "\n",
    "    #save the lengths of sequences\n",
    "    length = []\n",
    "    for s in sequence_list:\n",
    "        length.append(len(s))\n",
    "\n",
    "    #pad encoded sequence\n",
    "    pad_seq = []\n",
    "    for s in sequence_list:\n",
    "        x = np.zeros((256-len(s), 1024))\n",
    "        v = np.concatenate((s, x), axis = 0)\n",
    "        pad_seq.append(v)\n",
    "\n",
    "    # from list of array to array \n",
    "    encoded_seq = np.stack(pad_seq, axis = 0)           \n",
    "    \n",
    "    return encoded_seq"
   ]
  },
  {
   "cell_type": "code",
   "execution_count": 21,
   "metadata": {
    "tags": []
   },
   "outputs": [],
   "source": [
    " # os.mkdir('/dsimb/glaciere/gelly/PROJECT_MAPPING/output/')"
   ]
  },
  {
   "cell_type": "code",
   "execution_count": 13,
   "metadata": {
    "id": "4UnMwLKPfi_I",
    "tags": []
   },
   "outputs": [],
   "source": [
    "def get_embeddings(df, seq_type):\n",
    "    ''' \n",
    "     Get the embeddings af a given list of sequence \n",
    "     \n",
    "     input:\n",
    "         - dataframe \n",
    "         - sequence type\n",
    "         \n",
    "     output:\n",
    "         - folder with .npy files of embeddings array  \n",
    "    '''\n",
    "   \n",
    "    embd_seq = []\n",
    "    mean_list = []\n",
    "    mean_seq = []\n",
    "    os.mkdir('/dsimb/glaciere/gelly/PROJECT_MAPPING/output/{}'.format(seq_type))\n",
    "    chunks = split_dataframe(df, chunk_size = 15)\n",
    "    for idx, chunk in enumerate(chunks): \n",
    "\n",
    "        # create list of sequence\n",
    "        seq_list = chunk['Sequence'].to_list()\n",
    "\n",
    "        # Word embedding \n",
    "        embedding, attention_mask = embdBert(seq_list)\n",
    "        \n",
    "        # Apply mask\n",
    "        features = EmbedMasking(attention_mask, embedding)\n",
    "\n",
    "        # sequence padding \n",
    "        pad_features = padding(features)\n",
    "\n",
    "        # Save embeddings \n",
    "        #idx = 999+idx\n",
    "        save_embeddings(seq_type, idx, pad_features)\n",
    "\n",
    "        #print(pad_features.shape)\n",
    "\n"
   ]
  },
  {
   "cell_type": "code",
   "execution_count": 24,
   "metadata": {
    "id": "Ke_SPTdvfi7-",
    "tags": []
   },
   "outputs": [
    {
     "name": "stdout",
     "output_type": "stream",
     "text": [
      "Number of chunks: 3333\n"
     ]
    }
   ],
   "source": [
    "mean_all = get_embeddings(rand_df, 'random') "
   ]
  },
  {
   "cell_type": "code",
   "execution_count": 14,
   "metadata": {},
   "outputs": [
    {
     "name": "stdout",
     "output_type": "stream",
     "text": [
      "Number of chunks: 768\n"
     ]
    }
   ],
   "source": [
    "# Mutated sequences\n",
    "mutate_embd = get_embeddings(mut_df, 'mutate') "
   ]
  },
  {
   "cell_type": "code",
   "execution_count": null,
   "metadata": {},
   "outputs": [],
   "source": [
    "# Mutated sequences\n",
    "blos_embd = get_embeddings(blos_df, 'blosum_mutate') "
   ]
  },
  {
   "cell_type": "code",
   "execution_count": 31,
   "metadata": {
    "tags": []
   },
   "outputs": [
    {
     "name": "stdout",
     "output_type": "stream",
     "text": [
      "Number of chunks: 3334\n"
     ]
    }
   ],
   "source": [
    "# Expected sequences\n",
    "expectes_embd = get_embeddings(exp_df, 'expected') "
   ]
  },
  {
   "cell_type": "code",
   "execution_count": 38,
   "metadata": {},
   "outputs": [
    {
     "name": "stdout",
     "output_type": "stream",
     "text": [
      "Number of chunks: 3334\n"
     ]
    }
   ],
   "source": [
    "# Real sequences\n",
    "real_embd = get_embeddings(real_df, 'real') "
   ]
  },
  {
   "cell_type": "code",
   "execution_count": 23,
   "metadata": {
    "id": "k2fmfRhqfiwE"
   },
   "outputs": [
    {
     "data": {
      "text/plain": [
       "(15, 256, 1024)"
      ]
     },
     "execution_count": 23,
     "metadata": {},
     "output_type": "execute_result"
    }
   ],
   "source": [
    "# test\n",
    "test = np.load('/dsimb/glaciere/gelly/PROJECT_MAPPING/output/mutate/mutate_0000.npy')\n",
    "test.shape"
   ]
  },
  {
   "cell_type": "code",
   "execution_count": 24,
   "metadata": {
    "collapsed": true,
    "jupyter": {
     "outputs_hidden": true
    },
    "tags": []
   },
   "outputs": [
    {
     "data": {
      "text/plain": [
       "array([[[-0.01165971,  0.09751973, -0.10460878, ...,  0.06204785,\n",
       "          0.08363772, -0.11316578],\n",
       "        [ 0.01970986,  0.0808828 , -0.03820451, ..., -0.05717612,\n",
       "          0.11885154,  0.02825323],\n",
       "        [-0.01977147,  0.09996937, -0.10996159, ...,  0.05089093,\n",
       "          0.10187107,  0.10227456],\n",
       "        ...,\n",
       "        [ 0.        ,  0.        ,  0.        , ...,  0.        ,\n",
       "          0.        ,  0.        ],\n",
       "        [ 0.        ,  0.        ,  0.        , ...,  0.        ,\n",
       "          0.        ,  0.        ],\n",
       "        [ 0.        ,  0.        ,  0.        , ...,  0.        ,\n",
       "          0.        ,  0.        ]],\n",
       "\n",
       "       [[-0.06353782,  0.2137934 , -0.0454431 , ...,  0.0112277 ,\n",
       "         -0.01403923,  0.02387726],\n",
       "        [-0.16301735,  0.07290937, -0.02311531, ...,  0.00523375,\n",
       "          0.07633299,  0.10076424],\n",
       "        [-0.13229325,  0.09764743, -0.14178208, ..., -0.00963395,\n",
       "          0.07386518,  0.08281527],\n",
       "        ...,\n",
       "        [ 0.        ,  0.        ,  0.        , ...,  0.        ,\n",
       "          0.        ,  0.        ],\n",
       "        [ 0.        ,  0.        ,  0.        , ...,  0.        ,\n",
       "          0.        ,  0.        ],\n",
       "        [ 0.        ,  0.        ,  0.        , ...,  0.        ,\n",
       "          0.        ,  0.        ]],\n",
       "\n",
       "       [[ 0.01348687,  0.07310002,  0.11473301, ..., -0.14652774,\n",
       "         -0.01566621, -0.13860078],\n",
       "        [ 0.18168347,  0.17215672, -0.1427888 , ..., -0.36145604,\n",
       "         -0.09197403,  0.04807647],\n",
       "        [ 0.12439093,  0.15588373, -0.04235266, ..., -0.17997505,\n",
       "         -0.09781688, -0.01379307],\n",
       "        ...,\n",
       "        [ 0.        ,  0.        ,  0.        , ...,  0.        ,\n",
       "          0.        ,  0.        ],\n",
       "        [ 0.        ,  0.        ,  0.        , ...,  0.        ,\n",
       "          0.        ,  0.        ],\n",
       "        [ 0.        ,  0.        ,  0.        , ...,  0.        ,\n",
       "          0.        ,  0.        ]],\n",
       "\n",
       "       ...,\n",
       "\n",
       "       [[ 0.04987352,  0.12593028,  0.17018014, ..., -0.02441403,\n",
       "         -0.01242649, -0.10654009],\n",
       "        [ 0.0829537 , -0.02914718,  0.0988413 , ..., -0.13579515,\n",
       "         -0.0958166 ,  0.13361889],\n",
       "        [-0.00924431, -0.0294981 ,  0.06148761, ..., -0.06958614,\n",
       "          0.0078491 ,  0.0987394 ],\n",
       "        ...,\n",
       "        [ 0.        ,  0.        ,  0.        , ...,  0.        ,\n",
       "          0.        ,  0.        ],\n",
       "        [ 0.        ,  0.        ,  0.        , ...,  0.        ,\n",
       "          0.        ,  0.        ],\n",
       "        [ 0.        ,  0.        ,  0.        , ...,  0.        ,\n",
       "          0.        ,  0.        ]],\n",
       "\n",
       "       [[-0.00639094,  0.03822003,  0.02708914, ..., -0.01394654,\n",
       "         -0.04845937, -0.18394259],\n",
       "        [ 0.0943463 , -0.14658618,  0.0680802 , ..., -0.08333288,\n",
       "         -0.23130974,  0.03639992],\n",
       "        [-0.00374683,  0.05241098,  0.02162119, ..., -0.06269691,\n",
       "         -0.20134366, -0.12168423],\n",
       "        ...,\n",
       "        [ 0.        ,  0.        ,  0.        , ...,  0.        ,\n",
       "          0.        ,  0.        ],\n",
       "        [ 0.        ,  0.        ,  0.        , ...,  0.        ,\n",
       "          0.        ,  0.        ],\n",
       "        [ 0.        ,  0.        ,  0.        , ...,  0.        ,\n",
       "          0.        ,  0.        ]],\n",
       "\n",
       "       [[ 0.08519472,  0.03929064,  0.05703249, ..., -0.16892152,\n",
       "         -0.03843184, -0.06396621],\n",
       "        [ 0.0648967 , -0.00802803,  0.06895082, ..., -0.12477732,\n",
       "          0.03706429,  0.07017078],\n",
       "        [ 0.04233832,  0.00491944,  0.12932877, ..., -0.09152725,\n",
       "          0.07474308,  0.08532131],\n",
       "        ...,\n",
       "        [ 0.        ,  0.        ,  0.        , ...,  0.        ,\n",
       "          0.        ,  0.        ],\n",
       "        [ 0.        ,  0.        ,  0.        , ...,  0.        ,\n",
       "          0.        ,  0.        ],\n",
       "        [ 0.        ,  0.        ,  0.        , ...,  0.        ,\n",
       "          0.        ,  0.        ]]])"
      ]
     },
     "execution_count": 24,
     "metadata": {},
     "output_type": "execute_result"
    }
   ],
   "source": [
    "test"
   ]
  },
  {
   "cell_type": "code",
   "execution_count": null,
   "metadata": {},
   "outputs": [],
   "source": []
  }
 ],
 "metadata": {
  "colab": {
   "collapsed_sections": [],
   "name": "Embedding.ipynb",
   "provenance": []
  },
  "kernelspec": {
   "display_name": "Python 3 (ipykernel)",
   "language": "python",
   "name": "python3"
  },
  "language_info": {
   "codemirror_mode": {
    "name": "ipython",
    "version": 3
   },
   "file_extension": ".py",
   "mimetype": "text/x-python",
   "name": "python",
   "nbconvert_exporter": "python",
   "pygments_lexer": "ipython3",
   "version": "3.8.12"
  }
 },
 "nbformat": 4,
 "nbformat_minor": 4
}
