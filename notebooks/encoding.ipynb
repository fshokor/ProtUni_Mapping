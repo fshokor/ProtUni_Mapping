{
  "nbformat": 4,
  "nbformat_minor": 0,
  "metadata": {
    "colab": {
      "name": "encoding.ipynb",
      "provenance": []
    },
    "kernelspec": {
      "name": "python3",
      "display_name": "Python 3"
    },
    "language_info": {
      "name": "python"
    }
  },
  "cells": [
    {
      "cell_type": "markdown",
      "metadata": {
        "id": "VFeS-AFSr87P"
      },
      "source": [
        "# Load Packages \n"
      ]
    },
    {
      "cell_type": "code",
      "execution_count": null,
      "metadata": {
        "id": "dcjuXo8bhL5r"
      },
      "outputs": [],
      "source": [
        "import numpy as np\n",
        "import pandas as pd\n",
        "import os\n",
        "import glob\n",
        "# For plotting\n",
        "import matplotlib.pyplot as plt\n",
        "from mpl_toolkits.mplot3d import Axes3D\n",
        "from sklearn.preprocessing import normalize\n",
        "from matplotlib.lines import Line2D\n",
        "import matplotlib.colors as mcolors\n",
        "%matplotlib inline\n",
        "#TSNE\n",
        "from sklearn.manifold import TSNE\n",
        "# LDA\n",
        "from sklearn.discriminant_analysis import LinearDiscriminantAnalysis"
      ]
    },
    {
      "cell_type": "code",
      "execution_count": null,
      "metadata": {
        "id": "Fo5U7q_GzAL9"
      },
      "outputs": [],
      "source": [
        "import tensorflow as tf\n",
        "from tensorflow import  keras\n",
        "import tensorflow as tf\n",
        "from tensorflow import  keras\n",
        "from tensorflow.keras.layers import Dense, TimeDistributed, Input, Lambda, LSTM, RepeatVector, Masking\n",
        "import tensorflow.keras.models\n",
        "import tensorflow.keras.optimizers\n",
        "import tensorflow.keras.datasets\n",
        "from tensorflow.keras import backend as K\n",
        "from keras.models import Model\n",
        "from tensorflow.keras.callbacks import EarlyStopping\n",
        "from tensorflow.keras import layers\n",
        "from keras.utils.vis_utils import plot_model "
      ]
    },
    {
      "cell_type": "code",
      "execution_count": null,
      "metadata": {
        "colab": {
          "base_uri": "https://localhost:8080/"
        },
        "id": "USXoL32x3j1t",
        "outputId": "51900820-9b5c-4e95-ff68-c88ae34da11c"
      },
      "outputs": [
        {
          "output_type": "stream",
          "name": "stdout",
          "text": [
            "Mounted at /content/gdrive\n"
          ]
        }
      ],
      "source": [
        "from google.colab import drive \n",
        "drive.mount('/content/gdrive')\n"
      ]
    },
    {
      "cell_type": "markdown",
      "metadata": {
        "id": "Ldlk9yZtzXUj"
      },
      "source": [
        "# Load Model"
      ]
    },
    {
      "cell_type": "code",
      "execution_count": null,
      "metadata": {
        "id": "7CS3xxpQA6vq"
      },
      "outputs": [],
      "source": [
        "latent_dim = 128"
      ]
    },
    {
      "cell_type": "code",
      "execution_count": null,
      "metadata": {
        "colab": {
          "base_uri": "https://localhost:8080/"
        },
        "id": "t22q-DIG-0rk",
        "outputId": "fcf8c321-b467-4582-c586-d7071de6e0c6"
      },
      "outputs": [
        {
          "output_type": "stream",
          "name": "stdout",
          "text": [
            "WARNING:tensorflow:No training configuration found in save file, so the model was *not* compiled. Compile it manually.\n"
          ]
        }
      ],
      "source": [
        "encoder =  keras.models.load_model('/content/gdrive/MyDrive/Projet_long/encoder128')"
      ]
    },
    {
      "cell_type": "markdown",
      "metadata": {
        "id": "B1ln5tQRBOug"
      },
      "source": [
        "# Load Dataset"
      ]
    },
    {
      "cell_type": "code",
      "execution_count": null,
      "metadata": {
        "id": "yU3rkuL2QU3G"
      },
      "outputs": [],
      "source": [
        "def read_npy_file(item):\n",
        "    data = np.load(item.decode())\n",
        "    return data.astype(np.float32)\n",
        "\n",
        "# load the embeddings generated in mebdeding notebook\n",
        "data_path = \"/content/gdrive/MyDrive/Projet_long/embd\"\n",
        "file_list = [os.path.join(data_path, p) for p in sorted(os.listdir(data_path))]\n",
        "\n",
        "dataset = tf.data.Dataset.from_tensor_slices(file_list)\n",
        "\n",
        "dataset = dataset.map(lambda item: tuple(tf.numpy_function(read_npy_file, [item], [tf.float32,])))\n"
      ]
    },
    {
      "cell_type": "markdown",
      "metadata": {
        "id": "WTboY6GkKm_X"
      },
      "source": [
        "# Load Dataframe"
      ]
    },
    {
      "cell_type": "code",
      "execution_count": null,
      "metadata": {
        "id": "iQwl4xZLKpS0"
      },
      "outputs": [],
      "source": [
        "df = pd.read_csv('/content/gdrive/MyDrive/Projet_long/df.csv').iloc[: , 1:]"
      ]
    },
    {
      "cell_type": "code",
      "execution_count": null,
      "metadata": {
        "id": "WixhFSyoK56D"
      },
      "outputs": [],
      "source": [
        "seq_fold = df['Fold class']"
      ]
    },
    {
      "cell_type": "code",
      "execution_count": null,
      "metadata": {
        "id": "Js6NrkRGoEi7"
      },
      "outputs": [],
      "source": [
        "fold_arra = np.array(seq_fold)"
      ]
    },
    {
      "cell_type": "markdown",
      "metadata": {
        "id": "5rHc2zv0xJwx"
      },
      "source": [
        "# Encoding "
      ]
    },
    {
      "cell_type": "code",
      "execution_count": null,
      "metadata": {
        "id": "obM2CdRUxJwx"
      },
      "outputs": [],
      "source": [
        "encode_seq =  encoder.predict(dataset)"
      ]
    },
    {
      "cell_type": "markdown",
      "metadata": {
        "id": "t_cRnpUsQTpW"
      },
      "source": [
        "# tSNE"
      ]
    },
    {
      "cell_type": "code",
      "execution_count": null,
      "metadata": {
        "colab": {
          "base_uri": "https://localhost:8080/"
        },
        "id": "mH93KEXAQTpZ",
        "outputId": "eaf3f562-3010-4100-e0b9-84b4515d67dd"
      },
      "outputs": [
        {
          "output_type": "stream",
          "name": "stderr",
          "text": [
            "/usr/local/lib/python3.7/dist-packages/sklearn/manifold/_t_sne.py:783: FutureWarning: The default initialization in TSNE will change from 'random' to 'pca' in 1.2.\n",
            "  FutureWarning,\n",
            "/usr/local/lib/python3.7/dist-packages/sklearn/manifold/_t_sne.py:793: FutureWarning: The default learning rate in TSNE will change from 200.0 to 'auto' in 1.2.\n",
            "  FutureWarning,\n"
          ]
        }
      ],
      "source": [
        "vae_tsne_2d_coords = TSNE(n_components=2).fit_transform(encode_seq[1])"
      ]
    },
    {
      "cell_type": "code",
      "source": [
        "vae_tsne_2d_coords"
      ],
      "metadata": {
        "id": "1rSD6qkGjXfu"
      },
      "execution_count": null,
      "outputs": []
    },
    {
      "cell_type": "code",
      "execution_count": null,
      "metadata": {
        "id": "vpMMkzi3QTpa"
      },
      "outputs": [],
      "source": [
        "# save coordinates\n",
        "np.save('/content/gdrive/MyDrive/Projet_long/vae_tsne_2d_coords', vae_tsne_2d_coords)"
      ]
    },
    {
      "cell_type": "markdown",
      "metadata": {
        "id": "ex6mMYLC9fdB"
      },
      "source": [
        "# LDA"
      ]
    },
    {
      "cell_type": "code",
      "execution_count": null,
      "metadata": {
        "id": "nRulNYhjVxBs"
      },
      "outputs": [],
      "source": [
        "vae_LDA_2d_coords = LinearDiscriminantAnalysis(n_components=2).fit_transform(encode_seq[1], fold_arra) "
      ]
    },
    {
      "cell_type": "code",
      "execution_count": null,
      "metadata": {
        "id": "ZQ5MnRTaVxBt"
      },
      "outputs": [],
      "source": [
        "# save coordinates\n",
        "np.save('/content/gdrive/MyDrive/Projet_long/vae_LDA_2d_coords', vae_LDA_2d_coords)"
      ]
    },
    {
      "cell_type": "markdown",
      "source": [
        "# Add coords to the dataframe"
      ],
      "metadata": {
        "id": "MchKAUMLjbyg"
      }
    },
    {
      "cell_type": "code",
      "source": [
        "def edit_datframe(dataframe, coords):\n",
        "  x_coord = coords[:, 0].tolist()\n",
        "  y_coord = coords[:, 1].tolist()\n",
        "  dataframe['x_coords'] = x_coord\n",
        "  dataframe['y_coords'] = y_coord\n",
        "\n",
        "  return dataframe"
      ],
      "metadata": {
        "id": "bKC1Jx6OjiLO"
      },
      "execution_count": null,
      "outputs": []
    },
    {
      "cell_type": "code",
      "source": [
        "df2 = edit_datframe(df, vae_tsne_2d_coords)"
      ],
      "metadata": {
        "id": "bBfK2raEjokk"
      },
      "execution_count": null,
      "outputs": []
    },
    {
      "cell_type": "code",
      "source": [
        "df2.to_csv('/content/gdrive/MyDrive/Projet_long/dataframe/df2.csv')"
      ],
      "metadata": {
        "id": "R7MmkwkxjwS7"
      },
      "execution_count": null,
      "outputs": []
    }
  ]
}